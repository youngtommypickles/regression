{
 "cells": [
  {
   "cell_type": "markdown",
   "id": "c4ca16f2",
   "metadata": {},
   "source": [
    "# Отчет по курсовому проекту по эконометрике\n",
    "## Cтудент: Цыкин Иван\n",
    "## Вариант 12"
   ]
  },
  {
   "cell_type": "markdown",
   "id": "7088661f",
   "metadata": {},
   "source": [
    "## 2.0 Библиотеки"
   ]
  },
  {
   "cell_type": "code",
   "execution_count": 1,
   "id": "8d1bdec4",
   "metadata": {},
   "outputs": [],
   "source": [
    "import numpy as np\n",
    "import math\n",
    "import matplotlib.pyplot as plt\n",
    "import pandas as pd\n",
    "import seaborn as sns\n",
    "from scipy.stats import f\n",
    "from sklearn.linear_model import QuantileRegressor\n",
    "from scipy.stats import normaltest\n",
    "from scipy.stats import bartlett\n",
    "from sklearn.preprocessing import PolynomialFeatures\n",
    "from sklearn.linear_model import LinearRegression\n",
    "from sklearn.linear_model import Ridge\n",
    "import warnings\n",
    "import random\n",
    "warnings.filterwarnings('ignore')"
   ]
  },
  {
   "cell_type": "markdown",
   "id": "de039290",
   "metadata": {},
   "source": [
    "## 2.1 Модельная часть"
   ]
  },
  {
   "cell_type": "markdown",
   "id": "c4016c57",
   "metadata": {},
   "source": [
    "$$ \\Large f(h)=sin(3x)+1.5cos(4x)+2x $$\n",
    "$$ \\Large-2 < h < 2 $$\n",
    "$$ \\Large\\sigma^2 = 2 $$"
   ]
  },
  {
   "cell_type": "code",
   "execution_count": 2,
   "id": "fda3745b",
   "metadata": {},
   "outputs": [],
   "source": [
    "k = 100\n",
    "mu, sigma = 0, math.sqrt(2)\n",
    "t = np.linspace(-2, 2, k)\n",
    "df = pd.DataFrame(t[20:80], columns=['t'])\n",
    "df_test = pd.DataFrame(np.append(t[0:20], t[80:100]), columns=['t'])"
   ]
  },
  {
   "cell_type": "code",
   "execution_count": 3,
   "id": "69cc416a",
   "metadata": {},
   "outputs": [],
   "source": [
    "def f_(x):\n",
    "    return math.sin(3*x) + 1.5*math.cos(4*x) + 2*x"
   ]
  },
  {
   "cell_type": "code",
   "execution_count": 4,
   "id": "2aa4c315",
   "metadata": {},
   "outputs": [],
   "source": [
    "e = np.random.normal(mu, sigma, k)\n",
    "df['e'] = e[20:80]\n",
    "df_test['e']= np.append(e[0:20], e[80:100])"
   ]
  },
  {
   "cell_type": "code",
   "execution_count": 5,
   "id": "ddf2ce18",
   "metadata": {},
   "outputs": [],
   "source": [
    "x = np.array([f_(t[i])+e[i] for i in range(len(t))])\n",
    "df['x'] = x[20:80]\n",
    "df_test['x']= np.append(x[0:20], x[80:100])"
   ]
  },
  {
   "cell_type": "code",
   "execution_count": 6,
   "id": "732f3735",
   "metadata": {},
   "outputs": [
    {
     "data": {
      "text/html": [
       "<div>\n",
       "<style scoped>\n",
       "    .dataframe tbody tr th:only-of-type {\n",
       "        vertical-align: middle;\n",
       "    }\n",
       "\n",
       "    .dataframe tbody tr th {\n",
       "        vertical-align: top;\n",
       "    }\n",
       "\n",
       "    .dataframe thead th {\n",
       "        text-align: right;\n",
       "    }\n",
       "</style>\n",
       "<table border=\"1\" class=\"dataframe\">\n",
       "  <thead>\n",
       "    <tr style=\"text-align: right;\">\n",
       "      <th></th>\n",
       "      <th>0</th>\n",
       "      <th>1</th>\n",
       "      <th>2</th>\n",
       "      <th>3</th>\n",
       "      <th>4</th>\n",
       "      <th>5</th>\n",
       "      <th>6</th>\n",
       "      <th>7</th>\n",
       "      <th>8</th>\n",
       "      <th>9</th>\n",
       "      <th>...</th>\n",
       "      <th>50</th>\n",
       "      <th>51</th>\n",
       "      <th>52</th>\n",
       "      <th>53</th>\n",
       "      <th>54</th>\n",
       "      <th>55</th>\n",
       "      <th>56</th>\n",
       "      <th>57</th>\n",
       "      <th>58</th>\n",
       "      <th>59</th>\n",
       "    </tr>\n",
       "  </thead>\n",
       "  <tbody>\n",
       "    <tr>\n",
       "      <th>t</th>\n",
       "      <td>-1.191919</td>\n",
       "      <td>-1.151515</td>\n",
       "      <td>-1.111111</td>\n",
       "      <td>-1.070707</td>\n",
       "      <td>-1.030303</td>\n",
       "      <td>-0.989899</td>\n",
       "      <td>-0.949495</td>\n",
       "      <td>-0.909091</td>\n",
       "      <td>-0.868687</td>\n",
       "      <td>-0.828283</td>\n",
       "      <td>...</td>\n",
       "      <td>0.828283</td>\n",
       "      <td>0.868687</td>\n",
       "      <td>0.909091</td>\n",
       "      <td>0.949495</td>\n",
       "      <td>0.989899</td>\n",
       "      <td>1.030303</td>\n",
       "      <td>1.070707</td>\n",
       "      <td>1.111111</td>\n",
       "      <td>1.151515</td>\n",
       "      <td>1.191919</td>\n",
       "    </tr>\n",
       "    <tr>\n",
       "      <th>e</th>\n",
       "      <td>0.912670</td>\n",
       "      <td>2.619852</td>\n",
       "      <td>3.459131</td>\n",
       "      <td>0.951672</td>\n",
       "      <td>1.172099</td>\n",
       "      <td>-4.008235</td>\n",
       "      <td>0.710613</td>\n",
       "      <td>0.790720</td>\n",
       "      <td>1.319915</td>\n",
       "      <td>-0.852677</td>\n",
       "      <td>...</td>\n",
       "      <td>0.778847</td>\n",
       "      <td>-2.100256</td>\n",
       "      <td>-3.734664</td>\n",
       "      <td>-0.782594</td>\n",
       "      <td>-2.320515</td>\n",
       "      <td>-0.119996</td>\n",
       "      <td>-2.155087</td>\n",
       "      <td>1.567651</td>\n",
       "      <td>-0.477872</td>\n",
       "      <td>1.526083</td>\n",
       "    </tr>\n",
       "    <tr>\n",
       "      <th>x</th>\n",
       "      <td>-0.967626</td>\n",
       "      <td>0.465499</td>\n",
       "      <td>1.030352</td>\n",
       "      <td>-1.743980</td>\n",
       "      <td>-1.775176</td>\n",
       "      <td>-7.184603</td>\n",
       "      <td>-2.665609</td>\n",
       "      <td>-2.750146</td>\n",
       "      <td>-2.345281</td>\n",
       "      <td>-4.597769</td>\n",
       "      <td>...</td>\n",
       "      <td>1.567969</td>\n",
       "      <td>-1.270106</td>\n",
       "      <td>-2.834031</td>\n",
       "      <td>0.217021</td>\n",
       "      <td>-1.195187</td>\n",
       "      <td>1.155264</td>\n",
       "      <td>-0.708850</td>\n",
       "      <td>3.202181</td>\n",
       "      <td>1.358096</td>\n",
       "      <td>3.572158</td>\n",
       "    </tr>\n",
       "  </tbody>\n",
       "</table>\n",
       "<p>3 rows × 60 columns</p>\n",
       "</div>"
      ],
      "text/plain": [
       "         0         1         2         3         4         5         6   \\\n",
       "t -1.191919 -1.151515 -1.111111 -1.070707 -1.030303 -0.989899 -0.949495   \n",
       "e  0.912670  2.619852  3.459131  0.951672  1.172099 -4.008235  0.710613   \n",
       "x -0.967626  0.465499  1.030352 -1.743980 -1.775176 -7.184603 -2.665609   \n",
       "\n",
       "         7         8         9   ...        50        51        52        53  \\\n",
       "t -0.909091 -0.868687 -0.828283  ...  0.828283  0.868687  0.909091  0.949495   \n",
       "e  0.790720  1.319915 -0.852677  ...  0.778847 -2.100256 -3.734664 -0.782594   \n",
       "x -2.750146 -2.345281 -4.597769  ...  1.567969 -1.270106 -2.834031  0.217021   \n",
       "\n",
       "         54        55        56        57        58        59  \n",
       "t  0.989899  1.030303  1.070707  1.111111  1.151515  1.191919  \n",
       "e -2.320515 -0.119996 -2.155087  1.567651 -0.477872  1.526083  \n",
       "x -1.195187  1.155264 -0.708850  3.202181  1.358096  3.572158  \n",
       "\n",
       "[3 rows x 60 columns]"
      ]
     },
     "execution_count": 6,
     "metadata": {},
     "output_type": "execute_result"
    }
   ],
   "source": [
    "df.T"
   ]
  },
  {
   "cell_type": "code",
   "execution_count": 7,
   "id": "2bc7112a",
   "metadata": {},
   "outputs": [
    {
     "data": {
      "text/plain": [
       "(60, 3)"
      ]
     },
     "execution_count": 7,
     "metadata": {},
     "output_type": "execute_result"
    }
   ],
   "source": [
    "df.shape"
   ]
  },
  {
   "cell_type": "code",
   "execution_count": 8,
   "id": "66eec540",
   "metadata": {},
   "outputs": [
    {
     "data": {
      "text/html": [
       "<div>\n",
       "<style scoped>\n",
       "    .dataframe tbody tr th:only-of-type {\n",
       "        vertical-align: middle;\n",
       "    }\n",
       "\n",
       "    .dataframe tbody tr th {\n",
       "        vertical-align: top;\n",
       "    }\n",
       "\n",
       "    .dataframe thead th {\n",
       "        text-align: right;\n",
       "    }\n",
       "</style>\n",
       "<table border=\"1\" class=\"dataframe\">\n",
       "  <thead>\n",
       "    <tr style=\"text-align: right;\">\n",
       "      <th></th>\n",
       "      <th>0</th>\n",
       "      <th>1</th>\n",
       "      <th>2</th>\n",
       "      <th>3</th>\n",
       "      <th>4</th>\n",
       "      <th>5</th>\n",
       "      <th>6</th>\n",
       "      <th>7</th>\n",
       "      <th>8</th>\n",
       "      <th>9</th>\n",
       "      <th>...</th>\n",
       "      <th>30</th>\n",
       "      <th>31</th>\n",
       "      <th>32</th>\n",
       "      <th>33</th>\n",
       "      <th>34</th>\n",
       "      <th>35</th>\n",
       "      <th>36</th>\n",
       "      <th>37</th>\n",
       "      <th>38</th>\n",
       "      <th>39</th>\n",
       "    </tr>\n",
       "  </thead>\n",
       "  <tbody>\n",
       "    <tr>\n",
       "      <th>t</th>\n",
       "      <td>-2.000000</td>\n",
       "      <td>-1.959596</td>\n",
       "      <td>-1.919192</td>\n",
       "      <td>-1.878788</td>\n",
       "      <td>-1.838384</td>\n",
       "      <td>-1.797980</td>\n",
       "      <td>-1.757576</td>\n",
       "      <td>-1.717172</td>\n",
       "      <td>-1.676768</td>\n",
       "      <td>-1.636364</td>\n",
       "      <td>...</td>\n",
       "      <td>1.636364</td>\n",
       "      <td>1.676768</td>\n",
       "      <td>1.717172</td>\n",
       "      <td>1.757576</td>\n",
       "      <td>1.797980</td>\n",
       "      <td>1.838384</td>\n",
       "      <td>1.878788</td>\n",
       "      <td>1.919192</td>\n",
       "      <td>1.959596</td>\n",
       "      <td>2.000000</td>\n",
       "    </tr>\n",
       "    <tr>\n",
       "      <th>e</th>\n",
       "      <td>-2.947741</td>\n",
       "      <td>-2.015289</td>\n",
       "      <td>-0.941866</td>\n",
       "      <td>0.254031</td>\n",
       "      <td>-3.270297</td>\n",
       "      <td>0.492599</td>\n",
       "      <td>-0.965365</td>\n",
       "      <td>-0.182704</td>\n",
       "      <td>-0.826757</td>\n",
       "      <td>0.409987</td>\n",
       "      <td>...</td>\n",
       "      <td>2.009857</td>\n",
       "      <td>-0.440639</td>\n",
       "      <td>-1.071631</td>\n",
       "      <td>-0.013538</td>\n",
       "      <td>-0.255151</td>\n",
       "      <td>-0.486510</td>\n",
       "      <td>-1.121627</td>\n",
       "      <td>-1.191364</td>\n",
       "      <td>-0.695439</td>\n",
       "      <td>1.310375</td>\n",
       "    </tr>\n",
       "    <tr>\n",
       "      <th>x</th>\n",
       "      <td>-6.886575</td>\n",
       "      <td>-5.517620</td>\n",
       "      <td>-4.014078</td>\n",
       "      <td>-2.402316</td>\n",
       "      <td>-5.532617</td>\n",
       "      <td>-1.404646</td>\n",
       "      <td>-2.532966</td>\n",
       "      <td>-1.461771</td>\n",
       "      <td>-1.863156</td>\n",
       "      <td>-0.433317</td>\n",
       "      <td>...</td>\n",
       "      <td>5.750574</td>\n",
       "      <td>3.330253</td>\n",
       "      <td>2.707742</td>\n",
       "      <td>3.755013</td>\n",
       "      <td>3.486329</td>\n",
       "      <td>3.215261</td>\n",
       "      <td>2.531871</td>\n",
       "      <td>2.409711</td>\n",
       "      <td>2.853684</td>\n",
       "      <td>4.812709</td>\n",
       "    </tr>\n",
       "  </tbody>\n",
       "</table>\n",
       "<p>3 rows × 40 columns</p>\n",
       "</div>"
      ],
      "text/plain": [
       "         0         1         2         3         4         5         6   \\\n",
       "t -2.000000 -1.959596 -1.919192 -1.878788 -1.838384 -1.797980 -1.757576   \n",
       "e -2.947741 -2.015289 -0.941866  0.254031 -3.270297  0.492599 -0.965365   \n",
       "x -6.886575 -5.517620 -4.014078 -2.402316 -5.532617 -1.404646 -2.532966   \n",
       "\n",
       "         7         8         9   ...        30        31        32        33  \\\n",
       "t -1.717172 -1.676768 -1.636364  ...  1.636364  1.676768  1.717172  1.757576   \n",
       "e -0.182704 -0.826757  0.409987  ...  2.009857 -0.440639 -1.071631 -0.013538   \n",
       "x -1.461771 -1.863156 -0.433317  ...  5.750574  3.330253  2.707742  3.755013   \n",
       "\n",
       "         34        35        36        37        38        39  \n",
       "t  1.797980  1.838384  1.878788  1.919192  1.959596  2.000000  \n",
       "e -0.255151 -0.486510 -1.121627 -1.191364 -0.695439  1.310375  \n",
       "x  3.486329  3.215261  2.531871  2.409711  2.853684  4.812709  \n",
       "\n",
       "[3 rows x 40 columns]"
      ]
     },
     "execution_count": 8,
     "metadata": {},
     "output_type": "execute_result"
    }
   ],
   "source": [
    "df_test.T"
   ]
  },
  {
   "cell_type": "code",
   "execution_count": 9,
   "id": "c01865d6",
   "metadata": {},
   "outputs": [
    {
     "data": {
      "text/plain": [
       "(40, 3)"
      ]
     },
     "execution_count": 9,
     "metadata": {},
     "output_type": "execute_result"
    }
   ],
   "source": [
    "df_test.shape"
   ]
  },
  {
   "cell_type": "code",
   "execution_count": 10,
   "id": "dfd80277",
   "metadata": {},
   "outputs": [
    {
     "data": {
      "image/png": "[encoded data removed]",
      "text/plain": [
       "<Figure size 1152x432 with 1 Axes>"
      ]
     },
     "metadata": {
      "needs_background": "light"
     },
     "output_type": "display_data"
    }
   ],
   "source": [
    "fig, ax = plt.subplots(figsize=(16, 6))\n",
    "ax.plot(t, [f_(i) for i in t], '--',color='coral', linewidth = 5, label='Исходная функция')\n",
    "ax.scatter(df['t'], df['x'], color='mediumpurple', s=60, label='Наблюдения')\n",
    "ax.scatter(df_test['t'], df_test['x'], color='purple', s=60, label='Тестовые наблюдения')\n",
    "ax.set_xlabel('Параметры h')\n",
    "ax.set_ylabel('Значения Х')\n",
    "ax.grid()\n",
    "ax.legend()\n",
    "plt.show()"
   ]
  },
  {
   "cell_type": "markdown",
   "id": "f2d284c2",
   "metadata": {},
   "source": [
    "$ \\large В \\: результате \\: получилось \\: смоделировать \\: выборку \\: по \\: данным \\: мне \\: условиям. \\: На \\: графике \\: приведены \\: значения \\: исходной \\: функции, \\: она \\: изображена \\: оранжевым \\: пунктиром. \\: Лавандовые \\: точки \\: изображены \\: наблюдения \\: тренировочной \\: выборки, \\: а \\: фиолетовыми \\: изображены \\: тесовые \\: наблюдения, \\: которые \\: находятся \\: слева \\: и \\: справа \\: от \\: тестовой. \\: Все \\: значения \\: смоделированы \\: согласно \\: условиям, \\: что \\: на \\: исходную \\: функцию \\: влияют \\: ошибки \\: нормального \\: распределения.$"
   ]
  },
  {
   "cell_type": "markdown",
   "id": "cb5bf9a1",
   "metadata": {},
   "source": [
    "## 2.2. Метод наименьших квадратов"
   ]
  },
  {
   "cell_type": "markdown",
   "id": "5b2469aa",
   "metadata": {},
   "source": [
    "$$ \\Large Для \\; модели \\; Y_k = \\theta_0 + \\theta_1 \\cdot h_k, \\; k = 1 ..60 \\;$$\n",
    "$$$$\n",
    "$ \\Large -\\; найти \\; МНК-оцеку \\; неизвестных \\; параметров$"
   ]
  },
  {
   "cell_type": "markdown",
   "id": "dd120f6e",
   "metadata": {},
   "source": [
    "$ \\Large Найдем \\; ее \\; по \\; формуле:$\n",
    "$$\\Large \\hat{\\Theta} = (H^T \\cdot H)^{-1} H^T Y$$"
   ]
  },
  {
   "cell_type": "code",
   "execution_count": 11,
   "id": "6e1f83ea",
   "metadata": {},
   "outputs": [
    {
     "data": {
      "text/plain": [
       "((60, 2), (2, 60))"
      ]
     },
     "execution_count": 11,
     "metadata": {},
     "output_type": "execute_result"
    }
   ],
   "source": [
    "H_T = np.array([[1 for i in range(60)], df['t']])\n",
    "H = H_T.T\n",
    "H.shape, H_T.shape"
   ]
  },
  {
   "cell_type": "code",
   "execution_count": 12,
   "id": "eaf3a2f5",
   "metadata": {},
   "outputs": [
    {
     "name": "stdout",
     "output_type": "stream",
     "text": [
      "МНК-оценка: -0.5320956476704726 2.173201718708428\n"
     ]
    }
   ],
   "source": [
    "W = np.dot(H_T, H)\n",
    "W = np.linalg.inv(W)\n",
    "HX = np.dot(H_T, df.x)\n",
    "tetha = np.dot(W, HX)\n",
    "print('МНК-оценка:', tetha[0], tetha[1])"
   ]
  },
  {
   "cell_type": "code",
   "execution_count": 13,
   "id": "aa59ed45",
   "metadata": {},
   "outputs": [
    {
     "data": {
      "text/html": [
       "<div>\n",
       "<style scoped>\n",
       "    .dataframe tbody tr th:only-of-type {\n",
       "        vertical-align: middle;\n",
       "    }\n",
       "\n",
       "    .dataframe tbody tr th {\n",
       "        vertical-align: top;\n",
       "    }\n",
       "\n",
       "    .dataframe thead th {\n",
       "        text-align: right;\n",
       "    }\n",
       "</style>\n",
       "<table border=\"1\" class=\"dataframe\">\n",
       "  <thead>\n",
       "    <tr style=\"text-align: right;\">\n",
       "      <th></th>\n",
       "      <th>0</th>\n",
       "      <th>1</th>\n",
       "      <th>2</th>\n",
       "      <th>3</th>\n",
       "      <th>4</th>\n",
       "      <th>5</th>\n",
       "      <th>6</th>\n",
       "      <th>7</th>\n",
       "      <th>8</th>\n",
       "      <th>9</th>\n",
       "      <th>...</th>\n",
       "      <th>50</th>\n",
       "      <th>51</th>\n",
       "      <th>52</th>\n",
       "      <th>53</th>\n",
       "      <th>54</th>\n",
       "      <th>55</th>\n",
       "      <th>56</th>\n",
       "      <th>57</th>\n",
       "      <th>58</th>\n",
       "      <th>59</th>\n",
       "    </tr>\n",
       "  </thead>\n",
       "  <tbody>\n",
       "    <tr>\n",
       "      <th>t</th>\n",
       "      <td>-1.191919</td>\n",
       "      <td>-1.151515</td>\n",
       "      <td>-1.111111</td>\n",
       "      <td>-1.070707</td>\n",
       "      <td>-1.030303</td>\n",
       "      <td>-0.989899</td>\n",
       "      <td>-0.949495</td>\n",
       "      <td>-0.909091</td>\n",
       "      <td>-0.868687</td>\n",
       "      <td>-0.828283</td>\n",
       "      <td>...</td>\n",
       "      <td>0.828283</td>\n",
       "      <td>0.868687</td>\n",
       "      <td>0.909091</td>\n",
       "      <td>0.949495</td>\n",
       "      <td>0.989899</td>\n",
       "      <td>1.030303</td>\n",
       "      <td>1.070707</td>\n",
       "      <td>1.111111</td>\n",
       "      <td>1.151515</td>\n",
       "      <td>1.191919</td>\n",
       "    </tr>\n",
       "    <tr>\n",
       "      <th>e</th>\n",
       "      <td>0.912670</td>\n",
       "      <td>2.619852</td>\n",
       "      <td>3.459131</td>\n",
       "      <td>0.951672</td>\n",
       "      <td>1.172099</td>\n",
       "      <td>-4.008235</td>\n",
       "      <td>0.710613</td>\n",
       "      <td>0.790720</td>\n",
       "      <td>1.319915</td>\n",
       "      <td>-0.852677</td>\n",
       "      <td>...</td>\n",
       "      <td>0.778847</td>\n",
       "      <td>-2.100256</td>\n",
       "      <td>-3.734664</td>\n",
       "      <td>-0.782594</td>\n",
       "      <td>-2.320515</td>\n",
       "      <td>-0.119996</td>\n",
       "      <td>-2.155087</td>\n",
       "      <td>1.567651</td>\n",
       "      <td>-0.477872</td>\n",
       "      <td>1.526083</td>\n",
       "    </tr>\n",
       "    <tr>\n",
       "      <th>x</th>\n",
       "      <td>-0.967626</td>\n",
       "      <td>0.465499</td>\n",
       "      <td>1.030352</td>\n",
       "      <td>-1.743980</td>\n",
       "      <td>-1.775176</td>\n",
       "      <td>-7.184603</td>\n",
       "      <td>-2.665609</td>\n",
       "      <td>-2.750146</td>\n",
       "      <td>-2.345281</td>\n",
       "      <td>-4.597769</td>\n",
       "      <td>...</td>\n",
       "      <td>1.567969</td>\n",
       "      <td>-1.270106</td>\n",
       "      <td>-2.834031</td>\n",
       "      <td>0.217021</td>\n",
       "      <td>-1.195187</td>\n",
       "      <td>1.155264</td>\n",
       "      <td>-0.708850</td>\n",
       "      <td>3.202181</td>\n",
       "      <td>1.358096</td>\n",
       "      <td>3.572158</td>\n",
       "    </tr>\n",
       "    <tr>\n",
       "      <th>Xmnk</th>\n",
       "      <td>-3.122376</td>\n",
       "      <td>-3.034570</td>\n",
       "      <td>-2.946764</td>\n",
       "      <td>-2.858958</td>\n",
       "      <td>-2.771152</td>\n",
       "      <td>-2.683346</td>\n",
       "      <td>-2.595540</td>\n",
       "      <td>-2.507734</td>\n",
       "      <td>-2.419927</td>\n",
       "      <td>-2.332121</td>\n",
       "      <td>...</td>\n",
       "      <td>1.267930</td>\n",
       "      <td>1.355736</td>\n",
       "      <td>1.443542</td>\n",
       "      <td>1.531348</td>\n",
       "      <td>1.619155</td>\n",
       "      <td>1.706961</td>\n",
       "      <td>1.794767</td>\n",
       "      <td>1.882573</td>\n",
       "      <td>1.970379</td>\n",
       "      <td>2.058185</td>\n",
       "    </tr>\n",
       "    <tr>\n",
       "      <th>X_true</th>\n",
       "      <td>-1.880296</td>\n",
       "      <td>-2.154353</td>\n",
       "      <td>-2.428779</td>\n",
       "      <td>-2.695651</td>\n",
       "      <td>-2.947276</td>\n",
       "      <td>-3.176368</td>\n",
       "      <td>-3.376222</td>\n",
       "      <td>-3.540866</td>\n",
       "      <td>-3.665195</td>\n",
       "      <td>-3.745092</td>\n",
       "      <td>...</td>\n",
       "      <td>0.789122</td>\n",
       "      <td>0.830149</td>\n",
       "      <td>0.900633</td>\n",
       "      <td>0.999616</td>\n",
       "      <td>1.125329</td>\n",
       "      <td>1.275260</td>\n",
       "      <td>1.446237</td>\n",
       "      <td>1.634529</td>\n",
       "      <td>1.835969</td>\n",
       "      <td>2.046075</td>\n",
       "    </tr>\n",
       "  </tbody>\n",
       "</table>\n",
       "<p>5 rows × 60 columns</p>\n",
       "</div>"
      ],
      "text/plain": [
       "              0         1         2         3         4         5         6   \\\n",
       "t      -1.191919 -1.151515 -1.111111 -1.070707 -1.030303 -0.989899 -0.949495   \n",
       "e       0.912670  2.619852  3.459131  0.951672  1.172099 -4.008235  0.710613   \n",
       "x      -0.967626  0.465499  1.030352 -1.743980 -1.775176 -7.184603 -2.665609   \n",
       "Xmnk   -3.122376 -3.034570 -2.946764 -2.858958 -2.771152 -2.683346 -2.595540   \n",
       "X_true -1.880296 -2.154353 -2.428779 -2.695651 -2.947276 -3.176368 -3.376222   \n",
       "\n",
       "              7         8         9   ...        50        51        52  \\\n",
       "t      -0.909091 -0.868687 -0.828283  ...  0.828283  0.868687  0.909091   \n",
       "e       0.790720  1.319915 -0.852677  ...  0.778847 -2.100256 -3.734664   \n",
       "x      -2.750146 -2.345281 -4.597769  ...  1.567969 -1.270106 -2.834031   \n",
       "Xmnk   -2.507734 -2.419927 -2.332121  ...  1.267930  1.355736  1.443542   \n",
       "X_true -3.540866 -3.665195 -3.745092  ...  0.789122  0.830149  0.900633   \n",
       "\n",
       "              53        54        55        56        57        58        59  \n",
       "t       0.949495  0.989899  1.030303  1.070707  1.111111  1.151515  1.191919  \n",
       "e      -0.782594 -2.320515 -0.119996 -2.155087  1.567651 -0.477872  1.526083  \n",
       "x       0.217021 -1.195187  1.155264 -0.708850  3.202181  1.358096  3.572158  \n",
       "Xmnk    1.531348  1.619155  1.706961  1.794767  1.882573  1.970379  2.058185  \n",
       "X_true  0.999616  1.125329  1.275260  1.446237  1.634529  1.835969  2.046075  \n",
       "\n",
       "[5 rows x 60 columns]"
      ]
     },
     "execution_count": 13,
     "metadata": {},
     "output_type": "execute_result"
    }
   ],
   "source": [
    "Xmnk = np.array([tetha[0] + tetha[1]*i for i in df.t])\n",
    "X_true = np.array([f_(i) for i in df.t])\n",
    "df['Xmnk'] = Xmnk\n",
    "df['X_true'] = X_true\n",
    "df.T"
   ]
  },
  {
   "cell_type": "markdown",
   "id": "ae161cbc",
   "metadata": {},
   "source": [
    "$\\Large - \\; Построить \\; график:$"
   ]
  },
  {
   "cell_type": "code",
   "execution_count": 14,
   "id": "71a28047",
   "metadata": {},
   "outputs": [
    {
     "data": {
      "image/png": "[encoded data removed]",
      "text/plain": [
       "<Figure size 1152x432 with 1 Axes>"
      ]
     },
     "metadata": {
      "needs_background": "light"
     },
     "output_type": "display_data"
    }
   ],
   "source": [
    "fig, ax = plt.subplots(figsize=(16, 6))\n",
    "ax.plot(df['t'], df['X_true'], '--',color='coral', linewidth = 5, label='Исходная функция')\n",
    "ax.plot(df['t'], df['Xmnk'], color='khaki', linewidth = 5, label='МНК')\n",
    "ax.scatter(df['t'], df['x'], color='mediumpurple', s=60, label='Наблюдения')\n",
    "ax.set_xlabel('Параметры h')\n",
    "ax.set_ylabel('Значения Х')\n",
    "ax.grid()\n",
    "ax.legend()\n",
    "plt.show()"
   ]
  },
  {
   "cell_type": "markdown",
   "id": "8b78896d",
   "metadata": {},
   "source": [
    "$ \\Large -\\; Вычислить \\; коэффициент \\; детерминации \\; и\\; найти\\; оценку\\; ковариационной\\; матрицы\\;\n",
    "МНК-оценки:$"
   ]
  },
  {
   "cell_type": "code",
   "execution_count": 15,
   "id": "751ca4e9",
   "metadata": {
    "scrolled": false
   },
   "outputs": [
    {
     "data": {
      "text/html": [
       "<div>\n",
       "<style scoped>\n",
       "    .dataframe tbody tr th:only-of-type {\n",
       "        vertical-align: middle;\n",
       "    }\n",
       "\n",
       "    .dataframe tbody tr th {\n",
       "        vertical-align: top;\n",
       "    }\n",
       "\n",
       "    .dataframe thead th {\n",
       "        text-align: right;\n",
       "    }\n",
       "</style>\n",
       "<table border=\"1\" class=\"dataframe\">\n",
       "  <thead>\n",
       "    <tr style=\"text-align: right;\">\n",
       "      <th></th>\n",
       "      <th>0</th>\n",
       "      <th>1</th>\n",
       "      <th>2</th>\n",
       "      <th>3</th>\n",
       "      <th>4</th>\n",
       "      <th>5</th>\n",
       "      <th>6</th>\n",
       "      <th>7</th>\n",
       "      <th>8</th>\n",
       "      <th>9</th>\n",
       "      <th>...</th>\n",
       "      <th>50</th>\n",
       "      <th>51</th>\n",
       "      <th>52</th>\n",
       "      <th>53</th>\n",
       "      <th>54</th>\n",
       "      <th>55</th>\n",
       "      <th>56</th>\n",
       "      <th>57</th>\n",
       "      <th>58</th>\n",
       "      <th>59</th>\n",
       "    </tr>\n",
       "  </thead>\n",
       "  <tbody>\n",
       "    <tr>\n",
       "      <th>t</th>\n",
       "      <td>-1.191919</td>\n",
       "      <td>-1.151515</td>\n",
       "      <td>-1.111111</td>\n",
       "      <td>-1.070707</td>\n",
       "      <td>-1.030303</td>\n",
       "      <td>-0.989899</td>\n",
       "      <td>-0.949495</td>\n",
       "      <td>-0.909091</td>\n",
       "      <td>-0.868687</td>\n",
       "      <td>-0.828283</td>\n",
       "      <td>...</td>\n",
       "      <td>0.828283</td>\n",
       "      <td>0.868687</td>\n",
       "      <td>0.909091</td>\n",
       "      <td>0.949495</td>\n",
       "      <td>0.989899</td>\n",
       "      <td>1.030303</td>\n",
       "      <td>1.070707</td>\n",
       "      <td>1.111111</td>\n",
       "      <td>1.151515</td>\n",
       "      <td>1.191919</td>\n",
       "    </tr>\n",
       "    <tr>\n",
       "      <th>e</th>\n",
       "      <td>0.912670</td>\n",
       "      <td>2.619852</td>\n",
       "      <td>3.459131</td>\n",
       "      <td>0.951672</td>\n",
       "      <td>1.172099</td>\n",
       "      <td>-4.008235</td>\n",
       "      <td>0.710613</td>\n",
       "      <td>0.790720</td>\n",
       "      <td>1.319915</td>\n",
       "      <td>-0.852677</td>\n",
       "      <td>...</td>\n",
       "      <td>0.778847</td>\n",
       "      <td>-2.100256</td>\n",
       "      <td>-3.734664</td>\n",
       "      <td>-0.782594</td>\n",
       "      <td>-2.320515</td>\n",
       "      <td>-0.119996</td>\n",
       "      <td>-2.155087</td>\n",
       "      <td>1.567651</td>\n",
       "      <td>-0.477872</td>\n",
       "      <td>1.526083</td>\n",
       "    </tr>\n",
       "    <tr>\n",
       "      <th>x</th>\n",
       "      <td>-0.967626</td>\n",
       "      <td>0.465499</td>\n",
       "      <td>1.030352</td>\n",
       "      <td>-1.743980</td>\n",
       "      <td>-1.775176</td>\n",
       "      <td>-7.184603</td>\n",
       "      <td>-2.665609</td>\n",
       "      <td>-2.750146</td>\n",
       "      <td>-2.345281</td>\n",
       "      <td>-4.597769</td>\n",
       "      <td>...</td>\n",
       "      <td>1.567969</td>\n",
       "      <td>-1.270106</td>\n",
       "      <td>-2.834031</td>\n",
       "      <td>0.217021</td>\n",
       "      <td>-1.195187</td>\n",
       "      <td>1.155264</td>\n",
       "      <td>-0.708850</td>\n",
       "      <td>3.202181</td>\n",
       "      <td>1.358096</td>\n",
       "      <td>3.572158</td>\n",
       "    </tr>\n",
       "    <tr>\n",
       "      <th>Xmnk</th>\n",
       "      <td>-3.122376</td>\n",
       "      <td>-3.034570</td>\n",
       "      <td>-2.946764</td>\n",
       "      <td>-2.858958</td>\n",
       "      <td>-2.771152</td>\n",
       "      <td>-2.683346</td>\n",
       "      <td>-2.595540</td>\n",
       "      <td>-2.507734</td>\n",
       "      <td>-2.419927</td>\n",
       "      <td>-2.332121</td>\n",
       "      <td>...</td>\n",
       "      <td>1.267930</td>\n",
       "      <td>1.355736</td>\n",
       "      <td>1.443542</td>\n",
       "      <td>1.531348</td>\n",
       "      <td>1.619155</td>\n",
       "      <td>1.706961</td>\n",
       "      <td>1.794767</td>\n",
       "      <td>1.882573</td>\n",
       "      <td>1.970379</td>\n",
       "      <td>2.058185</td>\n",
       "    </tr>\n",
       "    <tr>\n",
       "      <th>X_true</th>\n",
       "      <td>-1.880296</td>\n",
       "      <td>-2.154353</td>\n",
       "      <td>-2.428779</td>\n",
       "      <td>-2.695651</td>\n",
       "      <td>-2.947276</td>\n",
       "      <td>-3.176368</td>\n",
       "      <td>-3.376222</td>\n",
       "      <td>-3.540866</td>\n",
       "      <td>-3.665195</td>\n",
       "      <td>-3.745092</td>\n",
       "      <td>...</td>\n",
       "      <td>0.789122</td>\n",
       "      <td>0.830149</td>\n",
       "      <td>0.900633</td>\n",
       "      <td>0.999616</td>\n",
       "      <td>1.125329</td>\n",
       "      <td>1.275260</td>\n",
       "      <td>1.446237</td>\n",
       "      <td>1.634529</td>\n",
       "      <td>1.835969</td>\n",
       "      <td>2.046075</td>\n",
       "    </tr>\n",
       "    <tr>\n",
       "      <th>X_true-Xmnk</th>\n",
       "      <td>2.154751</td>\n",
       "      <td>3.500069</td>\n",
       "      <td>3.977116</td>\n",
       "      <td>1.114978</td>\n",
       "      <td>0.995976</td>\n",
       "      <td>-4.501257</td>\n",
       "      <td>-0.070069</td>\n",
       "      <td>-0.242412</td>\n",
       "      <td>0.074647</td>\n",
       "      <td>-2.265648</td>\n",
       "      <td>...</td>\n",
       "      <td>0.300039</td>\n",
       "      <td>-2.625843</td>\n",
       "      <td>-4.277573</td>\n",
       "      <td>-1.314327</td>\n",
       "      <td>-2.814341</td>\n",
       "      <td>-0.551697</td>\n",
       "      <td>-2.503617</td>\n",
       "      <td>1.319608</td>\n",
       "      <td>-0.612283</td>\n",
       "      <td>1.513973</td>\n",
       "    </tr>\n",
       "    <tr>\n",
       "      <th>Xmnk-Xavg</th>\n",
       "      <td>-2.590281</td>\n",
       "      <td>-2.502475</td>\n",
       "      <td>-2.414669</td>\n",
       "      <td>-2.326862</td>\n",
       "      <td>-2.239056</td>\n",
       "      <td>-2.151250</td>\n",
       "      <td>-2.063444</td>\n",
       "      <td>-1.975638</td>\n",
       "      <td>-1.887832</td>\n",
       "      <td>-1.800026</td>\n",
       "      <td>...</td>\n",
       "      <td>1.800026</td>\n",
       "      <td>1.887832</td>\n",
       "      <td>1.975638</td>\n",
       "      <td>2.063444</td>\n",
       "      <td>2.151250</td>\n",
       "      <td>2.239056</td>\n",
       "      <td>2.326862</td>\n",
       "      <td>2.414669</td>\n",
       "      <td>2.502475</td>\n",
       "      <td>2.590281</td>\n",
       "    </tr>\n",
       "    <tr>\n",
       "      <th>X_true-Xavg</th>\n",
       "      <td>-0.435530</td>\n",
       "      <td>0.997595</td>\n",
       "      <td>1.562447</td>\n",
       "      <td>-1.211884</td>\n",
       "      <td>-1.243081</td>\n",
       "      <td>-6.652507</td>\n",
       "      <td>-2.133514</td>\n",
       "      <td>-2.218050</td>\n",
       "      <td>-1.813185</td>\n",
       "      <td>-4.065673</td>\n",
       "      <td>...</td>\n",
       "      <td>2.100065</td>\n",
       "      <td>-0.738011</td>\n",
       "      <td>-2.301936</td>\n",
       "      <td>0.749117</td>\n",
       "      <td>-0.663091</td>\n",
       "      <td>1.687360</td>\n",
       "      <td>-0.176755</td>\n",
       "      <td>3.734277</td>\n",
       "      <td>1.890192</td>\n",
       "      <td>4.104254</td>\n",
       "    </tr>\n",
       "    <tr>\n",
       "      <th>(X_true-Xmnk)^2</th>\n",
       "      <td>4.642951</td>\n",
       "      <td>12.250485</td>\n",
       "      <td>15.817450</td>\n",
       "      <td>1.243177</td>\n",
       "      <td>0.991967</td>\n",
       "      <td>20.261316</td>\n",
       "      <td>0.004910</td>\n",
       "      <td>0.058764</td>\n",
       "      <td>0.005572</td>\n",
       "      <td>5.133159</td>\n",
       "      <td>...</td>\n",
       "      <td>0.090024</td>\n",
       "      <td>6.895049</td>\n",
       "      <td>18.297635</td>\n",
       "      <td>1.727456</td>\n",
       "      <td>7.920516</td>\n",
       "      <td>0.304369</td>\n",
       "      <td>6.268099</td>\n",
       "      <td>1.741365</td>\n",
       "      <td>0.374890</td>\n",
       "      <td>2.292114</td>\n",
       "    </tr>\n",
       "    <tr>\n",
       "      <th>(Xmnk-Xavg)^2</th>\n",
       "      <td>6.709555</td>\n",
       "      <td>6.262380</td>\n",
       "      <td>5.830624</td>\n",
       "      <td>5.414289</td>\n",
       "      <td>5.013373</td>\n",
       "      <td>4.627877</td>\n",
       "      <td>4.257801</td>\n",
       "      <td>3.903145</td>\n",
       "      <td>3.563909</td>\n",
       "      <td>3.240092</td>\n",
       "      <td>...</td>\n",
       "      <td>3.240092</td>\n",
       "      <td>3.563909</td>\n",
       "      <td>3.903145</td>\n",
       "      <td>4.257801</td>\n",
       "      <td>4.627877</td>\n",
       "      <td>5.013373</td>\n",
       "      <td>5.414289</td>\n",
       "      <td>5.830624</td>\n",
       "      <td>6.262380</td>\n",
       "      <td>6.709555</td>\n",
       "    </tr>\n",
       "    <tr>\n",
       "      <th>(X_true-Xavg)^2</th>\n",
       "      <td>0.189687</td>\n",
       "      <td>0.995195</td>\n",
       "      <td>2.441241</td>\n",
       "      <td>1.468663</td>\n",
       "      <td>1.545250</td>\n",
       "      <td>44.255855</td>\n",
       "      <td>4.551880</td>\n",
       "      <td>4.919745</td>\n",
       "      <td>3.287640</td>\n",
       "      <td>16.529699</td>\n",
       "      <td>...</td>\n",
       "      <td>4.410272</td>\n",
       "      <td>0.544660</td>\n",
       "      <td>5.298907</td>\n",
       "      <td>0.561176</td>\n",
       "      <td>0.439690</td>\n",
       "      <td>2.847183</td>\n",
       "      <td>0.031242</td>\n",
       "      <td>13.944821</td>\n",
       "      <td>3.572825</td>\n",
       "      <td>16.844900</td>\n",
       "    </tr>\n",
       "  </tbody>\n",
       "</table>\n",
       "<p>11 rows × 60 columns</p>\n",
       "</div>"
      ],
      "text/plain": [
       "                       0          1          2         3         4   \\\n",
       "t               -1.191919  -1.151515  -1.111111 -1.070707 -1.030303   \n",
       "e                0.912670   2.619852   3.459131  0.951672  1.172099   \n",
       "x               -0.967626   0.465499   1.030352 -1.743980 -1.775176   \n",
       "Xmnk            -3.122376  -3.034570  -2.946764 -2.858958 -2.771152   \n",
       "X_true          -1.880296  -2.154353  -2.428779 -2.695651 -2.947276   \n",
       "X_true-Xmnk      2.154751   3.500069   3.977116  1.114978  0.995976   \n",
       "Xmnk-Xavg       -2.590281  -2.502475  -2.414669 -2.326862 -2.239056   \n",
       "X_true-Xavg     -0.435530   0.997595   1.562447 -1.211884 -1.243081   \n",
       "(X_true-Xmnk)^2  4.642951  12.250485  15.817450  1.243177  0.991967   \n",
       "(Xmnk-Xavg)^2    6.709555   6.262380   5.830624  5.414289  5.013373   \n",
       "(X_true-Xavg)^2  0.189687   0.995195   2.441241  1.468663  1.545250   \n",
       "\n",
       "                        5         6         7         8          9   ...  \\\n",
       "t                -0.989899 -0.949495 -0.909091 -0.868687  -0.828283  ...   \n",
       "e                -4.008235  0.710613  0.790720  1.319915  -0.852677  ...   \n",
       "x                -7.184603 -2.665609 -2.750146 -2.345281  -4.597769  ...   \n",
       "Xmnk             -2.683346 -2.595540 -2.507734 -2.419927  -2.332121  ...   \n",
       "X_true           -3.176368 -3.376222 -3.540866 -3.665195  -3.745092  ...   \n",
       "X_true-Xmnk      -4.501257 -0.070069 -0.242412  0.074647  -2.265648  ...   \n",
       "Xmnk-Xavg        -2.151250 -2.063444 -1.975638 -1.887832  -1.800026  ...   \n",
       "X_true-Xavg      -6.652507 -2.133514 -2.218050 -1.813185  -4.065673  ...   \n",
       "(X_true-Xmnk)^2  20.261316  0.004910  0.058764  0.005572   5.133159  ...   \n",
       "(Xmnk-Xavg)^2     4.627877  4.257801  3.903145  3.563909   3.240092  ...   \n",
       "(X_true-Xavg)^2  44.255855  4.551880  4.919745  3.287640  16.529699  ...   \n",
       "\n",
       "                       50        51         52        53        54        55  \\\n",
       "t                0.828283  0.868687   0.909091  0.949495  0.989899  1.030303   \n",
       "e                0.778847 -2.100256  -3.734664 -0.782594 -2.320515 -0.119996   \n",
       "x                1.567969 -1.270106  -2.834031  0.217021 -1.195187  1.155264   \n",
       "Xmnk             1.267930  1.355736   1.443542  1.531348  1.619155  1.706961   \n",
       "X_true           0.789122  0.830149   0.900633  0.999616  1.125329  1.275260   \n",
       "X_true-Xmnk      0.300039 -2.625843  -4.277573 -1.314327 -2.814341 -0.551697   \n",
       "Xmnk-Xavg        1.800026  1.887832   1.975638  2.063444  2.151250  2.239056   \n",
       "X_true-Xavg      2.100065 -0.738011  -2.301936  0.749117 -0.663091  1.687360   \n",
       "(X_true-Xmnk)^2  0.090024  6.895049  18.297635  1.727456  7.920516  0.304369   \n",
       "(Xmnk-Xavg)^2    3.240092  3.563909   3.903145  4.257801  4.627877  5.013373   \n",
       "(X_true-Xavg)^2  4.410272  0.544660   5.298907  0.561176  0.439690  2.847183   \n",
       "\n",
       "                       56         57        58         59  \n",
       "t                1.070707   1.111111  1.151515   1.191919  \n",
       "e               -2.155087   1.567651 -0.477872   1.526083  \n",
       "x               -0.708850   3.202181  1.358096   3.572158  \n",
       "Xmnk             1.794767   1.882573  1.970379   2.058185  \n",
       "X_true           1.446237   1.634529  1.835969   2.046075  \n",
       "X_true-Xmnk     -2.503617   1.319608 -0.612283   1.513973  \n",
       "Xmnk-Xavg        2.326862   2.414669  2.502475   2.590281  \n",
       "X_true-Xavg     -0.176755   3.734277  1.890192   4.104254  \n",
       "(X_true-Xmnk)^2  6.268099   1.741365  0.374890   2.292114  \n",
       "(Xmnk-Xavg)^2    5.414289   5.830624  6.262380   6.709555  \n",
       "(X_true-Xavg)^2  0.031242  13.944821  3.572825  16.844900  \n",
       "\n",
       "[11 rows x 60 columns]"
      ]
     },
     "execution_count": 15,
     "metadata": {},
     "output_type": "execute_result"
    }
   ],
   "source": [
    "df['X_true-Xmnk'] = (df.x - df['Xmnk'])\n",
    "df['Xmnk-Xavg'] = (df['Xmnk'] - df['x'].mean())\n",
    "df['X_true-Xavg'] = (df.x - df['x'].mean())\n",
    "df['(X_true-Xmnk)^2'] = (df.x - df['Xmnk'])**2\n",
    "df['(Xmnk-Xavg)^2'] = (df['Xmnk'] - df['x'].mean())**2\n",
    "df['(X_true-Xavg)^2'] = (df.x - df['x'].mean())**2\n",
    "df.T"
   ]
  },
  {
   "cell_type": "code",
   "execution_count": 16,
   "id": "c60252e0",
   "metadata": {},
   "outputs": [
    {
     "name": "stdout",
     "output_type": "stream",
     "text": [
      "Коэффицент детерминации\n",
      "0.3298872150661596\n"
     ]
    }
   ],
   "source": [
    "R = 1 - (df.shape[0]-1)/(df.shape[0] - 2)*df['(X_true-Xmnk)^2'].sum()/df['(X_true-Xavg)^2'].sum()\n",
    "print('Коэффицент детерминации')\n",
    "print(R)"
   ]
  },
  {
   "cell_type": "code",
   "execution_count": 17,
   "id": "ad3279c7",
   "metadata": {},
   "outputs": [
    {
     "name": "stdout",
     "output_type": "stream",
     "text": [
      "Несмещенная оценка квадратов ошибки для МНК - 2.732958031420202\n"
     ]
    }
   ],
   "source": [
    "sigma_e2 = df['(X_true-Xmnk)^2'].sum()/(k-2)\n",
    "print(f'Несмещенная оценка квадратов ошибки для МНК - {sigma_e2}')"
   ]
  },
  {
   "cell_type": "code",
   "execution_count": 18,
   "id": "83ada7b8",
   "metadata": {},
   "outputs": [
    {
     "name": "stdout",
     "output_type": "stream",
     "text": [
      "Ковариацонная матрица\n",
      "[[ 4.55493005e-02 -5.50859034e-18]\n",
      " [-5.50859034e-18  9.30318202e-02]]\n"
     ]
    }
   ],
   "source": [
    "cov_matrix = sigma_e2 * W\n",
    "print('Ковариацонная матрица')\n",
    "print(cov_matrix)"
   ]
  },
  {
   "cell_type": "markdown",
   "id": "9cd92d18",
   "metadata": {},
   "source": [
    "$\\large Значение \\: коэффициента \\: детерминации \\: получилась \\: равная \\: 0.33. \\: это \\: значение \\: неблизко \\: к \\: 1, \\: что \\: показывает, \\: что \\: присутствует \\: несильное \\: превосходство \\: модели \\: над \\: тривиальной \\: p=1 \\: (X_{avg}). \\: Несмещенная \\: оценка \\: квадратов \\: ошибок \\: получилась \\: равная \\: 2.73.$"
   ]
  },
  {
   "cell_type": "markdown",
   "id": "82f528ed",
   "metadata": {},
   "source": [
    "$ \\Large -\\;Найти\\;значения\\;информационных\\;критериев:$\n"
   ]
  },
  {
   "cell_type": "markdown",
   "id": "d7743c91",
   "metadata": {},
   "source": [
    "$\\large Информационный \\: критерий \\: - \\: применяемая \\: в \\: эконометрике \\: (статистике) \\: мера \\: относительного \\: качества \\: эконометрических \\: (статистических) \\: моделей, \\: учитывающая \\: степень \\: «подгонки» \\: модели \\: под \\: данные \\: с \\: корректировкой \\: (штрафом) \\: на \\: используемое \\: количество \\: оцениваемых \\: параметров. \\: Чем \\: меньше \\: значение \\: критерия, \\: тем \\: лучше \\: модель. \\: Многие \\: другие \\: критерии \\: являются \\: модификациями \\: AIC.$"
   ]
  },
  {
   "cell_type": "code",
   "execution_count": 19,
   "id": "6403116c",
   "metadata": {},
   "outputs": [
    {
     "name": "stdout",
     "output_type": "stream",
     "text": [
      "AIC = 1.0720512172635157\n"
     ]
    }
   ],
   "source": [
    "AIC = 2*2/60+np.log(sigma_e2)\n",
    "print(f'AIC = {AIC}')"
   ]
  },
  {
   "cell_type": "markdown",
   "id": "9f9e1b03",
   "metadata": {},
   "source": [
    "$\\Large - \\; С\\;помощью\\; критерия\\; Фишера\\; проверить\\; гипотезу\\; H_0: \\; \\theta_0 = 0,\\; \\theta_1 = 0:$"
   ]
  },
  {
   "cell_type": "code",
   "execution_count": 20,
   "id": "a167674e",
   "metadata": {},
   "outputs": [
    {
     "name": "stdout",
     "output_type": "stream",
     "text": [
      "Критерий Фишера\n",
      "11.107802246483208\n"
     ]
    }
   ],
   "source": [
    "A = np.array([[1, 0],[0, 1]])\n",
    "a = np.array([[0],[0]])\n",
    "f1 = A.dot(np.resize(tetha,(2,1)))-a\n",
    "f2 = A.dot(np.linalg.inv(H.T.dot(H))).dot(A)\n",
    "F = f1.T.dot(np.linalg.inv(f2)).dot(f1)/(df['(X_true-Xavg)^2'].sum()*2/58)\n",
    "print('Критерий Фишера')\n",
    "print(F[0][0])"
   ]
  },
  {
   "cell_type": "code",
   "execution_count": 21,
   "id": "db257b0b",
   "metadata": {},
   "outputs": [
    {
     "name": "stdout",
     "output_type": "stream",
     "text": [
      "H0 не принимается\n"
     ]
    }
   ],
   "source": [
    "rv = f(2, 58)\n",
    "vals = f.ppf([0.95], 2, 58)\n",
    "vals[0]\n",
    "if F[0][0] < vals[0]:\n",
    "    print('H0 принимается')\n",
    "else:\n",
    "    print('H0 не принимается')"
   ]
  },
  {
   "cell_type": "markdown",
   "id": "96ff7193",
   "metadata": {},
   "source": [
    "$\\large В \\: результате \\: расчетов \\: видно, \\: что \\: значение \\: критерия \\: Фишера \\: получилось \\: 11.1. \\: Таким \\: образом \\: значение \\: критерия \\: Фишера \\: попадает \\: в \\: критическую \\: область, \\: из \\: этого \\: следует, \\: что \\: гипотеза \\: H_0 \\: на \\: уровне \\: значимости \\: α=0.05 \\: не \\: принимается.$"
   ]
  },
  {
   "cell_type": "markdown",
   "id": "28be181e",
   "metadata": {},
   "source": [
    "$ \\Large - \\; Построить \\; доверительный \\; интервал \\; надежности \\; 0.95\\;и\\;0.8:$"
   ]
  },
  {
   "cell_type": "code",
   "execution_count": 22,
   "id": "1c1db94c",
   "metadata": {},
   "outputs": [],
   "source": [
    "sigma_1 = [np.dot(np.dot(np.array([1, i]), cov_matrix), np.array([[1], [i]]))[0] for i in t]\n",
    "sigma_1 = np.sqrt(sigma_1) * 1.96"
   ]
  },
  {
   "cell_type": "code",
   "execution_count": 23,
   "id": "9e019c77",
   "metadata": {},
   "outputs": [],
   "source": [
    "Xmnk_1 = np.array([tetha[0] + tetha[1]*i for i in t])\n",
    "int_95_up = [(Xmnk_1[i] + sigma_1[i]) for i in range(len(t))]\n",
    "int_95_down = [(Xmnk_1[i] - sigma_1[i]) for i in range(len(t))]"
   ]
  },
  {
   "cell_type": "code",
   "execution_count": 24,
   "id": "27dfd590",
   "metadata": {},
   "outputs": [
    {
     "data": {
      "image/png": "[encoded data removed]",
      "text/plain": [
       "<Figure size 1152x432 with 1 Axes>"
      ]
     },
     "metadata": {
      "needs_background": "light"
     },
     "output_type": "display_data"
    }
   ],
   "source": [
    "fig, ax = plt.subplots(figsize=(16, 6))\n",
    "ax.plot(t, int_95_up, color='khaki', label='Интервал')\n",
    "ax.plot(t, int_95_down, color='khaki')\n",
    "ax.fill_between(t, int_95_up, int_95_down, color='khaki', alpha=0.2) \n",
    "ax.scatter(df['t'], df['x'], color='mediumpurple', s=60, label='Наблюдения')\n",
    "ax.plot(t, Xmnk_1, color='khaki', label='МНК')\n",
    "ax.set_xlabel('Параметры h')\n",
    "ax.set_ylabel('Значения Х')\n",
    "ax.grid()\n",
    "ax.legend()\n",
    "plt.show()"
   ]
  },
  {
   "cell_type": "code",
   "execution_count": 25,
   "id": "dc694940",
   "metadata": {},
   "outputs": [],
   "source": [
    "sigma_2 = [np.dot(np.dot(np.array([1, i]), cov_matrix), np.array([[1], [i]]))[0] for i in t]\n",
    "sigma_2 = np.sqrt(sigma_2) * 1.28"
   ]
  },
  {
   "cell_type": "code",
   "execution_count": 26,
   "id": "12530898",
   "metadata": {},
   "outputs": [],
   "source": [
    "int_80_up = [(Xmnk_1[i] + sigma_2[i]) for i in range(len(t))]\n",
    "int_80_down = [(Xmnk_1[i] - sigma_2[i]) for i in range(len(t))]"
   ]
  },
  {
   "cell_type": "code",
   "execution_count": 27,
   "id": "6a01e6b8",
   "metadata": {},
   "outputs": [
    {
     "data": {
      "image/png": "[encoded data removed]",
      "text/plain": [
       "<Figure size 1152x432 with 1 Axes>"
      ]
     },
     "metadata": {
      "needs_background": "light"
     },
     "output_type": "display_data"
    }
   ],
   "source": [
    "fig, ax = plt.subplots(figsize=(16, 6))\n",
    "ax.plot(t, int_80_up, color='khaki', label='Интервал')\n",
    "ax.plot(t, int_80_down, color='khaki')\n",
    "ax.fill_between(t, int_80_up, int_80_down, color='khaki', alpha=0.2) \n",
    "ax.scatter(df['t'], df['x'], color='mediumpurple', s=60, label='Наблюдения')\n",
    "ax.plot(t, Xmnk_1, color='khaki', label='МНК')\n",
    "ax.set_xlabel('Параметры h')\n",
    "ax.set_ylabel('Значения Х')\n",
    "ax.grid()\n",
    "ax.legend()\n",
    "plt.show()"
   ]
  },
  {
   "cell_type": "markdown",
   "id": "966cac1b",
   "metadata": {},
   "source": [
    "$\\Large -\\; Построить\\; оценку\\; метода\\; наименьших\\; модулей:$"
   ]
  },
  {
   "cell_type": "markdown",
   "id": "26b92639",
   "metadata": {},
   "source": [
    "$\\large Для \\: построения \\: МНМ-оценки \\: для \\: выбранной \\: модели \\: я \\: использовал \\: квантильную \\: регрессию \\: со \\: значением \\: α=0.5.$"
   ]
  },
  {
   "cell_type": "code",
   "execution_count": 28,
   "id": "75765f75",
   "metadata": {},
   "outputs": [],
   "source": [
    " reg = QuantileRegressor(quantile=0.5, alpha=0)"
   ]
  },
  {
   "cell_type": "code",
   "execution_count": 29,
   "id": "91d9b336",
   "metadata": {},
   "outputs": [
    {
     "data": {
      "text/plain": [
       "QuantileRegressor(alpha=0)"
      ]
     },
     "execution_count": 29,
     "metadata": {},
     "output_type": "execute_result"
    }
   ],
   "source": [
    "reg.fit(H, df.x)"
   ]
  },
  {
   "cell_type": "code",
   "execution_count": 30,
   "id": "a29d0475",
   "metadata": {},
   "outputs": [],
   "source": [
    "tetha_MNM = reg.coef_"
   ]
  },
  {
   "cell_type": "code",
   "execution_count": 31,
   "id": "ef130764",
   "metadata": {},
   "outputs": [
    {
     "name": "stdout",
     "output_type": "stream",
     "text": [
      "МНM-оценка: -0.20224671552378415 2.3813878414275225\n"
     ]
    }
   ],
   "source": [
    "print('МНM-оценка:', tetha_MNM[0], tetha_MNM[1])"
   ]
  },
  {
   "cell_type": "code",
   "execution_count": 32,
   "id": "55ca1aff",
   "metadata": {
    "scrolled": false
   },
   "outputs": [
    {
     "data": {
      "image/png": "[encoded data removed]",
      "text/plain": [
       "<Figure size 1152x432 with 1 Axes>"
      ]
     },
     "metadata": {
      "needs_background": "light"
     },
     "output_type": "display_data"
    }
   ],
   "source": [
    "fig, ax = plt.subplots(figsize=(16, 6))\n",
    "ax.plot(df['t'], df['X_true'], '--',color='coral', linewidth = 5, label='Исходная функция')\n",
    "ax.plot(df['t'], [tetha_MNM[0] + tetha_MNM[1]*i for i in df.t], color='brown', linewidth = 5, label='МНM')\n",
    "ax.scatter(df['t'], df['x'], color='mediumpurple', s=60, label='Наблюдения')\n",
    "ax.set_xlabel('Параметры h')\n",
    "ax.set_ylabel('Значения Х')\n",
    "ax.grid()\n",
    "ax.legend()\n",
    "plt.show()"
   ]
  },
  {
   "cell_type": "code",
   "execution_count": 33,
   "id": "7039a2d4",
   "metadata": {},
   "outputs": [],
   "source": [
    "e = df.x - np.array([tetha_MNM[0] + tetha_MNM[1]*i for i in df.t])"
   ]
  },
  {
   "cell_type": "code",
   "execution_count": 34,
   "id": "3c885c09",
   "metadata": {},
   "outputs": [],
   "source": [
    "e2 = e**2"
   ]
  },
  {
   "cell_type": "code",
   "execution_count": 35,
   "id": "7f8a7b10",
   "metadata": {},
   "outputs": [
    {
     "name": "stdout",
     "output_type": "stream",
     "text": [
      "Несмещенная оценка квадратов ошибки для МНM - 2.812562558109693\n"
     ]
    }
   ],
   "source": [
    "sigmae2 = e2.sum()/(k-2)\n",
    "print(f'Несмещенная оценка квадратов ошибки для МНM - {sigmae2}')"
   ]
  },
  {
   "cell_type": "markdown",
   "id": "dd9c593a",
   "metadata": {},
   "source": [
    "$\\Large -\\; Оценить\\; качество\\; построенных\\; регрессий\\; на\\; тестовой\\; выборке:$"
   ]
  },
  {
   "cell_type": "code",
   "execution_count": 36,
   "id": "faadc276",
   "metadata": {
    "scrolled": false
   },
   "outputs": [
    {
     "data": {
      "image/png": "[encoded data removed]",
      "text/plain": [
       "<Figure size 1152x432 with 1 Axes>"
      ]
     },
     "metadata": {
      "needs_background": "light"
     },
     "output_type": "display_data"
    }
   ],
   "source": [
    "fig, ax = plt.subplots(figsize=(16, 6))\n",
    "ax.scatter(df['t'], df['x'], color='mediumpurple', s=60, label='Наблюдения')\n",
    "ax.scatter(df_test['t'], df_test['x'], color='purple', s=60, label='Тесты')\n",
    "ax.plot(t, [tetha[0] + tetha[1]*i for i in t], color='khaki', linewidth = 5, label='МНK')\n",
    "ax.plot(t, [tetha_MNM[0] + tetha_MNM[1]*i for i in t], color='brown', linewidth = 5, label='МНM')\n",
    "ax.set_xlabel('Параметры h')\n",
    "ax.set_ylabel('Значения Х')\n",
    "ax.grid()\n",
    "ax.legend()\n",
    "plt.show()"
   ]
  },
  {
   "cell_type": "code",
   "execution_count": 37,
   "id": "891dbf82",
   "metadata": {},
   "outputs": [
    {
     "data": {
      "text/html": [
       "<div>\n",
       "<style scoped>\n",
       "    .dataframe tbody tr th:only-of-type {\n",
       "        vertical-align: middle;\n",
       "    }\n",
       "\n",
       "    .dataframe tbody tr th {\n",
       "        vertical-align: top;\n",
       "    }\n",
       "\n",
       "    .dataframe thead th {\n",
       "        text-align: right;\n",
       "    }\n",
       "</style>\n",
       "<table border=\"1\" class=\"dataframe\">\n",
       "  <thead>\n",
       "    <tr style=\"text-align: right;\">\n",
       "      <th></th>\n",
       "      <th>0</th>\n",
       "      <th>1</th>\n",
       "      <th>2</th>\n",
       "      <th>3</th>\n",
       "      <th>4</th>\n",
       "      <th>5</th>\n",
       "      <th>6</th>\n",
       "      <th>7</th>\n",
       "      <th>8</th>\n",
       "      <th>9</th>\n",
       "      <th>...</th>\n",
       "      <th>30</th>\n",
       "      <th>31</th>\n",
       "      <th>32</th>\n",
       "      <th>33</th>\n",
       "      <th>34</th>\n",
       "      <th>35</th>\n",
       "      <th>36</th>\n",
       "      <th>37</th>\n",
       "      <th>38</th>\n",
       "      <th>39</th>\n",
       "    </tr>\n",
       "  </thead>\n",
       "  <tbody>\n",
       "    <tr>\n",
       "      <th>t</th>\n",
       "      <td>-2.000000</td>\n",
       "      <td>-1.959596</td>\n",
       "      <td>-1.919192</td>\n",
       "      <td>-1.878788</td>\n",
       "      <td>-1.838384</td>\n",
       "      <td>-1.797980</td>\n",
       "      <td>-1.757576</td>\n",
       "      <td>-1.717172</td>\n",
       "      <td>-1.676768</td>\n",
       "      <td>-1.636364</td>\n",
       "      <td>...</td>\n",
       "      <td>1.636364</td>\n",
       "      <td>1.676768</td>\n",
       "      <td>1.717172</td>\n",
       "      <td>1.757576</td>\n",
       "      <td>1.797980</td>\n",
       "      <td>1.838384</td>\n",
       "      <td>1.878788</td>\n",
       "      <td>1.919192</td>\n",
       "      <td>1.959596</td>\n",
       "      <td>2.000000</td>\n",
       "    </tr>\n",
       "    <tr>\n",
       "      <th>e</th>\n",
       "      <td>-2.947741</td>\n",
       "      <td>-2.015289</td>\n",
       "      <td>-0.941866</td>\n",
       "      <td>0.254031</td>\n",
       "      <td>-3.270297</td>\n",
       "      <td>0.492599</td>\n",
       "      <td>-0.965365</td>\n",
       "      <td>-0.182704</td>\n",
       "      <td>-0.826757</td>\n",
       "      <td>0.409987</td>\n",
       "      <td>...</td>\n",
       "      <td>2.009857</td>\n",
       "      <td>-0.440639</td>\n",
       "      <td>-1.071631</td>\n",
       "      <td>-0.013538</td>\n",
       "      <td>-0.255151</td>\n",
       "      <td>-0.486510</td>\n",
       "      <td>-1.121627</td>\n",
       "      <td>-1.191364</td>\n",
       "      <td>-0.695439</td>\n",
       "      <td>1.310375</td>\n",
       "    </tr>\n",
       "    <tr>\n",
       "      <th>x</th>\n",
       "      <td>-6.886575</td>\n",
       "      <td>-5.517620</td>\n",
       "      <td>-4.014078</td>\n",
       "      <td>-2.402316</td>\n",
       "      <td>-5.532617</td>\n",
       "      <td>-1.404646</td>\n",
       "      <td>-2.532966</td>\n",
       "      <td>-1.461771</td>\n",
       "      <td>-1.863156</td>\n",
       "      <td>-0.433317</td>\n",
       "      <td>...</td>\n",
       "      <td>5.750574</td>\n",
       "      <td>3.330253</td>\n",
       "      <td>2.707742</td>\n",
       "      <td>3.755013</td>\n",
       "      <td>3.486329</td>\n",
       "      <td>3.215261</td>\n",
       "      <td>2.531871</td>\n",
       "      <td>2.409711</td>\n",
       "      <td>2.853684</td>\n",
       "      <td>4.812709</td>\n",
       "    </tr>\n",
       "  </tbody>\n",
       "</table>\n",
       "<p>3 rows × 40 columns</p>\n",
       "</div>"
      ],
      "text/plain": [
       "         0         1         2         3         4         5         6   \\\n",
       "t -2.000000 -1.959596 -1.919192 -1.878788 -1.838384 -1.797980 -1.757576   \n",
       "e -2.947741 -2.015289 -0.941866  0.254031 -3.270297  0.492599 -0.965365   \n",
       "x -6.886575 -5.517620 -4.014078 -2.402316 -5.532617 -1.404646 -2.532966   \n",
       "\n",
       "         7         8         9   ...        30        31        32        33  \\\n",
       "t -1.717172 -1.676768 -1.636364  ...  1.636364  1.676768  1.717172  1.757576   \n",
       "e -0.182704 -0.826757  0.409987  ...  2.009857 -0.440639 -1.071631 -0.013538   \n",
       "x -1.461771 -1.863156 -0.433317  ...  5.750574  3.330253  2.707742  3.755013   \n",
       "\n",
       "         34        35        36        37        38        39  \n",
       "t  1.797980  1.838384  1.878788  1.919192  1.959596  2.000000  \n",
       "e -0.255151 -0.486510 -1.121627 -1.191364 -0.695439  1.310375  \n",
       "x  3.486329  3.215261  2.531871  2.409711  2.853684  4.812709  \n",
       "\n",
       "[3 rows x 40 columns]"
      ]
     },
     "execution_count": 37,
     "metadata": {},
     "output_type": "execute_result"
    }
   ],
   "source": [
    "df_test.T"
   ]
  },
  {
   "cell_type": "code",
   "execution_count": 38,
   "id": "7c751627",
   "metadata": {},
   "outputs": [],
   "source": [
    "df_test['Xmnk'] = np.array([tetha[0] + tetha[1]*i for i in df_test.t])\n",
    "df_test['Xmnm'] = np.array([tetha_MNM[0] + tetha_MNM[1]*i for i in df_test.t])"
   ]
  },
  {
   "cell_type": "code",
   "execution_count": 39,
   "id": "44dc347b",
   "metadata": {},
   "outputs": [],
   "source": [
    "e_mnk = df_test.x - df_test.Xmnk\n",
    "e_mnm = df_test.x - df_test.Xmnm"
   ]
  },
  {
   "cell_type": "code",
   "execution_count": 40,
   "id": "a522b770",
   "metadata": {},
   "outputs": [],
   "source": [
    "mse_mnk = (e_mnk**2).sum()/40\n",
    "mse_mnm = (e_mnm**2).sum()/40"
   ]
  },
  {
   "cell_type": "code",
   "execution_count": 41,
   "id": "e8f562f2",
   "metadata": {},
   "outputs": [
    {
     "name": "stdout",
     "output_type": "stream",
     "text": [
      "MSE на тесте для МНК - 4.232402056048923\n",
      "MSE на тесте для МНM - 4.24110521551521\n"
     ]
    }
   ],
   "source": [
    "print(f'MSE на тесте для МНК - {mse_mnk}')\n",
    "print(f'MSE на тесте для МНM - {mse_mnm}')"
   ]
  },
  {
   "cell_type": "markdown",
   "id": "569af153",
   "metadata": {},
   "source": [
    "$\\large По \\: полученным \\: результатам \\: видно, \\: что \\: МНМ-оценка \\: лучшим \\: образом \\: предсказала \\: значения \\: на \\: тесте. \\: По \\: графику \\: это \\: можно \\: подтвердить, \\: ведь \\: слева \\: коричневая \\: линия \\: проходит \\: ближе \\: к \\: истинным \\: наблюдениям.$"
   ]
  },
  {
   "cell_type": "markdown",
   "id": "7a9e8fe8",
   "metadata": {},
   "source": [
    "$\\Large Для\\; остатков\\; \\hat{e_k} = X_k - \\hat{X_k}:$"
   ]
  },
  {
   "cell_type": "markdown",
   "id": "2e04a795",
   "metadata": {},
   "source": [
    "$\\Large - Построить \\; гистограмму\\; и \\; ядерную\\; оценку$"
   ]
  },
  {
   "cell_type": "code",
   "execution_count": 42,
   "id": "60dfc52e",
   "metadata": {},
   "outputs": [
    {
     "data": {
      "text/plain": [
       "<AxesSubplot:xlabel='X_true-Xmnk', ylabel='Count'>"
      ]
     },
     "execution_count": 42,
     "metadata": {},
     "output_type": "execute_result"
    },
    {
     "data": {
      "image/png": "[encoded data removed]",
      "text/plain": [
       "<Figure size 576x432 with 1 Axes>"
      ]
     },
     "metadata": {
      "needs_background": "light"
     },
     "output_type": "display_data"
    }
   ],
   "source": [
    "fig, ax = plt.subplots(figsize=(8, 6))\n",
    "sns.histplot(data=df, x=\"X_true-Xmnk\", kde=True, color='mediumpurple')"
   ]
  },
  {
   "cell_type": "markdown",
   "id": "93e36c90",
   "metadata": {},
   "source": [
    "### Критерий Дагостини"
   ]
  },
  {
   "cell_type": "code",
   "execution_count": 43,
   "id": "39fd8a2f",
   "metadata": {},
   "outputs": [
    {
     "name": "stdout",
     "output_type": "stream",
     "text": [
      "Есть оcнования считать, что ошибки имеют нормальное распределение\n"
     ]
    }
   ],
   "source": [
    "res = normaltest(df['X_true-Xmnk'])\n",
    "if res.pvalue > 0.05:\n",
    "    print('Есть оcнования считать, что ошибки имеют нормальное распределение')\n",
    "else:\n",
    "    print('Ошибки не имеют нормальное распределение')"
   ]
  },
  {
   "cell_type": "markdown",
   "id": "97da2978",
   "metadata": {},
   "source": [
    "### Критерий Дарбина-Уотсона"
   ]
  },
  {
   "cell_type": "code",
   "execution_count": 44,
   "id": "dafdb42d",
   "metadata": {},
   "outputs": [
    {
     "name": "stdout",
     "output_type": "stream",
     "text": [
      "Значение Дарбина-Уотсона = 0.9741712652152426\n"
     ]
    }
   ],
   "source": [
    "e__ = []\n",
    "for i in range(1, df.shape[0]):\n",
    "    e__.append((df['X_true-Xmnk'][i] - df['X_true-Xmnk'][i-1])**2)\n",
    "DW = sum(e__)/df['(X_true-Xmnk)^2'].sum()\n",
    "print(f'Значение Дарбина-Уотсона = {DW}')"
   ]
  },
  {
   "cell_type": "code",
   "execution_count": 45,
   "id": "ad865de3",
   "metadata": {},
   "outputs": [
    {
     "name": "stdout",
     "output_type": "stream",
     "text": [
      "Есть положительная корреляция\n"
     ]
    }
   ],
   "source": [
    "dl = 1.51\n",
    "du = 1.65\n",
    "if 0 < DW < dl:\n",
    "    print('Есть положительная корреляция')\n",
    "elif dl < DW < du:\n",
    "    print('Гипотиза о наличии корреляции не отвергается и не принимается')\n",
    "elif du < DW < 4-du:\n",
    "    print('Нет корреляции')\n",
    "elif 4-du < DW < 4-dl:\n",
    "    print('Гипотиза о наличии корреляции не отвергается и не принимается') \n",
    "elif 4-dl < DW < 4:\n",
    "    print('Есть положительная корреляция')"
   ]
  },
  {
   "cell_type": "markdown",
   "id": "bea1bd21",
   "metadata": {},
   "source": [
    "### Критерий Бартлетта"
   ]
  },
  {
   "cell_type": "code",
   "execution_count": 46,
   "id": "54980680",
   "metadata": {},
   "outputs": [
    {
     "name": "stdout",
     "output_type": "stream",
     "text": [
      "Есть основания считать, что остатки равномерно разбросаны\n"
     ]
    }
   ],
   "source": [
    "a = df['X_true-Xmnk'].to_numpy()\n",
    "a = a[0:60:3]\n",
    "b = a[1:60:3]\n",
    "c = a[2:60:3]\n",
    "res = bartlett(a, b, c)\n",
    "if res.pvalue > 0.05:\n",
    "    print('Есть основания считать, что остатки равномерно разбросаны')\n",
    "else:\n",
    "    print('Ошибки не имеют нормальное распределение')"
   ]
  },
  {
   "cell_type": "markdown",
   "id": "02af1cc7",
   "metadata": {},
   "source": [
    "$\\large Согласно \\: каждому \\: из \\: критериев \\: мы \\: можем \\: сделать \\: вывод. \\: Первый \\: критерий \\: был \\: критерий \\: Дагостини, \\: на \\: основании \\: которого \\: определяется \\: наличие \\: оснований \\: для \\: нормального \\: распределения. \\: Получилось, \\: что \\: у \\: нас \\: есть \\: основания \\: считать, \\: что \\: ошибки \\: имеют \\: нормальное \\: распределение. \\: С \\: помощью \\: критерия \\: Дарбина-Уотсона \\: необходимо \\: определить \\: наличие \\: автокорреляции. \\: Согласно \\: этому \\: критерию \\: у \\: нас \\: получилось \\: значение \\: 0.9, \\: это \\: попадает \\: в \\: первую \\: область, \\: что \\: следует, \\: что \\: у \\: нас \\: присутствует \\: положительная \\: корреляция \\: (ρ≠0). \\: С \\: помощью \\: критерия \\: Бартлетта \\: мы \\: пытались \\: определить \\: наличие \\: гетероскедастичности. \\: По \\: результатам \\: получилось, \\: что \\: у \\: нас \\: есть \\: основания, \\: что \\: остатки \\: равномерно \\: разбросаны.$"
   ]
  },
  {
   "cell_type": "markdown",
   "id": "c72351df",
   "metadata": {},
   "source": [
    "## 2.3 Полиномиальная регрессия"
   ]
  },
  {
   "cell_type": "markdown",
   "id": "3e84f0b7",
   "metadata": {},
   "source": [
    "$\\large Первый \\: способ - с.к-погрешность$"
   ]
  },
  {
   "cell_type": "code",
   "execution_count": 47,
   "id": "ed653b8b",
   "metadata": {},
   "outputs": [
    {
     "name": "stdout",
     "output_type": "stream",
     "text": [
      "4\n"
     ]
    }
   ],
   "source": [
    "er1 = 2\n",
    "er2 = 1\n",
    "i = 2\n",
    "while er1 - er2 > 0.00001:\n",
    "    poly_reg=PolynomialFeatures(degree = i)     \n",
    "    X_poly=poly_reg.fit_transform(np.resize(df.t, (60,1)))\n",
    "    lin_reg = LinearRegression()\n",
    "    lin_reg.fit(X_poly,df.x)\n",
    "    y_pred = lin_reg.predict(X_poly)\n",
    "    er1 = er2\n",
    "    er2 = (np.sum(df.x-y_pred)**2)/(60-i)**0.5\n",
    "    i+=1\n",
    "print(i)"
   ]
  },
  {
   "cell_type": "code",
   "execution_count": 48,
   "id": "418b5727",
   "metadata": {},
   "outputs": [],
   "source": [
    "tetha_poly1 = lin_reg.coef_"
   ]
  },
  {
   "cell_type": "code",
   "execution_count": 49,
   "id": "4383f3c5",
   "metadata": {},
   "outputs": [
    {
     "name": "stdout",
     "output_type": "stream",
     "text": [
      "МНК-оценка: 0.0 5.104248338580225 -0.6061627956691069 -3.3270624387755325\n"
     ]
    }
   ],
   "source": [
    "print('МНК-оценка:', tetha_poly1[0], tetha_poly1[1], tetha_poly1[2], tetha_poly1[3])"
   ]
  },
  {
   "cell_type": "markdown",
   "id": "5d8d11c7",
   "metadata": {},
   "source": [
    "$\\large Получившееся \\: значение \\: параметра \\: получилось \\: равное \\: 4 \\: => \\: Полином \\: 3 \\: степени. \\: Выведем \\: график, \\: которые \\: будем \\: еще \\: и \\: включать \\: значения \\: тестовой \\: выборки.$"
   ]
  },
  {
   "cell_type": "code",
   "execution_count": 50,
   "id": "3eca20fb",
   "metadata": {},
   "outputs": [
    {
     "data": {
      "image/png": "[encoded data removed]",
      "text/plain": [
       "<Figure size 1152x432 with 1 Axes>"
      ]
     },
     "metadata": {
      "needs_background": "light"
     },
     "output_type": "display_data"
    }
   ],
   "source": [
    "fig, ax = plt.subplots(figsize=(16, 6))\n",
    "ax.plot(t, [tetha_poly1[0] + tetha_poly1[1]*i + tetha_poly1[2]*i**2 + tetha_poly1[3]*i**3 for i in t], color='khaki', linewidth = 5, label='МНК - полиномиальная')\n",
    "ax.scatter(df['t'], df['x'], color='mediumpurple', s=60, label='Наблюдения')\n",
    "ax.scatter(df_test['t'], df_test['x'], color='purple', s=60, label='Наблюдения на тесте')\n",
    "ax.set_xlabel('Параметры h')\n",
    "ax.set_ylabel('Значения Х')\n",
    "ax.grid()\n",
    "ax.legend()\n",
    "plt.show()"
   ]
  },
  {
   "cell_type": "markdown",
   "id": "5435bc18",
   "metadata": {},
   "source": [
    "$\\large Как \\: можно \\: заметить, \\: справой \\: стороны \\: прогноз \\: очень \\: плохой. \\: Хоть \\: и \\: на \\: тренировочных \\: значениях \\: было \\: хорошее \\: значение. \\: На \\: тесте \\: будет \\: очень \\: большая \\: ошибка. \\: Попробуем \\: подобрать \\: параметр \\: с \\: помощью \\: сравнения \\: MSE \\: на \\: тесте.$"
   ]
  },
  {
   "cell_type": "markdown",
   "id": "64b0e474",
   "metadata": {},
   "source": [
    "$\\large Второй \\: способ \\: MSE \\; на\\; тесте$"
   ]
  },
  {
   "cell_type": "code",
   "execution_count": 54,
   "id": "04889138",
   "metadata": {},
   "outputs": [
    {
     "name": "stdout",
     "output_type": "stream",
     "text": [
      "3\n"
     ]
    }
   ],
   "source": [
    "Mse1 = 2\n",
    "Mse2 = 1\n",
    "i = 2\n",
    "while Mse1 - Mse2 > 0.00001:\n",
    "    poly_reg=PolynomialFeatures(degree = i)     \n",
    "    X_poly=poly_reg.fit_transform(np.resize(df.t, (60,1)))\n",
    "    lin_reg = LinearRegression()\n",
    "    lin_reg.fit(X_poly,df.x)\n",
    "    X_poly=poly_reg.fit_transform(np.resize(df_test.t, (40,1)))\n",
    "    y_pred = lin_reg.predict(X_poly)\n",
    "    Mse1 = Mse2\n",
    "    Mse2 = (np.mean(df_test.x-y_pred)**2)\n",
    "    i+=1\n",
    "print(i)"
   ]
  },
  {
   "cell_type": "code",
   "execution_count": 55,
   "id": "ffa813c6",
   "metadata": {},
   "outputs": [
    {
     "name": "stdout",
     "output_type": "stream",
     "text": [
      "МНК-оценка: 0.0 2.1732017187084285 -0.6061627956691091\n"
     ]
    }
   ],
   "source": [
    "tetha_poly2 = lin_reg.coef_\n",
    "print('МНК-оценка:', tetha_poly2[0], tetha_poly2[1], tetha_poly2[2])"
   ]
  },
  {
   "cell_type": "code",
   "execution_count": 56,
   "id": "7f7f212b",
   "metadata": {},
   "outputs": [
    {
     "data": {
      "image/png": "[encoded data removed]",
      "text/plain": [
       "<Figure size 1152x432 with 1 Axes>"
      ]
     },
     "metadata": {
      "needs_background": "light"
     },
     "output_type": "display_data"
    }
   ],
   "source": [
    "fig, ax = plt.subplots(figsize=(16, 6))\n",
    "ax.plot(t, [tetha_poly2[0] + tetha_poly2[1]*i + tetha_poly2[2]*i**2 for i in t], color='khaki', linewidth = 5, label='МНК - полиномиальная')\n",
    "ax.scatter(df['t'], df['x'], color='mediumpurple', s=60, label='Наблюдения')\n",
    "ax.scatter(df_test['t'], df_test['x'], color='purple', s=60, label='Наблюдения на тесте')\n",
    "ax.set_xlabel('Параметры h')\n",
    "ax.set_ylabel('Значения Х')\n",
    "ax.grid()\n",
    "ax.legend()\n",
    "plt.show()"
   ]
  },
  {
   "cell_type": "markdown",
   "id": "94883788",
   "metadata": {},
   "source": [
    "$\\large Я \\: выберу \\: значение \\: p \\: = \\: 3, \\: потому \\: что \\: видно, \\: что \\: на \\: тесте \\: у \\: нас \\: получится \\: наилучшее \\: значение.$"
   ]
  },
  {
   "cell_type": "code",
   "execution_count": 57,
   "id": "aa2f0108",
   "metadata": {},
   "outputs": [],
   "source": [
    "poly_reg=PolynomialFeatures(degree = 3)     \n",
    "X_poly=poly_reg.fit_transform(np.resize(df.t, (60,1)))\n",
    "lin_reg = LinearRegression()\n",
    "lin_reg.fit(X_poly,df.x)\n",
    "y_pred = lin_reg.predict(X_poly)"
   ]
  },
  {
   "cell_type": "code",
   "execution_count": 58,
   "id": "95b7d503",
   "metadata": {},
   "outputs": [],
   "source": [
    "a = df.x - y_pred"
   ]
  },
  {
   "cell_type": "code",
   "execution_count": 59,
   "id": "476e88e4",
   "metadata": {},
   "outputs": [
    {
     "name": "stdout",
     "output_type": "stream",
     "text": [
      "Несмещенная оценка квадратов ошибки для МНК - 3.783252135910052\n"
     ]
    }
   ],
   "source": [
    "sigma_e2 = np.array([a[i]**2 for i in range(len(a))]).sum()/(60-3)\n",
    "print(f'Несмещенная оценка квадратов ошибки для МНК - {sigma_e2}')"
   ]
  },
  {
   "cell_type": "code",
   "execution_count": 60,
   "id": "97376bf3",
   "metadata": {},
   "outputs": [
    {
     "data": {
      "text/plain": [
       "<AxesSubplot:xlabel='x', ylabel='Count'>"
      ]
     },
     "execution_count": 60,
     "metadata": {},
     "output_type": "execute_result"
    },
    {
     "data": {
      "image/png": "[encoded data removed]",
      "text/plain": [
       "<Figure size 576x432 with 1 Axes>"
      ]
     },
     "metadata": {
      "needs_background": "light"
     },
     "output_type": "display_data"
    }
   ],
   "source": [
    "fig, ax = plt.subplots(figsize=(8, 6))\n",
    "sns.histplot(data=a, kde=True, color='mediumpurple')"
   ]
  },
  {
   "cell_type": "markdown",
   "id": "669585f9",
   "metadata": {},
   "source": [
    "### Критерий Дагостини"
   ]
  },
  {
   "cell_type": "code",
   "execution_count": 62,
   "id": "b9fc3857",
   "metadata": {},
   "outputs": [
    {
     "name": "stdout",
     "output_type": "stream",
     "text": [
      "Есть оcнования считать, что ошибки имеют нормальное распределение\n"
     ]
    }
   ],
   "source": [
    "res = normaltest(a)\n",
    "if res.pvalue > 0.05:\n",
    "    print('Есть оcнования считать, что ошибки имеют нормальное распределение')\n",
    "else:\n",
    "    print('Ошибки не имеют нормальное распределение')"
   ]
  },
  {
   "cell_type": "markdown",
   "id": "990e07fa",
   "metadata": {},
   "source": [
    "### Критерий Дарбина-Уотсона"
   ]
  },
  {
   "cell_type": "code",
   "execution_count": 63,
   "id": "e23b49ef",
   "metadata": {},
   "outputs": [
    {
     "name": "stdout",
     "output_type": "stream",
     "text": [
      "Значение Дарбина-Уотсона = 1.2188379116161898\n"
     ]
    }
   ],
   "source": [
    "e__ = []\n",
    "for i in range(1, a.shape[0]):\n",
    "    e__.append((a[i] - a[i-1])**2)\n",
    "DW = sum(e__)/sum([a[i]**2 for i in range(len(a))])\n",
    "print(f'Значение Дарбина-Уотсона = {DW}')"
   ]
  },
  {
   "cell_type": "code",
   "execution_count": 64,
   "id": "5fb755c4",
   "metadata": {
    "scrolled": true
   },
   "outputs": [
    {
     "name": "stdout",
     "output_type": "stream",
     "text": [
      "Есть положительная корреляция\n"
     ]
    }
   ],
   "source": [
    "dl = 1.48\n",
    "du = 1.69\n",
    "if 0 < DW < dl:\n",
    "    print('Есть положительная корреляция')\n",
    "elif dl < DW < du:\n",
    "    print('Гипотиза о наличии корреляции не отвергается и не принимается')\n",
    "elif du < DW < 4-du:\n",
    "    print('Нет корреляции')\n",
    "elif 4-du < DW < 4-dl:\n",
    "    print('Гипотиза о наличии корреляции не отвергается и не принимается') \n",
    "elif 4-dl < DW < 4:\n",
    "    print('Есть положительная корреляция')"
   ]
  },
  {
   "cell_type": "markdown",
   "id": "65c4dc01",
   "metadata": {},
   "source": [
    "### Критерий Бартлетта"
   ]
  },
  {
   "cell_type": "code",
   "execution_count": 65,
   "id": "3ea0d927",
   "metadata": {},
   "outputs": [
    {
     "name": "stdout",
     "output_type": "stream",
     "text": [
      "Есть основания считать, что остатки равномерно разбросаны\n"
     ]
    }
   ],
   "source": [
    "a1 = a[0:60:3]\n",
    "b = a[1:60:3]\n",
    "c = a[2:60:3]\n",
    "res = bartlett(a1, b, c)\n",
    "if res.pvalue > 0.05:\n",
    "    print('Есть основания считать, что остатки равномерно разбросаны')\n",
    "else:\n",
    "    print('Ошибки не имеют нормальное распределение')"
   ]
  },
  {
   "cell_type": "markdown",
   "id": "a57eaec4",
   "metadata": {},
   "source": [
    "$\\large По \\: критерию \\: Дагостини \\: вышло, \\: что \\: у \\: нас \\: есть \\: основания \\: считать \\: ошибки \\: нормально \\: распределенными. \\: По \\: Дарбину-Уотсону \\: значение \\: попало \\: в \\: 1 \\: область, \\: из \\: чего \\: следует, \\: что \\: есть \\: положительная \\: корреляция. \\: По \\: критерию \\: Бартлетта \\: – \\: есть \\: основания, \\: что \\: остатки \\: равномерно \\: разбросаны.$"
   ]
  },
  {
   "cell_type": "markdown",
   "id": "66783c2f",
   "metadata": {},
   "source": [
    "$\\large -\\; Проверка\\; мультиколлинеарности$"
   ]
  },
  {
   "cell_type": "code",
   "execution_count": 68,
   "id": "245f1906",
   "metadata": {},
   "outputs": [
    {
     "name": "stdout",
     "output_type": "stream",
     "text": [
      "cond(W) = 32.72621002458616\n",
      "Матрицу следует признать мультиколлинеарной\n"
     ]
    }
   ],
   "source": [
    "W = np.dot(X_poly.T, X_poly)\n",
    "con = np.linalg.cond(W)\n",
    "print(f'cond(W) = {con}')\n",
    "if con > 1:\n",
    "    print('Матрицу следует признать мультиколлинеарной')\n",
    "else:\n",
    "    print('Нет мультиколлинеарной')"
   ]
  },
  {
   "cell_type": "markdown",
   "id": "498f0156",
   "metadata": {},
   "source": [
    "$\\large По \\: полученному \\: значению \\: cond(W) \\: получилось, \\: что \\: матрица \\: является \\: мультиколлиниарной, \\: поэтому \\: необходимо \\: использовать \\: ридж-оценку, \\: чтобы \\: избавиться \\: от \\: нее.$"
   ]
  },
  {
   "cell_type": "markdown",
   "id": "fd2498da",
   "metadata": {},
   "source": [
    "$\\large - Ridge\\;-\\;оценка$"
   ]
  },
  {
   "cell_type": "code",
   "execution_count": 69,
   "id": "d2e9fb1a",
   "metadata": {},
   "outputs": [],
   "source": [
    "poly_reg=PolynomialFeatures(degree = 3)     \n",
    "X_poly=poly_reg.fit_transform(np.resize(df.t, (60,1)))\n",
    "ridge = Ridge(alpha=1.0)\n",
    "ridge.fit(X_poly, df.x)\n",
    "y_pred = ridge.predict(X_poly)"
   ]
  },
  {
   "cell_type": "code",
   "execution_count": 70,
   "id": "4efd2a3a",
   "metadata": {},
   "outputs": [],
   "source": [
    "tetha_ridge = ridge.coef_"
   ]
  },
  {
   "cell_type": "code",
   "execution_count": 71,
   "id": "16670ab0",
   "metadata": {},
   "outputs": [
    {
     "name": "stdout",
     "output_type": "stream",
     "text": [
      "МНК-оценка Ридж: 0.0 3.8612196607556006 -0.5576576100126747\n"
     ]
    }
   ],
   "source": [
    "print('МНК-оценка Ридж:', tetha_ridge[0], tetha_ridge[1], tetha_ridge[2])"
   ]
  },
  {
   "cell_type": "code",
   "execution_count": 72,
   "id": "1a991e3d",
   "metadata": {},
   "outputs": [
    {
     "data": {
      "image/png": "[encoded data removed]",
      "text/plain": [
       "<Figure size 1152x432 with 1 Axes>"
      ]
     },
     "metadata": {
      "needs_background": "light"
     },
     "output_type": "display_data"
    }
   ],
   "source": [
    "fig, ax = plt.subplots(figsize=(16, 6))\n",
    "ax.plot(df['t'], df['X_true'], '--',color='coral', linewidth = 5, label='Исходная функция')\n",
    "ax.plot(t, [tetha_poly1[0] + tetha_poly1[1]*i + tetha_poly1[2]*i**2 for i in t], color='khaki', linewidth = 5, label='МНК - полиномиальная')\n",
    "ax.plot(t, [tetha_ridge[0] + tetha_ridge[1]*i + tetha_ridge[2]*i**2 for i in t], color='brown', linewidth = 5, label='МНК - полиномиальная Ридж')\n",
    "ax.scatter(df['t'], df['x'], color='mediumpurple', s=60, label='Наблюдения')\n",
    "ax.scatter(df_test['t'], df_test['x'], color='purple', s=60, label='Наблюдения на тесте')\n",
    "ax.set_xlabel('Параметры h')\n",
    "ax.set_ylabel('Значения Х')\n",
    "ax.grid()\n",
    "ax.legend()\n",
    "plt.show()"
   ]
  },
  {
   "cell_type": "code",
   "execution_count": 73,
   "id": "c4e014f4",
   "metadata": {},
   "outputs": [
    {
     "name": "stdout",
     "output_type": "stream",
     "text": [
      "Несмещенная оценка квадратов ошибки для МНК метод Ридж - 3.9136483874141956\n"
     ]
    }
   ],
   "source": [
    "a = df.x - y_pred\n",
    "sigma_e2 = np.array([a[i]**2 for i in range(len(a))]).sum()/(60-3)\n",
    "print(f'Несмещенная оценка квадратов ошибки для МНК метод Ридж - {sigma_e2}')"
   ]
  },
  {
   "cell_type": "code",
   "execution_count": 74,
   "id": "d556f3b4",
   "metadata": {},
   "outputs": [],
   "source": [
    "xmnkmnk = np.array([[tetha_ridge[0] + tetha_ridge[1]*i + tetha_ridge[2]*i**2 for i in df_test.t]])"
   ]
  },
  {
   "cell_type": "code",
   "execution_count": 75,
   "id": "bc1cd948",
   "metadata": {},
   "outputs": [],
   "source": [
    "a = df_test.x.to_numpy() - xmnkmnk"
   ]
  },
  {
   "cell_type": "code",
   "execution_count": 76,
   "id": "ef7e65bc",
   "metadata": {},
   "outputs": [],
   "source": [
    "a2 = np.array([a[i]**2 for i in range(len(a))])"
   ]
  },
  {
   "cell_type": "code",
   "execution_count": 77,
   "id": "96becd01",
   "metadata": {},
   "outputs": [
    {
     "name": "stdout",
     "output_type": "stream",
     "text": [
      "MSE на тесте для МНК - 18.778892849066427\n"
     ]
    }
   ],
   "source": [
    "print(f'MSE на тесте для МНК - {a2.sum()/40}')"
   ]
  },
  {
   "cell_type": "markdown",
   "id": "ad00def9",
   "metadata": {},
   "source": [
    "$\\large Хоть \\: и \\: оценка \\: квадратов \\: ошибок \\: на \\: тренировочной \\: выборке \\: увеличилось, \\: но \\: как \\: видно \\:\\: из \\: графика, \\: из-за \\: использования \\: ридж-оценки \\: построенная \\: линия \\: притянулась \\: к \\: левым \\: тестовым \\: значениям, \\: что \\: улучшило \\: прогноз \\: модель. \\: Поэтому \\: наилучшей \\: полиномиальной \\: моделью \\: оказалась \\: Y_k= θ_0 + θ_1 h_k + θ_2 {h_k}^2 \\: с \\: использованием \\: ридж-оценки. \\: Но \\: в \\: сравнении \\: с \\: первой \\: моделью, \\: эта \\: модель \\: проигрывает \\: МНК \\: и \\: МНМ \\: оценкам. \\: Значение \\: MSE \\: получилось \\: 18.8$"
   ]
  },
  {
   "cell_type": "markdown",
   "id": "002ac119",
   "metadata": {},
   "source": [
    "## 2.4. Регрессия для наблюдений с выбросами"
   ]
  },
  {
   "cell_type": "code",
   "execution_count": 79,
   "id": "85255375",
   "metadata": {},
   "outputs": [],
   "source": [
    "delta = 0.08\n",
    "e0 = np.array(np.random.normal(mu, sigma, 100))\n",
    "e1 = np.array(np.random.normal(mu, 10*sigma, 100))\n",
    "e = (1-delta)*e0 + delta*e1"
   ]
  },
  {
   "cell_type": "code",
   "execution_count": 80,
   "id": "547049cb",
   "metadata": {},
   "outputs": [],
   "source": [
    "df2 = pd.DataFrame(t[20:80], columns=['t'])\n",
    "df2_test = pd.DataFrame(np.append(t[0:20], t[80:100]), columns=['t'])\n",
    "df2['e'] = e[20:80]\n",
    "df2_test['e']= np.append(e[0:20], e[80:100])\n",
    "x = np.array([f_(t[i])+e[i] for i in range(len(t))])\n",
    "df2['x'] = x[20:80]\n",
    "df2_test['x']= np.append(x[0:20], x[80:100])"
   ]
  },
  {
   "cell_type": "code",
   "execution_count": 81,
   "id": "f8ae95ad",
   "metadata": {},
   "outputs": [
    {
     "data": {
      "text/html": [
       "<div>\n",
       "<style scoped>\n",
       "    .dataframe tbody tr th:only-of-type {\n",
       "        vertical-align: middle;\n",
       "    }\n",
       "\n",
       "    .dataframe tbody tr th {\n",
       "        vertical-align: top;\n",
       "    }\n",
       "\n",
       "    .dataframe thead th {\n",
       "        text-align: right;\n",
       "    }\n",
       "</style>\n",
       "<table border=\"1\" class=\"dataframe\">\n",
       "  <thead>\n",
       "    <tr style=\"text-align: right;\">\n",
       "      <th></th>\n",
       "      <th>0</th>\n",
       "      <th>1</th>\n",
       "      <th>2</th>\n",
       "      <th>3</th>\n",
       "      <th>4</th>\n",
       "      <th>5</th>\n",
       "      <th>6</th>\n",
       "      <th>7</th>\n",
       "      <th>8</th>\n",
       "      <th>9</th>\n",
       "      <th>...</th>\n",
       "      <th>50</th>\n",
       "      <th>51</th>\n",
       "      <th>52</th>\n",
       "      <th>53</th>\n",
       "      <th>54</th>\n",
       "      <th>55</th>\n",
       "      <th>56</th>\n",
       "      <th>57</th>\n",
       "      <th>58</th>\n",
       "      <th>59</th>\n",
       "    </tr>\n",
       "  </thead>\n",
       "  <tbody>\n",
       "    <tr>\n",
       "      <th>t</th>\n",
       "      <td>-1.191919</td>\n",
       "      <td>-1.151515</td>\n",
       "      <td>-1.111111</td>\n",
       "      <td>-1.070707</td>\n",
       "      <td>-1.030303</td>\n",
       "      <td>-0.989899</td>\n",
       "      <td>-0.949495</td>\n",
       "      <td>-0.909091</td>\n",
       "      <td>-0.868687</td>\n",
       "      <td>-0.828283</td>\n",
       "      <td>...</td>\n",
       "      <td>0.828283</td>\n",
       "      <td>0.868687</td>\n",
       "      <td>0.909091</td>\n",
       "      <td>0.949495</td>\n",
       "      <td>0.989899</td>\n",
       "      <td>1.030303</td>\n",
       "      <td>1.070707</td>\n",
       "      <td>1.111111</td>\n",
       "      <td>1.151515</td>\n",
       "      <td>1.191919</td>\n",
       "    </tr>\n",
       "    <tr>\n",
       "      <th>e</th>\n",
       "      <td>-0.999134</td>\n",
       "      <td>-2.423368</td>\n",
       "      <td>2.349522</td>\n",
       "      <td>-1.190705</td>\n",
       "      <td>3.614276</td>\n",
       "      <td>2.990680</td>\n",
       "      <td>0.432753</td>\n",
       "      <td>-0.296234</td>\n",
       "      <td>-2.733204</td>\n",
       "      <td>0.357667</td>\n",
       "      <td>...</td>\n",
       "      <td>-1.169585</td>\n",
       "      <td>-2.428592</td>\n",
       "      <td>1.300362</td>\n",
       "      <td>3.202984</td>\n",
       "      <td>0.063866</td>\n",
       "      <td>1.012708</td>\n",
       "      <td>-0.605727</td>\n",
       "      <td>0.863798</td>\n",
       "      <td>0.823213</td>\n",
       "      <td>1.428523</td>\n",
       "    </tr>\n",
       "    <tr>\n",
       "      <th>x</th>\n",
       "      <td>-2.879430</td>\n",
       "      <td>-4.577721</td>\n",
       "      <td>-0.079257</td>\n",
       "      <td>-3.886356</td>\n",
       "      <td>0.667000</td>\n",
       "      <td>-0.185688</td>\n",
       "      <td>-2.943469</td>\n",
       "      <td>-3.837099</td>\n",
       "      <td>-6.398399</td>\n",
       "      <td>-3.387426</td>\n",
       "      <td>...</td>\n",
       "      <td>-0.380463</td>\n",
       "      <td>-1.598443</td>\n",
       "      <td>2.200995</td>\n",
       "      <td>4.202600</td>\n",
       "      <td>1.189195</td>\n",
       "      <td>2.287968</td>\n",
       "      <td>0.840510</td>\n",
       "      <td>2.498327</td>\n",
       "      <td>2.659182</td>\n",
       "      <td>3.474598</td>\n",
       "    </tr>\n",
       "  </tbody>\n",
       "</table>\n",
       "<p>3 rows × 60 columns</p>\n",
       "</div>"
      ],
      "text/plain": [
       "         0         1         2         3         4         5         6   \\\n",
       "t -1.191919 -1.151515 -1.111111 -1.070707 -1.030303 -0.989899 -0.949495   \n",
       "e -0.999134 -2.423368  2.349522 -1.190705  3.614276  2.990680  0.432753   \n",
       "x -2.879430 -4.577721 -0.079257 -3.886356  0.667000 -0.185688 -2.943469   \n",
       "\n",
       "         7         8         9   ...        50        51        52        53  \\\n",
       "t -0.909091 -0.868687 -0.828283  ...  0.828283  0.868687  0.909091  0.949495   \n",
       "e -0.296234 -2.733204  0.357667  ... -1.169585 -2.428592  1.300362  3.202984   \n",
       "x -3.837099 -6.398399 -3.387426  ... -0.380463 -1.598443  2.200995  4.202600   \n",
       "\n",
       "         54        55        56        57        58        59  \n",
       "t  0.989899  1.030303  1.070707  1.111111  1.151515  1.191919  \n",
       "e  0.063866  1.012708 -0.605727  0.863798  0.823213  1.428523  \n",
       "x  1.189195  2.287968  0.840510  2.498327  2.659182  3.474598  \n",
       "\n",
       "[3 rows x 60 columns]"
      ]
     },
     "execution_count": 81,
     "metadata": {},
     "output_type": "execute_result"
    }
   ],
   "source": [
    "df2.T"
   ]
  },
  {
   "cell_type": "code",
   "execution_count": 82,
   "id": "3f6d606f",
   "metadata": {},
   "outputs": [
    {
     "data": {
      "text/html": [
       "<div>\n",
       "<style scoped>\n",
       "    .dataframe tbody tr th:only-of-type {\n",
       "        vertical-align: middle;\n",
       "    }\n",
       "\n",
       "    .dataframe tbody tr th {\n",
       "        vertical-align: top;\n",
       "    }\n",
       "\n",
       "    .dataframe thead th {\n",
       "        text-align: right;\n",
       "    }\n",
       "</style>\n",
       "<table border=\"1\" class=\"dataframe\">\n",
       "  <thead>\n",
       "    <tr style=\"text-align: right;\">\n",
       "      <th></th>\n",
       "      <th>0</th>\n",
       "      <th>1</th>\n",
       "      <th>2</th>\n",
       "      <th>3</th>\n",
       "      <th>4</th>\n",
       "      <th>5</th>\n",
       "      <th>6</th>\n",
       "      <th>7</th>\n",
       "      <th>8</th>\n",
       "      <th>9</th>\n",
       "      <th>...</th>\n",
       "      <th>30</th>\n",
       "      <th>31</th>\n",
       "      <th>32</th>\n",
       "      <th>33</th>\n",
       "      <th>34</th>\n",
       "      <th>35</th>\n",
       "      <th>36</th>\n",
       "      <th>37</th>\n",
       "      <th>38</th>\n",
       "      <th>39</th>\n",
       "    </tr>\n",
       "  </thead>\n",
       "  <tbody>\n",
       "    <tr>\n",
       "      <th>t</th>\n",
       "      <td>-2.000000</td>\n",
       "      <td>-1.959596</td>\n",
       "      <td>-1.919192</td>\n",
       "      <td>-1.878788</td>\n",
       "      <td>-1.838384</td>\n",
       "      <td>-1.797980</td>\n",
       "      <td>-1.757576</td>\n",
       "      <td>-1.717172</td>\n",
       "      <td>-1.676768</td>\n",
       "      <td>-1.636364</td>\n",
       "      <td>...</td>\n",
       "      <td>1.636364</td>\n",
       "      <td>1.676768</td>\n",
       "      <td>1.717172</td>\n",
       "      <td>1.757576</td>\n",
       "      <td>1.797980</td>\n",
       "      <td>1.838384</td>\n",
       "      <td>1.878788</td>\n",
       "      <td>1.919192</td>\n",
       "      <td>1.959596</td>\n",
       "      <td>2.000000</td>\n",
       "    </tr>\n",
       "    <tr>\n",
       "      <th>e</th>\n",
       "      <td>-4.088875</td>\n",
       "      <td>-0.532669</td>\n",
       "      <td>-2.505549</td>\n",
       "      <td>2.828827</td>\n",
       "      <td>1.375443</td>\n",
       "      <td>-1.558321</td>\n",
       "      <td>-1.412272</td>\n",
       "      <td>0.340437</td>\n",
       "      <td>0.339257</td>\n",
       "      <td>-0.899080</td>\n",
       "      <td>...</td>\n",
       "      <td>-1.519752</td>\n",
       "      <td>-1.748918</td>\n",
       "      <td>0.859438</td>\n",
       "      <td>-1.379213</td>\n",
       "      <td>-1.344991</td>\n",
       "      <td>1.666048</td>\n",
       "      <td>2.701141</td>\n",
       "      <td>-0.358654</td>\n",
       "      <td>0.865191</td>\n",
       "      <td>0.202746</td>\n",
       "    </tr>\n",
       "    <tr>\n",
       "      <th>x</th>\n",
       "      <td>-8.027710</td>\n",
       "      <td>-4.035001</td>\n",
       "      <td>-5.577761</td>\n",
       "      <td>0.172480</td>\n",
       "      <td>-0.886876</td>\n",
       "      <td>-3.455567</td>\n",
       "      <td>-2.979873</td>\n",
       "      <td>-0.938630</td>\n",
       "      <td>-0.697142</td>\n",
       "      <td>-1.742385</td>\n",
       "      <td>...</td>\n",
       "      <td>2.220965</td>\n",
       "      <td>2.021975</td>\n",
       "      <td>4.638811</td>\n",
       "      <td>2.389338</td>\n",
       "      <td>2.396489</td>\n",
       "      <td>5.367819</td>\n",
       "      <td>6.354640</td>\n",
       "      <td>3.242421</td>\n",
       "      <td>4.414314</td>\n",
       "      <td>3.705080</td>\n",
       "    </tr>\n",
       "  </tbody>\n",
       "</table>\n",
       "<p>3 rows × 40 columns</p>\n",
       "</div>"
      ],
      "text/plain": [
       "         0         1         2         3         4         5         6   \\\n",
       "t -2.000000 -1.959596 -1.919192 -1.878788 -1.838384 -1.797980 -1.757576   \n",
       "e -4.088875 -0.532669 -2.505549  2.828827  1.375443 -1.558321 -1.412272   \n",
       "x -8.027710 -4.035001 -5.577761  0.172480 -0.886876 -3.455567 -2.979873   \n",
       "\n",
       "         7         8         9   ...        30        31        32        33  \\\n",
       "t -1.717172 -1.676768 -1.636364  ...  1.636364  1.676768  1.717172  1.757576   \n",
       "e  0.340437  0.339257 -0.899080  ... -1.519752 -1.748918  0.859438 -1.379213   \n",
       "x -0.938630 -0.697142 -1.742385  ...  2.220965  2.021975  4.638811  2.389338   \n",
       "\n",
       "         34        35        36        37        38        39  \n",
       "t  1.797980  1.838384  1.878788  1.919192  1.959596  2.000000  \n",
       "e -1.344991  1.666048  2.701141 -0.358654  0.865191  0.202746  \n",
       "x  2.396489  5.367819  6.354640  3.242421  4.414314  3.705080  \n",
       "\n",
       "[3 rows x 40 columns]"
      ]
     },
     "execution_count": 82,
     "metadata": {},
     "output_type": "execute_result"
    }
   ],
   "source": [
    "df2_test.T"
   ]
  },
  {
   "cell_type": "markdown",
   "id": "a789301d",
   "metadata": {},
   "source": [
    "$$ \\Large Для \\; модели \\; Y_k = \\theta_0 + \\theta_1 \\cdot h_k, \\; k = 1 ..60 \\;$$\n",
    "$$$$\n",
    "$ \\Large -\\; найти \\; МНК-оцеку \\; неизвестных \\; параметров$\n"
   ]
  },
  {
   "cell_type": "markdown",
   "id": "ca570d46",
   "metadata": {},
   "source": [
    "$ \\Large Найдем \\; ее \\; по \\; формуле:$\n",
    "$$\\Large \\hat{\\Theta} = (H^T \\cdot H)^{-1} H^T Y$$"
   ]
  },
  {
   "cell_type": "code",
   "execution_count": 83,
   "id": "4db33de8",
   "metadata": {},
   "outputs": [
    {
     "name": "stdout",
     "output_type": "stream",
     "text": [
      "МНК-оценка: -0.2545524223805595 2.658961772560884\n"
     ]
    }
   ],
   "source": [
    "H_T = np.array([[1 for i in range(60)], df['t']])\n",
    "H = H_T.T\n",
    "H.shape, H_T.shape\n",
    "W = np.dot(H_T, H)\n",
    "W = np.linalg.inv(W)\n",
    "HX = np.dot(H_T, df2.x)\n",
    "tetha = np.dot(W, HX)\n",
    "print('МНК-оценка:', tetha[0], tetha[1])"
   ]
  },
  {
   "cell_type": "code",
   "execution_count": 84,
   "id": "a17473f1",
   "metadata": {},
   "outputs": [
    {
     "data": {
      "text/html": [
       "<div>\n",
       "<style scoped>\n",
       "    .dataframe tbody tr th:only-of-type {\n",
       "        vertical-align: middle;\n",
       "    }\n",
       "\n",
       "    .dataframe tbody tr th {\n",
       "        vertical-align: top;\n",
       "    }\n",
       "\n",
       "    .dataframe thead th {\n",
       "        text-align: right;\n",
       "    }\n",
       "</style>\n",
       "<table border=\"1\" class=\"dataframe\">\n",
       "  <thead>\n",
       "    <tr style=\"text-align: right;\">\n",
       "      <th></th>\n",
       "      <th>0</th>\n",
       "      <th>1</th>\n",
       "      <th>2</th>\n",
       "      <th>3</th>\n",
       "      <th>4</th>\n",
       "      <th>5</th>\n",
       "      <th>6</th>\n",
       "      <th>7</th>\n",
       "      <th>8</th>\n",
       "      <th>9</th>\n",
       "      <th>...</th>\n",
       "      <th>50</th>\n",
       "      <th>51</th>\n",
       "      <th>52</th>\n",
       "      <th>53</th>\n",
       "      <th>54</th>\n",
       "      <th>55</th>\n",
       "      <th>56</th>\n",
       "      <th>57</th>\n",
       "      <th>58</th>\n",
       "      <th>59</th>\n",
       "    </tr>\n",
       "  </thead>\n",
       "  <tbody>\n",
       "    <tr>\n",
       "      <th>t</th>\n",
       "      <td>-1.191919</td>\n",
       "      <td>-1.151515</td>\n",
       "      <td>-1.111111</td>\n",
       "      <td>-1.070707</td>\n",
       "      <td>-1.030303</td>\n",
       "      <td>-0.989899</td>\n",
       "      <td>-0.949495</td>\n",
       "      <td>-0.909091</td>\n",
       "      <td>-0.868687</td>\n",
       "      <td>-0.828283</td>\n",
       "      <td>...</td>\n",
       "      <td>0.828283</td>\n",
       "      <td>0.868687</td>\n",
       "      <td>0.909091</td>\n",
       "      <td>0.949495</td>\n",
       "      <td>0.989899</td>\n",
       "      <td>1.030303</td>\n",
       "      <td>1.070707</td>\n",
       "      <td>1.111111</td>\n",
       "      <td>1.151515</td>\n",
       "      <td>1.191919</td>\n",
       "    </tr>\n",
       "    <tr>\n",
       "      <th>e</th>\n",
       "      <td>-0.999134</td>\n",
       "      <td>-2.423368</td>\n",
       "      <td>2.349522</td>\n",
       "      <td>-1.190705</td>\n",
       "      <td>3.614276</td>\n",
       "      <td>2.990680</td>\n",
       "      <td>0.432753</td>\n",
       "      <td>-0.296234</td>\n",
       "      <td>-2.733204</td>\n",
       "      <td>0.357667</td>\n",
       "      <td>...</td>\n",
       "      <td>-1.169585</td>\n",
       "      <td>-2.428592</td>\n",
       "      <td>1.300362</td>\n",
       "      <td>3.202984</td>\n",
       "      <td>0.063866</td>\n",
       "      <td>1.012708</td>\n",
       "      <td>-0.605727</td>\n",
       "      <td>0.863798</td>\n",
       "      <td>0.823213</td>\n",
       "      <td>1.428523</td>\n",
       "    </tr>\n",
       "    <tr>\n",
       "      <th>x</th>\n",
       "      <td>-2.879430</td>\n",
       "      <td>-4.577721</td>\n",
       "      <td>-0.079257</td>\n",
       "      <td>-3.886356</td>\n",
       "      <td>0.667000</td>\n",
       "      <td>-0.185688</td>\n",
       "      <td>-2.943469</td>\n",
       "      <td>-3.837099</td>\n",
       "      <td>-6.398399</td>\n",
       "      <td>-3.387426</td>\n",
       "      <td>...</td>\n",
       "      <td>-0.380463</td>\n",
       "      <td>-1.598443</td>\n",
       "      <td>2.200995</td>\n",
       "      <td>4.202600</td>\n",
       "      <td>1.189195</td>\n",
       "      <td>2.287968</td>\n",
       "      <td>0.840510</td>\n",
       "      <td>2.498327</td>\n",
       "      <td>2.659182</td>\n",
       "      <td>3.474598</td>\n",
       "    </tr>\n",
       "    <tr>\n",
       "      <th>Xmnk</th>\n",
       "      <td>-3.423820</td>\n",
       "      <td>-3.316387</td>\n",
       "      <td>-3.208954</td>\n",
       "      <td>-3.101522</td>\n",
       "      <td>-2.994089</td>\n",
       "      <td>-2.886656</td>\n",
       "      <td>-2.779223</td>\n",
       "      <td>-2.671790</td>\n",
       "      <td>-2.564358</td>\n",
       "      <td>-2.456925</td>\n",
       "      <td>...</td>\n",
       "      <td>1.947820</td>\n",
       "      <td>2.055253</td>\n",
       "      <td>2.162686</td>\n",
       "      <td>2.270118</td>\n",
       "      <td>2.377551</td>\n",
       "      <td>2.484984</td>\n",
       "      <td>2.592417</td>\n",
       "      <td>2.699850</td>\n",
       "      <td>2.807282</td>\n",
       "      <td>2.914715</td>\n",
       "    </tr>\n",
       "    <tr>\n",
       "      <th>X_true</th>\n",
       "      <td>-1.880296</td>\n",
       "      <td>-2.154353</td>\n",
       "      <td>-2.428779</td>\n",
       "      <td>-2.695651</td>\n",
       "      <td>-2.947276</td>\n",
       "      <td>-3.176368</td>\n",
       "      <td>-3.376222</td>\n",
       "      <td>-3.540866</td>\n",
       "      <td>-3.665195</td>\n",
       "      <td>-3.745092</td>\n",
       "      <td>...</td>\n",
       "      <td>0.789122</td>\n",
       "      <td>0.830149</td>\n",
       "      <td>0.900633</td>\n",
       "      <td>0.999616</td>\n",
       "      <td>1.125329</td>\n",
       "      <td>1.275260</td>\n",
       "      <td>1.446237</td>\n",
       "      <td>1.634529</td>\n",
       "      <td>1.835969</td>\n",
       "      <td>2.046075</td>\n",
       "    </tr>\n",
       "  </tbody>\n",
       "</table>\n",
       "<p>5 rows × 60 columns</p>\n",
       "</div>"
      ],
      "text/plain": [
       "              0         1         2         3         4         5         6   \\\n",
       "t      -1.191919 -1.151515 -1.111111 -1.070707 -1.030303 -0.989899 -0.949495   \n",
       "e      -0.999134 -2.423368  2.349522 -1.190705  3.614276  2.990680  0.432753   \n",
       "x      -2.879430 -4.577721 -0.079257 -3.886356  0.667000 -0.185688 -2.943469   \n",
       "Xmnk   -3.423820 -3.316387 -3.208954 -3.101522 -2.994089 -2.886656 -2.779223   \n",
       "X_true -1.880296 -2.154353 -2.428779 -2.695651 -2.947276 -3.176368 -3.376222   \n",
       "\n",
       "              7         8         9   ...        50        51        52  \\\n",
       "t      -0.909091 -0.868687 -0.828283  ...  0.828283  0.868687  0.909091   \n",
       "e      -0.296234 -2.733204  0.357667  ... -1.169585 -2.428592  1.300362   \n",
       "x      -3.837099 -6.398399 -3.387426  ... -0.380463 -1.598443  2.200995   \n",
       "Xmnk   -2.671790 -2.564358 -2.456925  ...  1.947820  2.055253  2.162686   \n",
       "X_true -3.540866 -3.665195 -3.745092  ...  0.789122  0.830149  0.900633   \n",
       "\n",
       "              53        54        55        56        57        58        59  \n",
       "t       0.949495  0.989899  1.030303  1.070707  1.111111  1.151515  1.191919  \n",
       "e       3.202984  0.063866  1.012708 -0.605727  0.863798  0.823213  1.428523  \n",
       "x       4.202600  1.189195  2.287968  0.840510  2.498327  2.659182  3.474598  \n",
       "Xmnk    2.270118  2.377551  2.484984  2.592417  2.699850  2.807282  2.914715  \n",
       "X_true  0.999616  1.125329  1.275260  1.446237  1.634529  1.835969  2.046075  \n",
       "\n",
       "[5 rows x 60 columns]"
      ]
     },
     "execution_count": 84,
     "metadata": {},
     "output_type": "execute_result"
    }
   ],
   "source": [
    "Xmnk = np.array([tetha[0] + tetha[1]*i for i in df.t])\n",
    "X_true = np.array([f_(i) for i in df.t])\n",
    "df2['Xmnk'] = Xmnk\n",
    "df2['X_true'] = X_true\n",
    "df2.T"
   ]
  },
  {
   "cell_type": "code",
   "execution_count": 85,
   "id": "bb4d8baa",
   "metadata": {},
   "outputs": [
    {
     "data": {
      "image/png": "[encoded data removed]",
      "text/plain": [
       "<Figure size 1152x432 with 1 Axes>"
      ]
     },
     "metadata": {
      "needs_background": "light"
     },
     "output_type": "display_data"
    }
   ],
   "source": [
    "fig, ax = plt.subplots(figsize=(16, 6))\n",
    "ax.plot(df2['t'], df2['Xmnk'], color='khaki', linewidth = 5, label='МНК')\n",
    "ax.scatter(df2['t'], df2['x'], color='mediumpurple', s=60, label='Наблюдения')\n",
    "ax.set_xlabel('Параметры h')\n",
    "ax.set_ylabel('Значения Х')\n",
    "ax.grid()\n",
    "ax.legend()\n",
    "plt.show()"
   ]
  },
  {
   "cell_type": "markdown",
   "id": "12ddc370",
   "metadata": {},
   "source": [
    "$\\Large Для\\; остатков\\; \\hat{e_k} = X_k - \\hat{X_k}:$"
   ]
  },
  {
   "cell_type": "markdown",
   "id": "14132c16",
   "metadata": {},
   "source": [
    "$\\Large - Построить \\; гистограмму\\; и \\; ядерную\\; оценку$"
   ]
  },
  {
   "cell_type": "code",
   "execution_count": 86,
   "id": "588fe5f6",
   "metadata": {},
   "outputs": [
    {
     "data": {
      "text/html": [
       "<div>\n",
       "<style scoped>\n",
       "    .dataframe tbody tr th:only-of-type {\n",
       "        vertical-align: middle;\n",
       "    }\n",
       "\n",
       "    .dataframe tbody tr th {\n",
       "        vertical-align: top;\n",
       "    }\n",
       "\n",
       "    .dataframe thead th {\n",
       "        text-align: right;\n",
       "    }\n",
       "</style>\n",
       "<table border=\"1\" class=\"dataframe\">\n",
       "  <thead>\n",
       "    <tr style=\"text-align: right;\">\n",
       "      <th></th>\n",
       "      <th>0</th>\n",
       "      <th>1</th>\n",
       "      <th>2</th>\n",
       "      <th>3</th>\n",
       "      <th>4</th>\n",
       "      <th>5</th>\n",
       "      <th>6</th>\n",
       "      <th>7</th>\n",
       "      <th>8</th>\n",
       "      <th>9</th>\n",
       "      <th>...</th>\n",
       "      <th>50</th>\n",
       "      <th>51</th>\n",
       "      <th>52</th>\n",
       "      <th>53</th>\n",
       "      <th>54</th>\n",
       "      <th>55</th>\n",
       "      <th>56</th>\n",
       "      <th>57</th>\n",
       "      <th>58</th>\n",
       "      <th>59</th>\n",
       "    </tr>\n",
       "  </thead>\n",
       "  <tbody>\n",
       "    <tr>\n",
       "      <th>t</th>\n",
       "      <td>-1.191919</td>\n",
       "      <td>-1.151515</td>\n",
       "      <td>-1.111111</td>\n",
       "      <td>-1.070707</td>\n",
       "      <td>-1.030303</td>\n",
       "      <td>-0.989899</td>\n",
       "      <td>-0.949495</td>\n",
       "      <td>-0.909091</td>\n",
       "      <td>-0.868687</td>\n",
       "      <td>-0.828283</td>\n",
       "      <td>...</td>\n",
       "      <td>0.828283</td>\n",
       "      <td>0.868687</td>\n",
       "      <td>0.909091</td>\n",
       "      <td>0.949495</td>\n",
       "      <td>0.989899</td>\n",
       "      <td>1.030303</td>\n",
       "      <td>1.070707</td>\n",
       "      <td>1.111111</td>\n",
       "      <td>1.151515</td>\n",
       "      <td>1.191919</td>\n",
       "    </tr>\n",
       "    <tr>\n",
       "      <th>e</th>\n",
       "      <td>-0.999134</td>\n",
       "      <td>-2.423368</td>\n",
       "      <td>2.349522</td>\n",
       "      <td>-1.190705</td>\n",
       "      <td>3.614276</td>\n",
       "      <td>2.990680</td>\n",
       "      <td>0.432753</td>\n",
       "      <td>-0.296234</td>\n",
       "      <td>-2.733204</td>\n",
       "      <td>0.357667</td>\n",
       "      <td>...</td>\n",
       "      <td>-1.169585</td>\n",
       "      <td>-2.428592</td>\n",
       "      <td>1.300362</td>\n",
       "      <td>3.202984</td>\n",
       "      <td>0.063866</td>\n",
       "      <td>1.012708</td>\n",
       "      <td>-0.605727</td>\n",
       "      <td>0.863798</td>\n",
       "      <td>0.823213</td>\n",
       "      <td>1.428523</td>\n",
       "    </tr>\n",
       "    <tr>\n",
       "      <th>x</th>\n",
       "      <td>-2.879430</td>\n",
       "      <td>-4.577721</td>\n",
       "      <td>-0.079257</td>\n",
       "      <td>-3.886356</td>\n",
       "      <td>0.667000</td>\n",
       "      <td>-0.185688</td>\n",
       "      <td>-2.943469</td>\n",
       "      <td>-3.837099</td>\n",
       "      <td>-6.398399</td>\n",
       "      <td>-3.387426</td>\n",
       "      <td>...</td>\n",
       "      <td>-0.380463</td>\n",
       "      <td>-1.598443</td>\n",
       "      <td>2.200995</td>\n",
       "      <td>4.202600</td>\n",
       "      <td>1.189195</td>\n",
       "      <td>2.287968</td>\n",
       "      <td>0.840510</td>\n",
       "      <td>2.498327</td>\n",
       "      <td>2.659182</td>\n",
       "      <td>3.474598</td>\n",
       "    </tr>\n",
       "    <tr>\n",
       "      <th>Xmnk</th>\n",
       "      <td>-3.423820</td>\n",
       "      <td>-3.316387</td>\n",
       "      <td>-3.208954</td>\n",
       "      <td>-3.101522</td>\n",
       "      <td>-2.994089</td>\n",
       "      <td>-2.886656</td>\n",
       "      <td>-2.779223</td>\n",
       "      <td>-2.671790</td>\n",
       "      <td>-2.564358</td>\n",
       "      <td>-2.456925</td>\n",
       "      <td>...</td>\n",
       "      <td>1.947820</td>\n",
       "      <td>2.055253</td>\n",
       "      <td>2.162686</td>\n",
       "      <td>2.270118</td>\n",
       "      <td>2.377551</td>\n",
       "      <td>2.484984</td>\n",
       "      <td>2.592417</td>\n",
       "      <td>2.699850</td>\n",
       "      <td>2.807282</td>\n",
       "      <td>2.914715</td>\n",
       "    </tr>\n",
       "    <tr>\n",
       "      <th>X_true</th>\n",
       "      <td>-1.880296</td>\n",
       "      <td>-2.154353</td>\n",
       "      <td>-2.428779</td>\n",
       "      <td>-2.695651</td>\n",
       "      <td>-2.947276</td>\n",
       "      <td>-3.176368</td>\n",
       "      <td>-3.376222</td>\n",
       "      <td>-3.540866</td>\n",
       "      <td>-3.665195</td>\n",
       "      <td>-3.745092</td>\n",
       "      <td>...</td>\n",
       "      <td>0.789122</td>\n",
       "      <td>0.830149</td>\n",
       "      <td>0.900633</td>\n",
       "      <td>0.999616</td>\n",
       "      <td>1.125329</td>\n",
       "      <td>1.275260</td>\n",
       "      <td>1.446237</td>\n",
       "      <td>1.634529</td>\n",
       "      <td>1.835969</td>\n",
       "      <td>2.046075</td>\n",
       "    </tr>\n",
       "    <tr>\n",
       "      <th>X_true-Xmnk</th>\n",
       "      <td>0.544390</td>\n",
       "      <td>-1.261334</td>\n",
       "      <td>3.129697</td>\n",
       "      <td>-0.784835</td>\n",
       "      <td>3.661089</td>\n",
       "      <td>2.700968</td>\n",
       "      <td>-0.164245</td>\n",
       "      <td>-1.165309</td>\n",
       "      <td>-3.834042</td>\n",
       "      <td>-0.930501</td>\n",
       "      <td>...</td>\n",
       "      <td>-2.328282</td>\n",
       "      <td>-3.653695</td>\n",
       "      <td>0.038309</td>\n",
       "      <td>1.932481</td>\n",
       "      <td>-1.188356</td>\n",
       "      <td>-0.197016</td>\n",
       "      <td>-1.751907</td>\n",
       "      <td>-0.201522</td>\n",
       "      <td>-0.148101</td>\n",
       "      <td>0.559883</td>\n",
       "    </tr>\n",
       "    <tr>\n",
       "      <th>(X_true-Xmnk)^2</th>\n",
       "      <td>0.296361</td>\n",
       "      <td>1.590964</td>\n",
       "      <td>9.795005</td>\n",
       "      <td>0.615966</td>\n",
       "      <td>13.403570</td>\n",
       "      <td>7.295229</td>\n",
       "      <td>0.026977</td>\n",
       "      <td>1.357944</td>\n",
       "      <td>14.699875</td>\n",
       "      <td>0.865832</td>\n",
       "      <td>...</td>\n",
       "      <td>5.420899</td>\n",
       "      <td>13.349490</td>\n",
       "      <td>0.001468</td>\n",
       "      <td>3.734485</td>\n",
       "      <td>1.412191</td>\n",
       "      <td>0.038815</td>\n",
       "      <td>3.069178</td>\n",
       "      <td>0.040611</td>\n",
       "      <td>0.021934</td>\n",
       "      <td>0.313469</td>\n",
       "    </tr>\n",
       "  </tbody>\n",
       "</table>\n",
       "<p>7 rows × 60 columns</p>\n",
       "</div>"
      ],
      "text/plain": [
       "                       0         1         2         3          4         5   \\\n",
       "t               -1.191919 -1.151515 -1.111111 -1.070707  -1.030303 -0.989899   \n",
       "e               -0.999134 -2.423368  2.349522 -1.190705   3.614276  2.990680   \n",
       "x               -2.879430 -4.577721 -0.079257 -3.886356   0.667000 -0.185688   \n",
       "Xmnk            -3.423820 -3.316387 -3.208954 -3.101522  -2.994089 -2.886656   \n",
       "X_true          -1.880296 -2.154353 -2.428779 -2.695651  -2.947276 -3.176368   \n",
       "X_true-Xmnk      0.544390 -1.261334  3.129697 -0.784835   3.661089  2.700968   \n",
       "(X_true-Xmnk)^2  0.296361  1.590964  9.795005  0.615966  13.403570  7.295229   \n",
       "\n",
       "                       6         7          8         9   ...        50  \\\n",
       "t               -0.949495 -0.909091  -0.868687 -0.828283  ...  0.828283   \n",
       "e                0.432753 -0.296234  -2.733204  0.357667  ... -1.169585   \n",
       "x               -2.943469 -3.837099  -6.398399 -3.387426  ... -0.380463   \n",
       "Xmnk            -2.779223 -2.671790  -2.564358 -2.456925  ...  1.947820   \n",
       "X_true          -3.376222 -3.540866  -3.665195 -3.745092  ...  0.789122   \n",
       "X_true-Xmnk     -0.164245 -1.165309  -3.834042 -0.930501  ... -2.328282   \n",
       "(X_true-Xmnk)^2  0.026977  1.357944  14.699875  0.865832  ...  5.420899   \n",
       "\n",
       "                        51        52        53        54        55        56  \\\n",
       "t                 0.868687  0.909091  0.949495  0.989899  1.030303  1.070707   \n",
       "e                -2.428592  1.300362  3.202984  0.063866  1.012708 -0.605727   \n",
       "x                -1.598443  2.200995  4.202600  1.189195  2.287968  0.840510   \n",
       "Xmnk              2.055253  2.162686  2.270118  2.377551  2.484984  2.592417   \n",
       "X_true            0.830149  0.900633  0.999616  1.125329  1.275260  1.446237   \n",
       "X_true-Xmnk      -3.653695  0.038309  1.932481 -1.188356 -0.197016 -1.751907   \n",
       "(X_true-Xmnk)^2  13.349490  0.001468  3.734485  1.412191  0.038815  3.069178   \n",
       "\n",
       "                       57        58        59  \n",
       "t                1.111111  1.151515  1.191919  \n",
       "e                0.863798  0.823213  1.428523  \n",
       "x                2.498327  2.659182  3.474598  \n",
       "Xmnk             2.699850  2.807282  2.914715  \n",
       "X_true           1.634529  1.835969  2.046075  \n",
       "X_true-Xmnk     -0.201522 -0.148101  0.559883  \n",
       "(X_true-Xmnk)^2  0.040611  0.021934  0.313469  \n",
       "\n",
       "[7 rows x 60 columns]"
      ]
     },
     "execution_count": 86,
     "metadata": {},
     "output_type": "execute_result"
    }
   ],
   "source": [
    "df2['X_true-Xmnk'] = (df2.x - df2['Xmnk'])\n",
    "df2['(X_true-Xmnk)^2'] = (df2.x - df2['Xmnk'])**2\n",
    "df2.T"
   ]
  },
  {
   "cell_type": "code",
   "execution_count": 87,
   "id": "adf36203",
   "metadata": {},
   "outputs": [
    {
     "name": "stdout",
     "output_type": "stream",
     "text": [
      "Несмещенная оценка квадратов ошибки для МНК - 4.614537281320333\n"
     ]
    }
   ],
   "source": [
    "sigma_e2 = df2['(X_true-Xmnk)^2'].sum()/(60-2)\n",
    "print(f'Несмещенная оценка квадратов ошибки для МНК - {sigma_e2}')"
   ]
  },
  {
   "cell_type": "code",
   "execution_count": 88,
   "id": "5ac245e2",
   "metadata": {},
   "outputs": [
    {
     "data": {
      "text/plain": [
       "<AxesSubplot:xlabel='X_true-Xmnk', ylabel='Count'>"
      ]
     },
     "execution_count": 88,
     "metadata": {},
     "output_type": "execute_result"
    },
    {
     "data": {
      "image/png": "[encoded data removed]",
      "text/plain": [
       "<Figure size 576x432 with 1 Axes>"
      ]
     },
     "metadata": {
      "needs_background": "light"
     },
     "output_type": "display_data"
    }
   ],
   "source": [
    "fig, ax = plt.subplots(figsize=(8, 6))\n",
    "sns.histplot(data=df2, x='X_true-Xmnk', kde=True, color='mediumpurple')"
   ]
  },
  {
   "cell_type": "markdown",
   "id": "b6901203",
   "metadata": {},
   "source": [
    "### Критерий Дагостини"
   ]
  },
  {
   "cell_type": "code",
   "execution_count": 89,
   "id": "611213c3",
   "metadata": {},
   "outputs": [
    {
     "name": "stdout",
     "output_type": "stream",
     "text": [
      "Есть оcнования считать, что ошибки имеют нормальное распределение\n"
     ]
    }
   ],
   "source": [
    "res = normaltest(df2['X_true-Xmnk'])\n",
    "if res.pvalue > 0.05:\n",
    "    print('Есть оcнования считать, что ошибки имеют нормальное распределение')\n",
    "else:\n",
    "    print('Ошибки не имеют нормальное распределение')"
   ]
  },
  {
   "cell_type": "markdown",
   "id": "50c351e2",
   "metadata": {},
   "source": [
    "### Критерий Дарбина-Уотсона"
   ]
  },
  {
   "cell_type": "code",
   "execution_count": 90,
   "id": "c1d59fe6",
   "metadata": {},
   "outputs": [
    {
     "name": "stdout",
     "output_type": "stream",
     "text": [
      "Значение Дарбина-Уотсона = 1.4887236384075972\n"
     ]
    }
   ],
   "source": [
    "e__ = []\n",
    "for i in range(1, df2.shape[0]):\n",
    "    e__.append((df2['X_true-Xmnk'][i] - df2['X_true-Xmnk'][i-1])**2)\n",
    "DW = sum(e__)/df2['(X_true-Xmnk)^2'].sum()\n",
    "print(f'Значение Дарбина-Уотсона = {DW}')"
   ]
  },
  {
   "cell_type": "code",
   "execution_count": 91,
   "id": "8939772d",
   "metadata": {},
   "outputs": [
    {
     "name": "stdout",
     "output_type": "stream",
     "text": [
      "Есть положительная корреляция\n"
     ]
    }
   ],
   "source": [
    "dl = 1.51\n",
    "du = 1.65\n",
    "if 0 < DW < dl:\n",
    "    print('Есть положительная корреляция')\n",
    "elif dl < DW < du:\n",
    "    print('Гипотиза о наличии корреляции не отвергается и не принимается')\n",
    "elif du < DW < 4-du:\n",
    "    print('Нет корреляции')\n",
    "elif 4-du < DW < 4-dl:\n",
    "    print('Гипотиза о наличии корреляции не отвергается и не принимается') \n",
    "elif 4-dl < DW < 4:\n",
    "    print('Есть положительная корреляция')"
   ]
  },
  {
   "cell_type": "markdown",
   "id": "6ab01e30",
   "metadata": {},
   "source": [
    "### Критерий Бартлетта"
   ]
  },
  {
   "cell_type": "code",
   "execution_count": 92,
   "id": "799218cf",
   "metadata": {},
   "outputs": [
    {
     "name": "stdout",
     "output_type": "stream",
     "text": [
      "Есть основания считать, что остатки равномерно разбросаны\n"
     ]
    }
   ],
   "source": [
    "a = df2['X_true-Xmnk'].to_numpy()\n",
    "a = a[0:60:3]\n",
    "b = a[1:60:3]\n",
    "c = a[2:60:3]\n",
    "res = bartlett(a, b, c)\n",
    "if res.pvalue > 0.05:\n",
    "    print('Есть основания считать, что остатки равномерно разбросаны')\n",
    "else:\n",
    "    print('Ошибки не имеют нормальное распределение')"
   ]
  },
  {
   "cell_type": "markdown",
   "id": "f213c927",
   "metadata": {},
   "source": [
    "$\\large По \\: критерию \\: Дагостини \\: вышло, \\: что \\: у \\: нас \\: есть \\: основания \\: считать \\: ошибки \\: нормально \\: распределенными. \\: По \\: Дарбину-Уотсону \\: значение \\: попало \\: в \\: 1 \\: область, \\: из \\: чего \\: следует, \\: что \\: есть \\: положительная \\: корреляция. \\: По \\: критерию \\: Бартлетта \\: – \\: есть \\: основания, \\: что \\: остатки \\: равномерно \\: разбросаны.$"
   ]
  },
  {
   "cell_type": "markdown",
   "id": "a774ccb5",
   "metadata": {},
   "source": [
    "### Отбросим выбросы"
   ]
  },
  {
   "cell_type": "code",
   "execution_count": 98,
   "id": "58bd6bc5",
   "metadata": {},
   "outputs": [
    {
     "name": "stdout",
     "output_type": "stream",
     "text": [
      "1.1768325869149838\n"
     ]
    }
   ],
   "source": [
    "k = abs(df2['X_true-Xmnk']).median()\n",
    "print(k)"
   ]
  },
  {
   "cell_type": "code",
   "execution_count": 99,
   "id": "660acaa9",
   "metadata": {},
   "outputs": [],
   "source": [
    "df_norm = df2[abs(df2['X_true-Xmnk']) < 2*k/0.675]\n",
    "df_lol = df2[abs(df2['X_true-Xmnk']) > 2*k/0.675]"
   ]
  },
  {
   "cell_type": "code",
   "execution_count": 100,
   "id": "b4e4a0c9",
   "metadata": {},
   "outputs": [
    {
     "data": {
      "text/plain": [
       "((51, 2), (2, 51), 9)"
      ]
     },
     "execution_count": 100,
     "metadata": {},
     "output_type": "execute_result"
    }
   ],
   "source": [
    "H_T = np.array([[1 for i in range(len(df_norm))], df_norm.t])\n",
    "H = H_T.T\n",
    "l = 60 - H.shape[0]\n",
    "H.shape, H_T.shape, l"
   ]
  },
  {
   "cell_type": "code",
   "execution_count": 101,
   "id": "a9640e44",
   "metadata": {},
   "outputs": [
    {
     "name": "stdout",
     "output_type": "stream",
     "text": [
      "МНК-оценка: -0.16605365296014135 2.5437147160171945\n"
     ]
    }
   ],
   "source": [
    "W = np.dot(H_T, H)\n",
    "W = np.linalg.inv(W)\n",
    "HX = np.dot(H_T, df_norm.x)\n",
    "tetha_new = np.dot(W, HX)\n",
    "print('МНК-оценка:', tetha_new[0], tetha_new[1])"
   ]
  },
  {
   "cell_type": "code",
   "execution_count": 102,
   "id": "da8c75c9",
   "metadata": {},
   "outputs": [
    {
     "data": {
      "image/png": "[encoded data removed]",
      "text/plain": [
       "<Figure size 1152x432 with 1 Axes>"
      ]
     },
     "metadata": {
      "needs_background": "light"
     },
     "output_type": "display_data"
    }
   ],
   "source": [
    "fig, ax = plt.subplots(figsize=(16, 6))\n",
    "ax.plot(df2['t'], df2['Xmnk'], color='khaki', linewidth = 5, label='МНК')\n",
    "ax.plot(df2.t, [tetha_new[0] + tetha_new[1]*i for i in df2.t], color='brown', linewidth = 5, label='МНК новая')\n",
    "ax.scatter(df2['t'], df2['x'], color='mediumpurple', s=60, label='Наблюдения')\n",
    "ax.scatter(df_lol['t'], df_lol['x'], color='purple', s=60, label='Отброшенные')\n",
    "ax.set_xlabel('Параметры h')\n",
    "ax.set_ylabel('Значения Х')\n",
    "ax.grid()\n",
    "ax.legend()\n",
    "plt.show()"
   ]
  },
  {
   "cell_type": "code",
   "execution_count": 103,
   "id": "bdb722a2",
   "metadata": {},
   "outputs": [],
   "source": [
    "df_norm['Xmnk'] = np.array([tetha_new[0] + tetha_new[1]*i for i in df_norm.t])"
   ]
  },
  {
   "cell_type": "code",
   "execution_count": 104,
   "id": "3a738402",
   "metadata": {},
   "outputs": [],
   "source": [
    "df_norm['X_true-Xmnk'] = df_norm.x - df_norm['Xmnk']\n",
    "df_norm['(X_true-Xmnk)^2'] = (df_norm.x - df_norm['Xmnk'])**2"
   ]
  },
  {
   "cell_type": "code",
   "execution_count": 105,
   "id": "52ea1467",
   "metadata": {},
   "outputs": [
    {
     "data": {
      "text/html": [
       "<div>\n",
       "<style scoped>\n",
       "    .dataframe tbody tr th:only-of-type {\n",
       "        vertical-align: middle;\n",
       "    }\n",
       "\n",
       "    .dataframe tbody tr th {\n",
       "        vertical-align: top;\n",
       "    }\n",
       "\n",
       "    .dataframe thead th {\n",
       "        text-align: right;\n",
       "    }\n",
       "</style>\n",
       "<table border=\"1\" class=\"dataframe\">\n",
       "  <thead>\n",
       "    <tr style=\"text-align: right;\">\n",
       "      <th></th>\n",
       "      <th>0</th>\n",
       "      <th>1</th>\n",
       "      <th>2</th>\n",
       "      <th>3</th>\n",
       "      <th>5</th>\n",
       "      <th>6</th>\n",
       "      <th>7</th>\n",
       "      <th>9</th>\n",
       "      <th>10</th>\n",
       "      <th>11</th>\n",
       "      <th>...</th>\n",
       "      <th>49</th>\n",
       "      <th>50</th>\n",
       "      <th>52</th>\n",
       "      <th>53</th>\n",
       "      <th>54</th>\n",
       "      <th>55</th>\n",
       "      <th>56</th>\n",
       "      <th>57</th>\n",
       "      <th>58</th>\n",
       "      <th>59</th>\n",
       "    </tr>\n",
       "  </thead>\n",
       "  <tbody>\n",
       "    <tr>\n",
       "      <th>t</th>\n",
       "      <td>-1.191919</td>\n",
       "      <td>-1.151515</td>\n",
       "      <td>-1.111111</td>\n",
       "      <td>-1.070707</td>\n",
       "      <td>-0.989899</td>\n",
       "      <td>-0.949495</td>\n",
       "      <td>-0.909091</td>\n",
       "      <td>-0.828283</td>\n",
       "      <td>-0.787879</td>\n",
       "      <td>-0.747475</td>\n",
       "      <td>...</td>\n",
       "      <td>0.787879</td>\n",
       "      <td>0.828283</td>\n",
       "      <td>0.909091</td>\n",
       "      <td>0.949495</td>\n",
       "      <td>0.989899</td>\n",
       "      <td>1.030303</td>\n",
       "      <td>1.070707</td>\n",
       "      <td>1.111111</td>\n",
       "      <td>1.151515</td>\n",
       "      <td>1.191919</td>\n",
       "    </tr>\n",
       "    <tr>\n",
       "      <th>e</th>\n",
       "      <td>-0.999134</td>\n",
       "      <td>-2.423368</td>\n",
       "      <td>2.349522</td>\n",
       "      <td>-1.190705</td>\n",
       "      <td>2.990680</td>\n",
       "      <td>0.432753</td>\n",
       "      <td>-0.296234</td>\n",
       "      <td>0.357667</td>\n",
       "      <td>0.765355</td>\n",
       "      <td>-1.418208</td>\n",
       "      <td>...</td>\n",
       "      <td>-2.081143</td>\n",
       "      <td>-1.169585</td>\n",
       "      <td>1.300362</td>\n",
       "      <td>3.202984</td>\n",
       "      <td>0.063866</td>\n",
       "      <td>1.012708</td>\n",
       "      <td>-0.605727</td>\n",
       "      <td>0.863798</td>\n",
       "      <td>0.823213</td>\n",
       "      <td>1.428523</td>\n",
       "    </tr>\n",
       "    <tr>\n",
       "      <th>x</th>\n",
       "      <td>-2.879430</td>\n",
       "      <td>-4.577721</td>\n",
       "      <td>-0.079257</td>\n",
       "      <td>-3.886356</td>\n",
       "      <td>-0.185688</td>\n",
       "      <td>-2.943469</td>\n",
       "      <td>-3.837099</td>\n",
       "      <td>-3.387426</td>\n",
       "      <td>-3.012154</td>\n",
       "      <td>-5.178742</td>\n",
       "      <td>...</td>\n",
       "      <td>-1.303486</td>\n",
       "      <td>-0.380463</td>\n",
       "      <td>2.200995</td>\n",
       "      <td>4.202600</td>\n",
       "      <td>1.189195</td>\n",
       "      <td>2.287968</td>\n",
       "      <td>0.840510</td>\n",
       "      <td>2.498327</td>\n",
       "      <td>2.659182</td>\n",
       "      <td>3.474598</td>\n",
       "    </tr>\n",
       "    <tr>\n",
       "      <th>Xmnk</th>\n",
       "      <td>-3.197956</td>\n",
       "      <td>-3.095180</td>\n",
       "      <td>-2.992403</td>\n",
       "      <td>-2.889627</td>\n",
       "      <td>-2.684074</td>\n",
       "      <td>-2.581298</td>\n",
       "      <td>-2.478522</td>\n",
       "      <td>-2.272969</td>\n",
       "      <td>-2.170193</td>\n",
       "      <td>-2.067416</td>\n",
       "      <td>...</td>\n",
       "      <td>1.838085</td>\n",
       "      <td>1.940862</td>\n",
       "      <td>2.146414</td>\n",
       "      <td>2.249191</td>\n",
       "      <td>2.351967</td>\n",
       "      <td>2.454743</td>\n",
       "      <td>2.557520</td>\n",
       "      <td>2.660296</td>\n",
       "      <td>2.763072</td>\n",
       "      <td>2.865849</td>\n",
       "    </tr>\n",
       "    <tr>\n",
       "      <th>X_true</th>\n",
       "      <td>-1.880296</td>\n",
       "      <td>-2.154353</td>\n",
       "      <td>-2.428779</td>\n",
       "      <td>-2.695651</td>\n",
       "      <td>-3.176368</td>\n",
       "      <td>-3.376222</td>\n",
       "      <td>-3.540866</td>\n",
       "      <td>-3.745092</td>\n",
       "      <td>-3.777509</td>\n",
       "      <td>-3.760534</td>\n",
       "      <td>...</td>\n",
       "      <td>0.777656</td>\n",
       "      <td>0.789122</td>\n",
       "      <td>0.900633</td>\n",
       "      <td>0.999616</td>\n",
       "      <td>1.125329</td>\n",
       "      <td>1.275260</td>\n",
       "      <td>1.446237</td>\n",
       "      <td>1.634529</td>\n",
       "      <td>1.835969</td>\n",
       "      <td>2.046075</td>\n",
       "    </tr>\n",
       "    <tr>\n",
       "      <th>X_true-Xmnk</th>\n",
       "      <td>0.318526</td>\n",
       "      <td>-1.482542</td>\n",
       "      <td>2.913146</td>\n",
       "      <td>-0.996729</td>\n",
       "      <td>2.498386</td>\n",
       "      <td>-0.362171</td>\n",
       "      <td>-1.358578</td>\n",
       "      <td>-1.114457</td>\n",
       "      <td>-0.841961</td>\n",
       "      <td>-3.111325</td>\n",
       "      <td>...</td>\n",
       "      <td>-3.141571</td>\n",
       "      <td>-2.321324</td>\n",
       "      <td>0.054581</td>\n",
       "      <td>1.953409</td>\n",
       "      <td>-1.162772</td>\n",
       "      <td>-0.166776</td>\n",
       "      <td>-1.717010</td>\n",
       "      <td>-0.161969</td>\n",
       "      <td>-0.103891</td>\n",
       "      <td>0.608749</td>\n",
       "    </tr>\n",
       "    <tr>\n",
       "      <th>(X_true-Xmnk)^2</th>\n",
       "      <td>0.101459</td>\n",
       "      <td>2.197930</td>\n",
       "      <td>8.486421</td>\n",
       "      <td>0.993470</td>\n",
       "      <td>6.241935</td>\n",
       "      <td>0.131168</td>\n",
       "      <td>1.845733</td>\n",
       "      <td>1.242014</td>\n",
       "      <td>0.708899</td>\n",
       "      <td>9.680346</td>\n",
       "      <td>...</td>\n",
       "      <td>9.869471</td>\n",
       "      <td>5.388546</td>\n",
       "      <td>0.002979</td>\n",
       "      <td>3.815807</td>\n",
       "      <td>1.352039</td>\n",
       "      <td>0.027814</td>\n",
       "      <td>2.948123</td>\n",
       "      <td>0.026234</td>\n",
       "      <td>0.010793</td>\n",
       "      <td>0.370576</td>\n",
       "    </tr>\n",
       "  </tbody>\n",
       "</table>\n",
       "<p>7 rows × 51 columns</p>\n",
       "</div>"
      ],
      "text/plain": [
       "                       0         1         2         3         5         6   \\\n",
       "t               -1.191919 -1.151515 -1.111111 -1.070707 -0.989899 -0.949495   \n",
       "e               -0.999134 -2.423368  2.349522 -1.190705  2.990680  0.432753   \n",
       "x               -2.879430 -4.577721 -0.079257 -3.886356 -0.185688 -2.943469   \n",
       "Xmnk            -3.197956 -3.095180 -2.992403 -2.889627 -2.684074 -2.581298   \n",
       "X_true          -1.880296 -2.154353 -2.428779 -2.695651 -3.176368 -3.376222   \n",
       "X_true-Xmnk      0.318526 -1.482542  2.913146 -0.996729  2.498386 -0.362171   \n",
       "(X_true-Xmnk)^2  0.101459  2.197930  8.486421  0.993470  6.241935  0.131168   \n",
       "\n",
       "                       7         9         10        11  ...        49  \\\n",
       "t               -0.909091 -0.828283 -0.787879 -0.747475  ...  0.787879   \n",
       "e               -0.296234  0.357667  0.765355 -1.418208  ... -2.081143   \n",
       "x               -3.837099 -3.387426 -3.012154 -5.178742  ... -1.303486   \n",
       "Xmnk            -2.478522 -2.272969 -2.170193 -2.067416  ...  1.838085   \n",
       "X_true          -3.540866 -3.745092 -3.777509 -3.760534  ...  0.777656   \n",
       "X_true-Xmnk     -1.358578 -1.114457 -0.841961 -3.111325  ... -3.141571   \n",
       "(X_true-Xmnk)^2  1.845733  1.242014  0.708899  9.680346  ...  9.869471   \n",
       "\n",
       "                       50        52        53        54        55        56  \\\n",
       "t                0.828283  0.909091  0.949495  0.989899  1.030303  1.070707   \n",
       "e               -1.169585  1.300362  3.202984  0.063866  1.012708 -0.605727   \n",
       "x               -0.380463  2.200995  4.202600  1.189195  2.287968  0.840510   \n",
       "Xmnk             1.940862  2.146414  2.249191  2.351967  2.454743  2.557520   \n",
       "X_true           0.789122  0.900633  0.999616  1.125329  1.275260  1.446237   \n",
       "X_true-Xmnk     -2.321324  0.054581  1.953409 -1.162772 -0.166776 -1.717010   \n",
       "(X_true-Xmnk)^2  5.388546  0.002979  3.815807  1.352039  0.027814  2.948123   \n",
       "\n",
       "                       57        58        59  \n",
       "t                1.111111  1.151515  1.191919  \n",
       "e                0.863798  0.823213  1.428523  \n",
       "x                2.498327  2.659182  3.474598  \n",
       "Xmnk             2.660296  2.763072  2.865849  \n",
       "X_true           1.634529  1.835969  2.046075  \n",
       "X_true-Xmnk     -0.161969 -0.103891  0.608749  \n",
       "(X_true-Xmnk)^2  0.026234  0.010793  0.370576  \n",
       "\n",
       "[7 rows x 51 columns]"
      ]
     },
     "execution_count": 105,
     "metadata": {},
     "output_type": "execute_result"
    }
   ],
   "source": [
    "df_norm.T"
   ]
  },
  {
   "cell_type": "code",
   "execution_count": 106,
   "id": "c182cb63",
   "metadata": {},
   "outputs": [
    {
     "name": "stdout",
     "output_type": "stream",
     "text": [
      "Несмещенная оценка квадратов ошибки для МНК - 2.2154452547284293\n"
     ]
    }
   ],
   "source": [
    "sigma_e2 = df_norm['(X_true-Xmnk)^2'].sum()/(H.shape[0]-2)\n",
    "print(f'Несмещенная оценка квадратов ошибки для МНК - {sigma_e2}')"
   ]
  },
  {
   "cell_type": "markdown",
   "id": "05940963",
   "metadata": {},
   "source": [
    "$\\Large Для\\; остатков\\; \\hat{e_k} = X_k - \\hat{X_k}:$"
   ]
  },
  {
   "cell_type": "markdown",
   "id": "da0b0705",
   "metadata": {},
   "source": [
    "$\\Large - Построить \\; гистограмму\\; и \\; ядерную\\; оценку$"
   ]
  },
  {
   "cell_type": "code",
   "execution_count": 107,
   "id": "84271bad",
   "metadata": {},
   "outputs": [
    {
     "data": {
      "text/plain": [
       "<AxesSubplot:xlabel='X_true-Xmnk', ylabel='Count'>"
      ]
     },
     "execution_count": 107,
     "metadata": {},
     "output_type": "execute_result"
    },
    {
     "data": {
      "image/png": "[encoded data removed]",
      "text/plain": [
       "<Figure size 576x432 with 1 Axes>"
      ]
     },
     "metadata": {
      "needs_background": "light"
     },
     "output_type": "display_data"
    }
   ],
   "source": [
    "fig, ax = plt.subplots(figsize=(8, 6))\n",
    "sns.histplot(data=df_norm, x='X_true-Xmnk', kde=True, color='mediumpurple')"
   ]
  },
  {
   "cell_type": "markdown",
   "id": "3055a74f",
   "metadata": {},
   "source": [
    "### Критерий Дагостини\n"
   ]
  },
  {
   "cell_type": "code",
   "execution_count": 108,
   "id": "65c25117",
   "metadata": {},
   "outputs": [
    {
     "name": "stdout",
     "output_type": "stream",
     "text": [
      "Есть оcнования считать, что ошибки имеют нормальное распределение\n"
     ]
    }
   ],
   "source": [
    "res = normaltest(df_norm['X_true-Xmnk'])\n",
    "if res.pvalue > 0.05:\n",
    "    print('Есть оcнования считать, что ошибки имеют нормальное распределение')\n",
    "else:\n",
    "    print('Ошибки не имеют нормальное распределение')"
   ]
  },
  {
   "cell_type": "markdown",
   "id": "c668a42c",
   "metadata": {},
   "source": [
    "### Критерий Дарбина-Уотсона"
   ]
  },
  {
   "cell_type": "code",
   "execution_count": 109,
   "id": "3085c863",
   "metadata": {},
   "outputs": [],
   "source": [
    "e_ = (df_norm.x - df_norm['Xmnk']).to_numpy()"
   ]
  },
  {
   "cell_type": "code",
   "execution_count": 110,
   "id": "a5862a41",
   "metadata": {},
   "outputs": [
    {
     "name": "stdout",
     "output_type": "stream",
     "text": [
      "Значение Дарбина-Уотсона = 1.7070391503821578\n"
     ]
    }
   ],
   "source": [
    "e__ = []\n",
    "for i in range(1, len(e_)):\n",
    "    e__.append((e_[i] - e_[i-1])**2)\n",
    "DW = sum(e__)/df_norm['(X_true-Xmnk)^2'].sum()\n",
    "print(f'Значение Дарбина-Уотсона = {DW}')"
   ]
  },
  {
   "cell_type": "code",
   "execution_count": 111,
   "id": "a76a73c0",
   "metadata": {},
   "outputs": [
    {
     "data": {
      "text/plain": [
       "(1.47, 1.474)"
      ]
     },
     "execution_count": 111,
     "metadata": {},
     "output_type": "execute_result"
    }
   ],
   "source": [
    "dl = 1.51 - l*0.004\n",
    "du = 1.65 - l*0.02\n",
    "du, dl"
   ]
  },
  {
   "cell_type": "code",
   "execution_count": 112,
   "id": "6cb2e002",
   "metadata": {},
   "outputs": [
    {
     "name": "stdout",
     "output_type": "stream",
     "text": [
      "Нет корреляции\n"
     ]
    }
   ],
   "source": [
    "if 0 < DW < dl:\n",
    "    print('Есть положительная корреляция')\n",
    "elif dl < DW < du:\n",
    "    print('Гипотиза о наличии корреляции не отвергается и не принимается')\n",
    "elif du < DW < 4-du:\n",
    "    print('Нет корреляции')\n",
    "elif 4-du < DW < 4-dl:\n",
    "    print('Гипотиза о наличии корреляции не отвергается и не принимается') \n",
    "elif 4-dl < DW < 4:\n",
    "    print('Есть положительная корреляция')"
   ]
  },
  {
   "cell_type": "markdown",
   "id": "f0d33dff",
   "metadata": {},
   "source": [
    "### Критерий Бартлетта"
   ]
  },
  {
   "cell_type": "code",
   "execution_count": 113,
   "id": "e79eddac",
   "metadata": {},
   "outputs": [
    {
     "name": "stdout",
     "output_type": "stream",
     "text": [
      "Есть основания считать, что остатки равномерно разбросаны\n"
     ]
    }
   ],
   "source": [
    "a = df_norm['X_true-Xmnk'].to_numpy()\n",
    "a = a[0:51:3]\n",
    "b = a[1:51:3]\n",
    "c = a[2:51:3]\n",
    "res = bartlett(a, b, c)\n",
    "if res.pvalue > 0.05:\n",
    "    print('Есть основания считать, что остатки равномерно разбросаны')\n",
    "else:\n",
    "    print('Ошибки не имеют нормальное распределение')"
   ]
  },
  {
   "cell_type": "markdown",
   "id": "2391601b",
   "metadata": {},
   "source": [
    "$\\large По \\: критерию \\: Дагостини \\: вышло, \\: что \\: у \\: нас \\: есть \\: основания \\: считать \\: ошибки \\: нормально \\: распределенными. \\: По \\: Дарбину-Уотсону \\: значение \\: попало \\: в \\: 3 \\: область, \\: из \\: чего \\: следует, \\: что \\: нет \\: корреляция. \\: По \\: критерию \\: Бартлетта \\: – \\: есть \\: основания, \\: что \\: остатки \\: равномерно \\: разбросаны.$"
   ]
  },
  {
   "cell_type": "markdown",
   "id": "f87299aa",
   "metadata": {},
   "source": [
    "### Постороим МНМ-оценку"
   ]
  },
  {
   "cell_type": "code",
   "execution_count": 114,
   "id": "129e17df",
   "metadata": {},
   "outputs": [
    {
     "name": "stdout",
     "output_type": "stream",
     "text": [
      "МНM-оценка: -0.14660330207976568 2.743621539343104\n"
     ]
    }
   ],
   "source": [
    "reg = QuantileRegressor(quantile=0.5, alpha=0)\n",
    "reg.fit(H, df_norm.x)\n",
    "tetha_MNM = reg.coef_\n",
    "print('МНM-оценка:', tetha_MNM[0], tetha_MNM[1])"
   ]
  },
  {
   "cell_type": "code",
   "execution_count": 115,
   "id": "4b5f8120",
   "metadata": {},
   "outputs": [
    {
     "data": {
      "image/png": "[encoded data removed]",
      "text/plain": [
       "<Figure size 1152x432 with 1 Axes>"
      ]
     },
     "metadata": {
      "needs_background": "light"
     },
     "output_type": "display_data"
    }
   ],
   "source": [
    "fig, ax = plt.subplots(figsize=(16, 6))\n",
    "ax.plot(df2['t'], [tetha_MNM[0] + tetha_MNM[1]*i for i in df2.t], color='khaki', linewidth = 5, label='МНМ')\n",
    "ax.plot(df2.t, [tetha_new[0] + tetha_new[1]*i for i in df2.t], color='brown', linewidth = 5, label='МНК')\n",
    "ax.scatter(df_norm['t'], df_norm['x'], color='mediumpurple', s=60, label='Наблюдения')\n",
    "ax.set_xlabel('Параметры h')\n",
    "ax.set_ylabel('Значения Х')\n",
    "ax.grid()\n",
    "ax.legend()\n",
    "plt.show()"
   ]
  },
  {
   "cell_type": "code",
   "execution_count": 116,
   "id": "eecabb26",
   "metadata": {},
   "outputs": [],
   "source": [
    "df_norm['Xmnm'] = np.array([tetha_MNM[0] + tetha_MNM[1]*i for i in df_norm.t])\n",
    "df_norm['X_true-Xmnm'] = df_norm.x - df_norm['Xmnm']\n",
    "df_norm['(X_true-Xmnm)^2'] = (df_norm.x - df_norm['Xmnm'])**2"
   ]
  },
  {
   "cell_type": "markdown",
   "id": "a65d4805",
   "metadata": {},
   "source": [
    "$\\Large Для\\; остатков\\; \\hat{e_k} = X_k - \\hat{X_k}:$\n",
    "    $$$$\n",
    "$\\Large - Построить \\; гистограмму\\; и \\; ядерную\\; оценку$"
   ]
  },
  {
   "cell_type": "code",
   "execution_count": 117,
   "id": "45cce693",
   "metadata": {},
   "outputs": [
    {
     "data": {
      "text/plain": [
       "<AxesSubplot:xlabel='X_true-Xmnm', ylabel='Count'>"
      ]
     },
     "execution_count": 117,
     "metadata": {},
     "output_type": "execute_result"
    },
    {
     "data": {
      "image/png": "[encoded data removed]",
      "text/plain": [
       "<Figure size 576x432 with 1 Axes>"
      ]
     },
     "metadata": {
      "needs_background": "light"
     },
     "output_type": "display_data"
    }
   ],
   "source": [
    "fig, ax = plt.subplots(figsize=(8, 6))\n",
    "sns.histplot(data=df_norm, x='X_true-Xmnm', kde=True, color='mediumpurple')"
   ]
  },
  {
   "cell_type": "markdown",
   "id": "e02d89b9",
   "metadata": {},
   "source": [
    "### Критерий Дагостини"
   ]
  },
  {
   "cell_type": "code",
   "execution_count": 119,
   "id": "11161b67",
   "metadata": {},
   "outputs": [
    {
     "name": "stdout",
     "output_type": "stream",
     "text": [
      "Есть оcнования считать, что ошибки имеют нормальное распределение\n"
     ]
    }
   ],
   "source": [
    "res = normaltest(df_norm['X_true-Xmnm'])\n",
    "if res.pvalue > 0.05:\n",
    "    print('Есть оcнования считать, что ошибки имеют нормальное распределение')\n",
    "else:\n",
    "    print('Ошибки не имеют нормальное распределение')"
   ]
  },
  {
   "cell_type": "markdown",
   "id": "6960dc69",
   "metadata": {},
   "source": [
    "### Критерий Дарбина-Уотсона"
   ]
  },
  {
   "cell_type": "code",
   "execution_count": 120,
   "id": "ffce11d2",
   "metadata": {},
   "outputs": [
    {
     "name": "stdout",
     "output_type": "stream",
     "text": [
      "Значение Дарбина-Уотсона = 1.7070391503821578\n"
     ]
    }
   ],
   "source": [
    "e_ = (df_norm.x - df_norm['Xmnk']).to_numpy()\n",
    "e__ = []\n",
    "for i in range(1, len(e_)):\n",
    "    e__.append((e_[i] - e_[i-1])**2)\n",
    "DW = sum(e__)/df_norm['(X_true-Xmnk)^2'].sum()\n",
    "print(f'Значение Дарбина-Уотсона = {DW}')"
   ]
  },
  {
   "cell_type": "code",
   "execution_count": 121,
   "id": "ee712164",
   "metadata": {},
   "outputs": [
    {
     "name": "stdout",
     "output_type": "stream",
     "text": [
      "Нет корреляции\n"
     ]
    }
   ],
   "source": [
    "if 0 < DW < dl:\n",
    "    print('Есть положительная корреляция')\n",
    "elif dl < DW < du:\n",
    "    print('Гипотиза о наличии корреляции не отвергается и не принимается')\n",
    "elif du < DW < 4-du:\n",
    "    print('Нет корреляции')\n",
    "elif 4-du < DW < 4-dl:\n",
    "    print('Гипотиза о наличии корреляции не отвергается и не принимается') \n",
    "elif 4-dl < DW < 4:\n",
    "    print('Есть положительная корреляция')"
   ]
  },
  {
   "cell_type": "markdown",
   "id": "ec18d70d",
   "metadata": {},
   "source": [
    "### Критерий Бартлетта"
   ]
  },
  {
   "cell_type": "code",
   "execution_count": 122,
   "id": "3b128950",
   "metadata": {},
   "outputs": [
    {
     "name": "stdout",
     "output_type": "stream",
     "text": [
      "Есть основания считать, что остатки равномерно разбросаны\n"
     ]
    }
   ],
   "source": [
    "a = df_norm['X_true-Xmnm'].to_numpy()\n",
    "a = a[0:51:3]\n",
    "b = a[1:51:3]\n",
    "c = a[2:51:3]\n",
    "res = bartlett(a, b, c)\n",
    "if res.pvalue > 0.05:\n",
    "    print('Есть основания считать, что остатки равномерно разбросаны')\n",
    "else:\n",
    "    print('Ошибки не имеют нормальное распределение')"
   ]
  },
  {
   "cell_type": "markdown",
   "id": "46f48a8c",
   "metadata": {},
   "source": [
    "$\\large По \\: критерию \\: Дагостини \\: вышло, \\: что \\: у \\: нас \\: есть \\: основания \\: считать \\: ошибки \\: нормально \\: распределенными. \\: По \\: Дарбину-Уотсону \\: значение \\: попало \\: в \\: 3 \\: область, \\: из \\: чего \\: следует, \\: что \\: нет \\: корреляция. \\: По \\: критерию \\: Бартлетта \\: – \\: есть \\: основания, \\: что \\: остатки \\: равномерно \\: разбросаны.$"
   ]
  },
  {
   "cell_type": "markdown",
   "id": "dc037f21",
   "metadata": {},
   "source": [
    "## 2.5. Квантильная регрессия"
   ]
  },
  {
   "cell_type": "code",
   "execution_count": 123,
   "id": "ab405b7e",
   "metadata": {},
   "outputs": [],
   "source": [
    "df3 = pd.DataFrame(t[20:80], columns=['t'])\n",
    "df3_test = pd.DataFrame(np.append(t[0:20], t[80:100]), columns=['t'])"
   ]
  },
  {
   "cell_type": "code",
   "execution_count": 124,
   "id": "8ba7589a",
   "metadata": {},
   "outputs": [],
   "source": [
    "e = np.random.normal(mu, sigma, 100)"
   ]
  },
  {
   "cell_type": "code",
   "execution_count": 125,
   "id": "d9f11877",
   "metadata": {},
   "outputs": [
    {
     "data": {
      "text/plain": [
       "45"
      ]
     },
     "execution_count": 125,
     "metadata": {},
     "output_type": "execute_result"
    }
   ],
   "source": [
    "neg_e = []\n",
    "for e_ in e:\n",
    "    if e_ < 0:\n",
    "        neg_e.append(e_)\n",
    "len(neg_e)"
   ]
  },
  {
   "cell_type": "code",
   "execution_count": 126,
   "id": "4063910a",
   "metadata": {},
   "outputs": [],
   "source": [
    "neg_e = random.sample(neg_e, int(len(neg_e)*0.9))\n",
    "for i, e_ in enumerate(e):\n",
    "    if e_ in neg_e:\n",
    "        e[i] = -e_"
   ]
  },
  {
   "cell_type": "code",
   "execution_count": 127,
   "id": "1f308757",
   "metadata": {},
   "outputs": [],
   "source": [
    "df3['e'] = e[20:80]\n",
    "df3_test['e']= np.append(e[0:20], e[80:100])\n",
    "x = np.array([f_(t[i])+e[i] for i in range(len(t))])\n",
    "df3['x'] = x[20:80]\n",
    "df3_test['x']= np.append(x[0:20], x[80:100])"
   ]
  },
  {
   "cell_type": "code",
   "execution_count": 128,
   "id": "fadaac57",
   "metadata": {},
   "outputs": [
    {
     "data": {
      "text/html": [
       "<div>\n",
       "<style scoped>\n",
       "    .dataframe tbody tr th:only-of-type {\n",
       "        vertical-align: middle;\n",
       "    }\n",
       "\n",
       "    .dataframe tbody tr th {\n",
       "        vertical-align: top;\n",
       "    }\n",
       "\n",
       "    .dataframe thead th {\n",
       "        text-align: right;\n",
       "    }\n",
       "</style>\n",
       "<table border=\"1\" class=\"dataframe\">\n",
       "  <thead>\n",
       "    <tr style=\"text-align: right;\">\n",
       "      <th></th>\n",
       "      <th>0</th>\n",
       "      <th>1</th>\n",
       "      <th>2</th>\n",
       "      <th>3</th>\n",
       "      <th>4</th>\n",
       "      <th>5</th>\n",
       "      <th>6</th>\n",
       "      <th>7</th>\n",
       "      <th>8</th>\n",
       "      <th>9</th>\n",
       "      <th>...</th>\n",
       "      <th>50</th>\n",
       "      <th>51</th>\n",
       "      <th>52</th>\n",
       "      <th>53</th>\n",
       "      <th>54</th>\n",
       "      <th>55</th>\n",
       "      <th>56</th>\n",
       "      <th>57</th>\n",
       "      <th>58</th>\n",
       "      <th>59</th>\n",
       "    </tr>\n",
       "  </thead>\n",
       "  <tbody>\n",
       "    <tr>\n",
       "      <th>t</th>\n",
       "      <td>-1.191919</td>\n",
       "      <td>-1.151515</td>\n",
       "      <td>-1.111111</td>\n",
       "      <td>-1.070707</td>\n",
       "      <td>-1.030303</td>\n",
       "      <td>-0.989899</td>\n",
       "      <td>-0.949495</td>\n",
       "      <td>-0.909091</td>\n",
       "      <td>-0.868687</td>\n",
       "      <td>-0.828283</td>\n",
       "      <td>...</td>\n",
       "      <td>0.828283</td>\n",
       "      <td>0.868687</td>\n",
       "      <td>0.909091</td>\n",
       "      <td>0.949495</td>\n",
       "      <td>0.989899</td>\n",
       "      <td>1.030303</td>\n",
       "      <td>1.070707</td>\n",
       "      <td>1.111111</td>\n",
       "      <td>1.151515</td>\n",
       "      <td>1.191919</td>\n",
       "    </tr>\n",
       "    <tr>\n",
       "      <th>e</th>\n",
       "      <td>1.746388</td>\n",
       "      <td>0.234178</td>\n",
       "      <td>2.846826</td>\n",
       "      <td>1.030638</td>\n",
       "      <td>2.133751</td>\n",
       "      <td>1.269832</td>\n",
       "      <td>-0.401794</td>\n",
       "      <td>0.062231</td>\n",
       "      <td>1.699233</td>\n",
       "      <td>1.529659</td>\n",
       "      <td>...</td>\n",
       "      <td>0.781451</td>\n",
       "      <td>1.014415</td>\n",
       "      <td>0.247455</td>\n",
       "      <td>0.934949</td>\n",
       "      <td>1.018324</td>\n",
       "      <td>1.110069</td>\n",
       "      <td>1.386567</td>\n",
       "      <td>0.297805</td>\n",
       "      <td>0.533025</td>\n",
       "      <td>1.616558</td>\n",
       "    </tr>\n",
       "    <tr>\n",
       "      <th>x</th>\n",
       "      <td>-0.133908</td>\n",
       "      <td>-1.920175</td>\n",
       "      <td>0.418047</td>\n",
       "      <td>-1.665013</td>\n",
       "      <td>-0.813525</td>\n",
       "      <td>-1.906536</td>\n",
       "      <td>-3.778017</td>\n",
       "      <td>-3.478634</td>\n",
       "      <td>-1.965963</td>\n",
       "      <td>-2.215433</td>\n",
       "      <td>...</td>\n",
       "      <td>1.570573</td>\n",
       "      <td>1.844564</td>\n",
       "      <td>1.148088</td>\n",
       "      <td>1.934565</td>\n",
       "      <td>2.143653</td>\n",
       "      <td>2.385329</td>\n",
       "      <td>2.832804</td>\n",
       "      <td>1.932335</td>\n",
       "      <td>2.368994</td>\n",
       "      <td>3.662633</td>\n",
       "    </tr>\n",
       "  </tbody>\n",
       "</table>\n",
       "<p>3 rows × 60 columns</p>\n",
       "</div>"
      ],
      "text/plain": [
       "         0         1         2         3         4         5         6   \\\n",
       "t -1.191919 -1.151515 -1.111111 -1.070707 -1.030303 -0.989899 -0.949495   \n",
       "e  1.746388  0.234178  2.846826  1.030638  2.133751  1.269832 -0.401794   \n",
       "x -0.133908 -1.920175  0.418047 -1.665013 -0.813525 -1.906536 -3.778017   \n",
       "\n",
       "         7         8         9   ...        50        51        52        53  \\\n",
       "t -0.909091 -0.868687 -0.828283  ...  0.828283  0.868687  0.909091  0.949495   \n",
       "e  0.062231  1.699233  1.529659  ...  0.781451  1.014415  0.247455  0.934949   \n",
       "x -3.478634 -1.965963 -2.215433  ...  1.570573  1.844564  1.148088  1.934565   \n",
       "\n",
       "         54        55        56        57        58        59  \n",
       "t  0.989899  1.030303  1.070707  1.111111  1.151515  1.191919  \n",
       "e  1.018324  1.110069  1.386567  0.297805  0.533025  1.616558  \n",
       "x  2.143653  2.385329  2.832804  1.932335  2.368994  3.662633  \n",
       "\n",
       "[3 rows x 60 columns]"
      ]
     },
     "execution_count": 128,
     "metadata": {},
     "output_type": "execute_result"
    }
   ],
   "source": [
    "df3.T"
   ]
  },
  {
   "cell_type": "code",
   "execution_count": 129,
   "id": "4ba2f272",
   "metadata": {},
   "outputs": [
    {
     "data": {
      "text/html": [
       "<div>\n",
       "<style scoped>\n",
       "    .dataframe tbody tr th:only-of-type {\n",
       "        vertical-align: middle;\n",
       "    }\n",
       "\n",
       "    .dataframe tbody tr th {\n",
       "        vertical-align: top;\n",
       "    }\n",
       "\n",
       "    .dataframe thead th {\n",
       "        text-align: right;\n",
       "    }\n",
       "</style>\n",
       "<table border=\"1\" class=\"dataframe\">\n",
       "  <thead>\n",
       "    <tr style=\"text-align: right;\">\n",
       "      <th></th>\n",
       "      <th>0</th>\n",
       "      <th>1</th>\n",
       "      <th>2</th>\n",
       "      <th>3</th>\n",
       "      <th>4</th>\n",
       "      <th>5</th>\n",
       "      <th>6</th>\n",
       "      <th>7</th>\n",
       "      <th>8</th>\n",
       "      <th>9</th>\n",
       "      <th>...</th>\n",
       "      <th>30</th>\n",
       "      <th>31</th>\n",
       "      <th>32</th>\n",
       "      <th>33</th>\n",
       "      <th>34</th>\n",
       "      <th>35</th>\n",
       "      <th>36</th>\n",
       "      <th>37</th>\n",
       "      <th>38</th>\n",
       "      <th>39</th>\n",
       "    </tr>\n",
       "  </thead>\n",
       "  <tbody>\n",
       "    <tr>\n",
       "      <th>t</th>\n",
       "      <td>-2.000000</td>\n",
       "      <td>-1.959596</td>\n",
       "      <td>-1.919192</td>\n",
       "      <td>-1.878788</td>\n",
       "      <td>-1.838384</td>\n",
       "      <td>-1.797980</td>\n",
       "      <td>-1.757576</td>\n",
       "      <td>-1.717172</td>\n",
       "      <td>-1.676768</td>\n",
       "      <td>-1.636364</td>\n",
       "      <td>...</td>\n",
       "      <td>1.636364</td>\n",
       "      <td>1.676768</td>\n",
       "      <td>1.717172</td>\n",
       "      <td>1.757576</td>\n",
       "      <td>1.79798</td>\n",
       "      <td>1.838384</td>\n",
       "      <td>1.878788</td>\n",
       "      <td>1.919192</td>\n",
       "      <td>1.959596</td>\n",
       "      <td>2.000000</td>\n",
       "    </tr>\n",
       "    <tr>\n",
       "      <th>e</th>\n",
       "      <td>0.861239</td>\n",
       "      <td>1.638488</td>\n",
       "      <td>0.287031</td>\n",
       "      <td>1.029357</td>\n",
       "      <td>0.904099</td>\n",
       "      <td>0.644103</td>\n",
       "      <td>0.233442</td>\n",
       "      <td>0.843013</td>\n",
       "      <td>1.073111</td>\n",
       "      <td>1.009790</td>\n",
       "      <td>...</td>\n",
       "      <td>0.162996</td>\n",
       "      <td>0.421232</td>\n",
       "      <td>0.138701</td>\n",
       "      <td>1.062464</td>\n",
       "      <td>0.28176</td>\n",
       "      <td>1.259252</td>\n",
       "      <td>1.246083</td>\n",
       "      <td>1.001099</td>\n",
       "      <td>1.228055</td>\n",
       "      <td>0.484800</td>\n",
       "    </tr>\n",
       "    <tr>\n",
       "      <th>x</th>\n",
       "      <td>-3.077596</td>\n",
       "      <td>-1.863843</td>\n",
       "      <td>-2.785181</td>\n",
       "      <td>-1.626989</td>\n",
       "      <td>-1.358220</td>\n",
       "      <td>-1.253142</td>\n",
       "      <td>-1.334159</td>\n",
       "      <td>-0.436055</td>\n",
       "      <td>0.036712</td>\n",
       "      <td>0.166485</td>\n",
       "      <td>...</td>\n",
       "      <td>3.903713</td>\n",
       "      <td>4.192125</td>\n",
       "      <td>3.918074</td>\n",
       "      <td>4.831016</td>\n",
       "      <td>4.02324</td>\n",
       "      <td>4.961023</td>\n",
       "      <td>4.899582</td>\n",
       "      <td>4.602174</td>\n",
       "      <td>4.777178</td>\n",
       "      <td>3.987134</td>\n",
       "    </tr>\n",
       "  </tbody>\n",
       "</table>\n",
       "<p>3 rows × 40 columns</p>\n",
       "</div>"
      ],
      "text/plain": [
       "         0         1         2         3         4         5         6   \\\n",
       "t -2.000000 -1.959596 -1.919192 -1.878788 -1.838384 -1.797980 -1.757576   \n",
       "e  0.861239  1.638488  0.287031  1.029357  0.904099  0.644103  0.233442   \n",
       "x -3.077596 -1.863843 -2.785181 -1.626989 -1.358220 -1.253142 -1.334159   \n",
       "\n",
       "         7         8         9   ...        30        31        32        33  \\\n",
       "t -1.717172 -1.676768 -1.636364  ...  1.636364  1.676768  1.717172  1.757576   \n",
       "e  0.843013  1.073111  1.009790  ...  0.162996  0.421232  0.138701  1.062464   \n",
       "x -0.436055  0.036712  0.166485  ...  3.903713  4.192125  3.918074  4.831016   \n",
       "\n",
       "        34        35        36        37        38        39  \n",
       "t  1.79798  1.838384  1.878788  1.919192  1.959596  2.000000  \n",
       "e  0.28176  1.259252  1.246083  1.001099  1.228055  0.484800  \n",
       "x  4.02324  4.961023  4.899582  4.602174  4.777178  3.987134  \n",
       "\n",
       "[3 rows x 40 columns]"
      ]
     },
     "execution_count": 129,
     "metadata": {},
     "output_type": "execute_result"
    }
   ],
   "source": [
    "df3_test.T"
   ]
  },
  {
   "cell_type": "markdown",
   "id": "efc4948c",
   "metadata": {},
   "source": [
    "$\\large Построит \\; МНК-оценку \\; и \\; МНМ-оценку: $"
   ]
  },
  {
   "cell_type": "code",
   "execution_count": 130,
   "id": "4fd54e56",
   "metadata": {},
   "outputs": [
    {
     "name": "stdout",
     "output_type": "stream",
     "text": [
      "МНК-оценка: 0.6698793120607182 2.5097989497158015\n"
     ]
    }
   ],
   "source": [
    "H_T = np.array([[1 for i in range(60)], df3['t']])\n",
    "H2 = np.array([[1 for i in range(100)], t]).T\n",
    "H = H_T.T\n",
    "H.shape, H_T.shape\n",
    "W = np.dot(H_T, H)\n",
    "W = np.linalg.inv(W)\n",
    "HX = np.dot(H_T, df3.x)\n",
    "tetha = np.dot(W, HX)\n",
    "print('МНК-оценка:', tetha[0], tetha[1])"
   ]
  },
  {
   "cell_type": "code",
   "execution_count": 131,
   "id": "734b7adf",
   "metadata": {},
   "outputs": [],
   "source": [
    "reg = QuantileRegressor(quantile=0.5, alpha=0)\n",
    "reg.fit(H, df3.x)\n",
    "tetha_MNM = reg.coef_\n",
    "x_mnm = reg.predict(H)\n",
    "x_mnm2 = reg.predict(H2)"
   ]
  },
  {
   "cell_type": "code",
   "execution_count": 134,
   "id": "f3d04592",
   "metadata": {},
   "outputs": [
    {
     "data": {
      "image/png": "[encoded data removed]",
      "text/plain": [
       "<Figure size 1152x432 with 1 Axes>"
      ]
     },
     "metadata": {
      "needs_background": "light"
     },
     "output_type": "display_data"
    }
   ],
   "source": [
    "fig, ax = plt.subplots(figsize=(16, 6))\n",
    "ax.plot(t, [tetha[0] + tetha[1]*i for i in t], color='khaki', linewidth = 5, label='МНК')\n",
    "ax.plot(t, [f_(i) for i in t], '--',color='coral', linewidth = 5, label='Исходная функция')\n",
    "ax.plot(t, x_mnm2, color='brown', linewidth = 5, label='МНМ')\n",
    "ax.scatter(df3['t'], df3['x'], color='mediumpurple', s=60, label='Наблюдения')\n",
    "ax.scatter(df3_test['t'], df3_test['x'], color='purple', s=60, label='Тесты')\n",
    "ax.set_xlabel('Параметры h')\n",
    "ax.set_ylabel('Значения Х')\n",
    "ax.grid()\n",
    "ax.legend()\n",
    "plt.show()"
   ]
  },
  {
   "cell_type": "code",
   "execution_count": 135,
   "id": "bd6a05b6",
   "metadata": {},
   "outputs": [],
   "source": [
    "df3['Xmnk'] = np.array([tetha[0] + tetha[1]*i for i in df3.t])\n",
    "df3['Xmnm'] = x_mnm\n",
    "df3['X_true-Xmnk'] = (df3.x - df3['Xmnk'])\n",
    "df3['X_true-Xmnm'] = (df3.x - df3['Xmnm'])\n",
    "df3['(X_true-Xmnk)^2'] = (df3.x - df3['Xmnk'])**2\n",
    "df3['(X_true-Xmnm)^2'] = (df3.x - df3['Xmnm'])**2"
   ]
  },
  {
   "cell_type": "code",
   "execution_count": 136,
   "id": "ea8ef942",
   "metadata": {},
   "outputs": [
    {
     "data": {
      "text/html": [
       "<div>\n",
       "<style scoped>\n",
       "    .dataframe tbody tr th:only-of-type {\n",
       "        vertical-align: middle;\n",
       "    }\n",
       "\n",
       "    .dataframe tbody tr th {\n",
       "        vertical-align: top;\n",
       "    }\n",
       "\n",
       "    .dataframe thead th {\n",
       "        text-align: right;\n",
       "    }\n",
       "</style>\n",
       "<table border=\"1\" class=\"dataframe\">\n",
       "  <thead>\n",
       "    <tr style=\"text-align: right;\">\n",
       "      <th></th>\n",
       "      <th>0</th>\n",
       "      <th>1</th>\n",
       "      <th>2</th>\n",
       "      <th>3</th>\n",
       "      <th>4</th>\n",
       "      <th>5</th>\n",
       "      <th>6</th>\n",
       "      <th>7</th>\n",
       "      <th>8</th>\n",
       "      <th>9</th>\n",
       "      <th>...</th>\n",
       "      <th>50</th>\n",
       "      <th>51</th>\n",
       "      <th>52</th>\n",
       "      <th>53</th>\n",
       "      <th>54</th>\n",
       "      <th>55</th>\n",
       "      <th>56</th>\n",
       "      <th>57</th>\n",
       "      <th>58</th>\n",
       "      <th>59</th>\n",
       "    </tr>\n",
       "  </thead>\n",
       "  <tbody>\n",
       "    <tr>\n",
       "      <th>t</th>\n",
       "      <td>-1.191919</td>\n",
       "      <td>-1.151515</td>\n",
       "      <td>-1.111111</td>\n",
       "      <td>-1.070707</td>\n",
       "      <td>-1.030303</td>\n",
       "      <td>-9.898990e-01</td>\n",
       "      <td>-0.949495</td>\n",
       "      <td>-0.909091</td>\n",
       "      <td>-0.868687</td>\n",
       "      <td>-0.828283</td>\n",
       "      <td>...</td>\n",
       "      <td>0.828283</td>\n",
       "      <td>0.868687</td>\n",
       "      <td>0.909091</td>\n",
       "      <td>0.949495</td>\n",
       "      <td>0.989899</td>\n",
       "      <td>1.030303</td>\n",
       "      <td>1.070707</td>\n",
       "      <td>1.111111</td>\n",
       "      <td>1.151515</td>\n",
       "      <td>1.191919</td>\n",
       "    </tr>\n",
       "    <tr>\n",
       "      <th>e</th>\n",
       "      <td>1.746388</td>\n",
       "      <td>0.234178</td>\n",
       "      <td>2.846826</td>\n",
       "      <td>1.030638</td>\n",
       "      <td>2.133751</td>\n",
       "      <td>1.269832e+00</td>\n",
       "      <td>-0.401794</td>\n",
       "      <td>0.062231</td>\n",
       "      <td>1.699233</td>\n",
       "      <td>1.529659</td>\n",
       "      <td>...</td>\n",
       "      <td>0.781451</td>\n",
       "      <td>1.014415</td>\n",
       "      <td>0.247455</td>\n",
       "      <td>0.934949</td>\n",
       "      <td>1.018324</td>\n",
       "      <td>1.110069</td>\n",
       "      <td>1.386567</td>\n",
       "      <td>0.297805</td>\n",
       "      <td>0.533025</td>\n",
       "      <td>1.616558</td>\n",
       "    </tr>\n",
       "    <tr>\n",
       "      <th>x</th>\n",
       "      <td>-0.133908</td>\n",
       "      <td>-1.920175</td>\n",
       "      <td>0.418047</td>\n",
       "      <td>-1.665013</td>\n",
       "      <td>-0.813525</td>\n",
       "      <td>-1.906536e+00</td>\n",
       "      <td>-3.778017</td>\n",
       "      <td>-3.478634</td>\n",
       "      <td>-1.965963</td>\n",
       "      <td>-2.215433</td>\n",
       "      <td>...</td>\n",
       "      <td>1.570573</td>\n",
       "      <td>1.844564</td>\n",
       "      <td>1.148088</td>\n",
       "      <td>1.934565</td>\n",
       "      <td>2.143653</td>\n",
       "      <td>2.385329</td>\n",
       "      <td>2.832804</td>\n",
       "      <td>1.932335</td>\n",
       "      <td>2.368994</td>\n",
       "      <td>3.662633</td>\n",
       "    </tr>\n",
       "    <tr>\n",
       "      <th>Xmnk</th>\n",
       "      <td>-2.321598</td>\n",
       "      <td>-2.220192</td>\n",
       "      <td>-2.118786</td>\n",
       "      <td>-2.017380</td>\n",
       "      <td>-1.915974</td>\n",
       "      <td>-1.814568e+00</td>\n",
       "      <td>-1.713162</td>\n",
       "      <td>-1.611756</td>\n",
       "      <td>-1.510350</td>\n",
       "      <td>-1.408944</td>\n",
       "      <td>...</td>\n",
       "      <td>2.748703</td>\n",
       "      <td>2.850109</td>\n",
       "      <td>2.951515</td>\n",
       "      <td>3.052921</td>\n",
       "      <td>3.154327</td>\n",
       "      <td>3.255733</td>\n",
       "      <td>3.357139</td>\n",
       "      <td>3.458545</td>\n",
       "      <td>3.559951</td>\n",
       "      <td>3.661357</td>\n",
       "    </tr>\n",
       "    <tr>\n",
       "      <th>Xmnm</th>\n",
       "      <td>-2.346977</td>\n",
       "      <td>-2.258889</td>\n",
       "      <td>-2.170800</td>\n",
       "      <td>-2.082712</td>\n",
       "      <td>-1.994624</td>\n",
       "      <td>-1.906536e+00</td>\n",
       "      <td>-1.818447</td>\n",
       "      <td>-1.730359</td>\n",
       "      <td>-1.642271</td>\n",
       "      <td>-1.554182</td>\n",
       "      <td>...</td>\n",
       "      <td>2.057437</td>\n",
       "      <td>2.145526</td>\n",
       "      <td>2.233614</td>\n",
       "      <td>2.321702</td>\n",
       "      <td>2.409790</td>\n",
       "      <td>2.497879</td>\n",
       "      <td>2.585967</td>\n",
       "      <td>2.674055</td>\n",
       "      <td>2.762144</td>\n",
       "      <td>2.850232</td>\n",
       "    </tr>\n",
       "    <tr>\n",
       "      <th>X_true-Xmnk</th>\n",
       "      <td>2.187690</td>\n",
       "      <td>0.300017</td>\n",
       "      <td>2.536834</td>\n",
       "      <td>0.352367</td>\n",
       "      <td>1.102450</td>\n",
       "      <td>-9.196744e-02</td>\n",
       "      <td>-2.064854</td>\n",
       "      <td>-1.866878</td>\n",
       "      <td>-0.455613</td>\n",
       "      <td>-0.806489</td>\n",
       "      <td>...</td>\n",
       "      <td>-1.178129</td>\n",
       "      <td>-1.005545</td>\n",
       "      <td>-1.803427</td>\n",
       "      <td>-1.118356</td>\n",
       "      <td>-1.010674</td>\n",
       "      <td>-0.870404</td>\n",
       "      <td>-0.524334</td>\n",
       "      <td>-1.526210</td>\n",
       "      <td>-1.190957</td>\n",
       "      <td>0.001276</td>\n",
       "    </tr>\n",
       "    <tr>\n",
       "      <th>X_true-Xmnm</th>\n",
       "      <td>2.213069</td>\n",
       "      <td>0.338713</td>\n",
       "      <td>2.588848</td>\n",
       "      <td>0.417699</td>\n",
       "      <td>1.181099</td>\n",
       "      <td>-1.199263e-12</td>\n",
       "      <td>-1.959569</td>\n",
       "      <td>-1.748275</td>\n",
       "      <td>-0.323692</td>\n",
       "      <td>-0.661251</td>\n",
       "      <td>...</td>\n",
       "      <td>-0.486864</td>\n",
       "      <td>-0.300961</td>\n",
       "      <td>-1.085526</td>\n",
       "      <td>-0.387137</td>\n",
       "      <td>-0.266138</td>\n",
       "      <td>-0.112550</td>\n",
       "      <td>0.246837</td>\n",
       "      <td>-0.741720</td>\n",
       "      <td>-0.393150</td>\n",
       "      <td>0.812401</td>\n",
       "    </tr>\n",
       "    <tr>\n",
       "      <th>(X_true-Xmnk)^2</th>\n",
       "      <td>4.785987</td>\n",
       "      <td>0.090010</td>\n",
       "      <td>6.435525</td>\n",
       "      <td>0.124163</td>\n",
       "      <td>1.215395</td>\n",
       "      <td>8.458010e-03</td>\n",
       "      <td>4.263624</td>\n",
       "      <td>3.485233</td>\n",
       "      <td>0.207583</td>\n",
       "      <td>0.650424</td>\n",
       "      <td>...</td>\n",
       "      <td>1.387988</td>\n",
       "      <td>1.011120</td>\n",
       "      <td>3.252349</td>\n",
       "      <td>1.250720</td>\n",
       "      <td>1.021462</td>\n",
       "      <td>0.757603</td>\n",
       "      <td>0.274927</td>\n",
       "      <td>2.329317</td>\n",
       "      <td>1.418378</td>\n",
       "      <td>0.000002</td>\n",
       "    </tr>\n",
       "    <tr>\n",
       "      <th>(X_true-Xmnm)^2</th>\n",
       "      <td>4.897673</td>\n",
       "      <td>0.114727</td>\n",
       "      <td>6.702133</td>\n",
       "      <td>0.174473</td>\n",
       "      <td>1.394995</td>\n",
       "      <td>1.438232e-24</td>\n",
       "      <td>3.839912</td>\n",
       "      <td>3.056466</td>\n",
       "      <td>0.104777</td>\n",
       "      <td>0.437252</td>\n",
       "      <td>...</td>\n",
       "      <td>0.237036</td>\n",
       "      <td>0.090578</td>\n",
       "      <td>1.178367</td>\n",
       "      <td>0.149875</td>\n",
       "      <td>0.070829</td>\n",
       "      <td>0.012667</td>\n",
       "      <td>0.060929</td>\n",
       "      <td>0.550149</td>\n",
       "      <td>0.154567</td>\n",
       "      <td>0.659996</td>\n",
       "    </tr>\n",
       "  </tbody>\n",
       "</table>\n",
       "<p>9 rows × 60 columns</p>\n",
       "</div>"
      ],
      "text/plain": [
       "                       0         1         2         3         4   \\\n",
       "t               -1.191919 -1.151515 -1.111111 -1.070707 -1.030303   \n",
       "e                1.746388  0.234178  2.846826  1.030638  2.133751   \n",
       "x               -0.133908 -1.920175  0.418047 -1.665013 -0.813525   \n",
       "Xmnk            -2.321598 -2.220192 -2.118786 -2.017380 -1.915974   \n",
       "Xmnm            -2.346977 -2.258889 -2.170800 -2.082712 -1.994624   \n",
       "X_true-Xmnk      2.187690  0.300017  2.536834  0.352367  1.102450   \n",
       "X_true-Xmnm      2.213069  0.338713  2.588848  0.417699  1.181099   \n",
       "(X_true-Xmnk)^2  4.785987  0.090010  6.435525  0.124163  1.215395   \n",
       "(X_true-Xmnm)^2  4.897673  0.114727  6.702133  0.174473  1.394995   \n",
       "\n",
       "                           5         6         7         8         9   ...  \\\n",
       "t               -9.898990e-01 -0.949495 -0.909091 -0.868687 -0.828283  ...   \n",
       "e                1.269832e+00 -0.401794  0.062231  1.699233  1.529659  ...   \n",
       "x               -1.906536e+00 -3.778017 -3.478634 -1.965963 -2.215433  ...   \n",
       "Xmnk            -1.814568e+00 -1.713162 -1.611756 -1.510350 -1.408944  ...   \n",
       "Xmnm            -1.906536e+00 -1.818447 -1.730359 -1.642271 -1.554182  ...   \n",
       "X_true-Xmnk     -9.196744e-02 -2.064854 -1.866878 -0.455613 -0.806489  ...   \n",
       "X_true-Xmnm     -1.199263e-12 -1.959569 -1.748275 -0.323692 -0.661251  ...   \n",
       "(X_true-Xmnk)^2  8.458010e-03  4.263624  3.485233  0.207583  0.650424  ...   \n",
       "(X_true-Xmnm)^2  1.438232e-24  3.839912  3.056466  0.104777  0.437252  ...   \n",
       "\n",
       "                       50        51        52        53        54        55  \\\n",
       "t                0.828283  0.868687  0.909091  0.949495  0.989899  1.030303   \n",
       "e                0.781451  1.014415  0.247455  0.934949  1.018324  1.110069   \n",
       "x                1.570573  1.844564  1.148088  1.934565  2.143653  2.385329   \n",
       "Xmnk             2.748703  2.850109  2.951515  3.052921  3.154327  3.255733   \n",
       "Xmnm             2.057437  2.145526  2.233614  2.321702  2.409790  2.497879   \n",
       "X_true-Xmnk     -1.178129 -1.005545 -1.803427 -1.118356 -1.010674 -0.870404   \n",
       "X_true-Xmnm     -0.486864 -0.300961 -1.085526 -0.387137 -0.266138 -0.112550   \n",
       "(X_true-Xmnk)^2  1.387988  1.011120  3.252349  1.250720  1.021462  0.757603   \n",
       "(X_true-Xmnm)^2  0.237036  0.090578  1.178367  0.149875  0.070829  0.012667   \n",
       "\n",
       "                       56        57        58        59  \n",
       "t                1.070707  1.111111  1.151515  1.191919  \n",
       "e                1.386567  0.297805  0.533025  1.616558  \n",
       "x                2.832804  1.932335  2.368994  3.662633  \n",
       "Xmnk             3.357139  3.458545  3.559951  3.661357  \n",
       "Xmnm             2.585967  2.674055  2.762144  2.850232  \n",
       "X_true-Xmnk     -0.524334 -1.526210 -1.190957  0.001276  \n",
       "X_true-Xmnm      0.246837 -0.741720 -0.393150  0.812401  \n",
       "(X_true-Xmnk)^2  0.274927  2.329317  1.418378  0.000002  \n",
       "(X_true-Xmnm)^2  0.060929  0.550149  0.154567  0.659996  \n",
       "\n",
       "[9 rows x 60 columns]"
      ]
     },
     "execution_count": 136,
     "metadata": {},
     "output_type": "execute_result"
    }
   ],
   "source": [
    "df3.T"
   ]
  },
  {
   "cell_type": "code",
   "execution_count": 137,
   "id": "3ea899a2",
   "metadata": {},
   "outputs": [
    {
     "name": "stdout",
     "output_type": "stream",
     "text": [
      "Несмещенная оценка квадратов ошибки для МНК - 2.3118902325552777\n"
     ]
    }
   ],
   "source": [
    "sigma_mnke2 = df3['(X_true-Xmnk)^2'].sum()/(60-2) \n",
    "print(f'Несмещенная оценка квадратов ошибки для МНК - {sigma_mnke2}')"
   ]
  },
  {
   "cell_type": "code",
   "execution_count": 138,
   "id": "d1586ff2",
   "metadata": {},
   "outputs": [
    {
     "name": "stdout",
     "output_type": "stream",
     "text": [
      "Несмещенная оценка квадратов ошибки для МНК - 2.5478851908879143\n"
     ]
    }
   ],
   "source": [
    "sigma_mnme2 = df3['(X_true-Xmnm)^2'].sum()/(60-2) \n",
    "print(f'Несмещенная оценка квадратов ошибки для МНК - {sigma_mnme2}')"
   ]
  },
  {
   "cell_type": "code",
   "execution_count": 139,
   "id": "022ecb0b",
   "metadata": {},
   "outputs": [
    {
     "data": {
      "text/plain": [
       "<AxesSubplot:xlabel='X_true-Xmnm', ylabel='Count'>"
      ]
     },
     "execution_count": 139,
     "metadata": {},
     "output_type": "execute_result"
    },
    {
     "data": {
      "image/png": "[encoded data removed]",
      "text/plain": [
       "<Figure size 1152x432 with 2 Axes>"
      ]
     },
     "metadata": {
      "needs_background": "light"
     },
     "output_type": "display_data"
    }
   ],
   "source": [
    "fig, ax = plt.subplots(1, 2, figsize=(16, 6))\n",
    "sns.histplot(data=df3['X_true-Xmnk'], kde=True, color='mediumpurple', ax=ax[0])\n",
    "sns.histplot(data=df3['X_true-Xmnm'], kde=True, color='mediumpurple', ax=ax[1])"
   ]
  },
  {
   "cell_type": "markdown",
   "id": "e230ab10",
   "metadata": {},
   "source": [
    "$\\large Построим \\; оценку \\; методом\\; квантильной \\; регрессии \\; со \\;значением \\; \\alpha = 0.1\\; и\\; 0.9$ "
   ]
  },
  {
   "cell_type": "code",
   "execution_count": 140,
   "id": "0e10a6fb",
   "metadata": {},
   "outputs": [],
   "source": [
    "reg = QuantileRegressor(quantile=0.1, alpha=0)\n",
    "reg.fit(H, df3.x)\n",
    "x_mnm01 = reg.predict(H2)"
   ]
  },
  {
   "cell_type": "code",
   "execution_count": 141,
   "id": "5eea70d2",
   "metadata": {},
   "outputs": [],
   "source": [
    "reg = QuantileRegressor(quantile=0.9, alpha=0)\n",
    "reg.fit(H, df3.x)\n",
    "x_mnm09 = reg.predict(H2)"
   ]
  },
  {
   "cell_type": "code",
   "execution_count": 142,
   "id": "888cabec",
   "metadata": {},
   "outputs": [
    {
     "data": {
      "image/png": "[encoded data removed]",
      "text/plain": [
       "<Figure size 1152x432 with 1 Axes>"
      ]
     },
     "metadata": {
      "needs_background": "light"
     },
     "output_type": "display_data"
    }
   ],
   "source": [
    "fig, ax = plt.subplots(figsize=(16, 6))\n",
    "ax.plot(t, [tetha[0] + tetha[1]*i for i in t], color='khaki', linewidth = 5, label='МНК')\n",
    "ax.plot(t, x_mnm2, color='brown', linewidth = 5, label='МНМ')\n",
    "ax.plot(t, x_mnm01, color='orange', linewidth = 3, label='a=0.1')\n",
    "ax.plot(t, x_mnm09, color='orange', linewidth = 3, label='a=0.9')\n",
    "ax.scatter(df3['t'], df3['x'], color='mediumpurple', s=60, label='Наблюдения')\n",
    "ax.scatter(df3_test['t'], df3_test['x'], color='purple', s=60, label='Тесты')\n",
    "ax.set_xlabel('Параметры h')\n",
    "ax.set_ylabel('Значения Х')\n",
    "ax.grid()\n",
    "ax.legend()\n",
    "plt.show()"
   ]
  }
 ],
 "metadata": {
  "celltoolbar": "Необработанный формат ячейки",
  "kernelspec": {
   "display_name": "Python 3 (ipykernel)",
   "language": "python",
   "name": "python3"
  },
  "language_info": {
   "codemirror_mode": {
    "name": "ipython",
    "version": 3
   },
   "file_extension": ".py",
   "mimetype": "text/x-python",
   "name": "python",
   "nbconvert_exporter": "python",
   "pygments_lexer": "ipython3",
   "version": "3.9.7"
  }
 },
 "nbformat": 4,
 "nbformat_minor": 5
}
